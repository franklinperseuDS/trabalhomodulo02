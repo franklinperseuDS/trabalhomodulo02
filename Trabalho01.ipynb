{
  "nbformat": 4,
  "nbformat_minor": 0,
  "metadata": {
    "colab": {
      "name": "Trabalho01.ipynb",
      "provenance": [],
      "include_colab_link": true
    },
    "kernelspec": {
      "name": "python3",
      "display_name": "Python 3"
    }
  },
  "cells": [
    {
      "cell_type": "markdown",
      "metadata": {
        "id": "view-in-github",
        "colab_type": "text"
      },
      "source": [
        "<a href=\"https://colab.research.google.com/github/franklinperseuDS/trabalhomodulo02/blob/master/Trabalho01.ipynb\" target=\"_parent\"><img src=\"https://colab.research.google.com/assets/colab-badge.svg\" alt=\"Open In Colab\"/></a>"
      ]
    },
    {
      "cell_type": "markdown",
      "metadata": {
        "id": "vCIpwM9EfnA0",
        "colab_type": "text"
      },
      "source": [
        "###Coletando os dados para o trabalho"
      ]
    },
    {
      "cell_type": "code",
      "metadata": {
        "id": "HZPi6yFxhsIe",
        "colab_type": "code",
        "colab": {}
      },
      "source": [
        "import pandas as pd"
      ],
      "execution_count": null,
      "outputs": []
    },
    {
      "cell_type": "code",
      "metadata": {
        "id": "UJHxw1MkU4uS",
        "colab_type": "code",
        "colab": {
          "base_uri": "https://localhost:8080/",
          "height": 208
        },
        "outputId": "bb217a35-eaa2-473b-ef2f-b0604d7a0189"
      },
      "source": [
        "!wget http://tiagodemelo.info/datasets/dados-curso-completo.csv.tar.gz"
      ],
      "execution_count": null,
      "outputs": [
        {
          "output_type": "stream",
          "text": [
            "--2020-09-20 23:44:19--  http://tiagodemelo.info/datasets/dados-curso-completo.csv.tar.gz\n",
            "Resolving tiagodemelo.info (tiagodemelo.info)... 108.167.188.189\n",
            "Connecting to tiagodemelo.info (tiagodemelo.info)|108.167.188.189|:80... connected.\n",
            "HTTP request sent, awaiting response... 200 OK\n",
            "Length: 143340808 (137M) [application/x-gzip]\n",
            "Saving to: ‘dados-curso-completo.csv.tar.gz’\n",
            "\n",
            "dados-curso-complet 100%[===================>] 136.70M  45.3MB/s    in 3.0s    \n",
            "\n",
            "2020-09-20 23:44:23 (45.3 MB/s) - ‘dados-curso-completo.csv.tar.gz’ saved [143340808/143340808]\n",
            "\n"
          ],
          "name": "stdout"
        }
      ]
    },
    {
      "cell_type": "markdown",
      "metadata": {
        "id": "iy4FbtDlgl2U",
        "colab_type": "text"
      },
      "source": [
        "###Extraindo o arquivo gz\n",
        "  "
      ]
    },
    {
      "cell_type": "code",
      "metadata": {
        "id": "gksxr3H8gr6g",
        "colab_type": "code",
        "colab": {}
      },
      "source": [
        "import gzip\n",
        "import shutil\n",
        "\n",
        "with gzip.open('dados-curso-completo.csv.tar.gz', 'rb') as entrada:\n",
        "    with open('dados-curso.csv', 'wb') as saida:\n",
        "        shutil.copyfileobj(entrada, saida)"
      ],
      "execution_count": null,
      "outputs": []
    },
    {
      "cell_type": "markdown",
      "metadata": {
        "id": "NxHZasQ6hXmE",
        "colab_type": "text"
      },
      "source": [
        "###adicionando os arquivos em um dataframe"
      ]
    },
    {
      "cell_type": "code",
      "metadata": {
        "id": "504qjpTvhhGL",
        "colab_type": "code",
        "colab": {}
      },
      "source": [
        "dados = pd.read_csv(\"/content/dados-curso.csv\")"
      ],
      "execution_count": null,
      "outputs": []
    },
    {
      "cell_type": "code",
      "metadata": {
        "id": "Sab7GZEutLWN",
        "colab_type": "code",
        "colab": {}
      },
      "source": [
        "dados = pd.DataFrame(dados)"
      ],
      "execution_count": null,
      "outputs": []
    },
    {
      "cell_type": "code",
      "metadata": {
        "id": "gKpKES7Tv4Xo",
        "colab_type": "code",
        "colab": {
          "base_uri": "https://localhost:8080/",
          "height": 34
        },
        "outputId": "98ae5f52-02a2-4b8e-d49f-e3de5afa8cb3"
      },
      "source": [
        "type(dados)"
      ],
      "execution_count": null,
      "outputs": [
        {
          "output_type": "execute_result",
          "data": {
            "text/plain": [
              "pandas.core.frame.DataFrame"
            ]
          },
          "metadata": {
            "tags": []
          },
          "execution_count": 7
        }
      ]
    },
    {
      "cell_type": "markdown",
      "metadata": {
        "id": "mj6MwgmmiCKL",
        "colab_type": "text"
      },
      "source": [
        "###verificando a quantidade de linhas x colunas do Dataset"
      ]
    },
    {
      "cell_type": "code",
      "metadata": {
        "id": "rFHuAlkWh6kj",
        "colab_type": "code",
        "colab": {
          "base_uri": "https://localhost:8080/",
          "height": 34
        },
        "outputId": "9fc43771-34af-4947-8010-42a865e4f59c"
      },
      "source": [
        "dados.shape"
      ],
      "execution_count": 68,
      "outputs": [
        {
          "output_type": "execute_result",
          "data": {
            "text/plain": [
              "(1658826, 13)"
            ]
          },
          "metadata": {
            "tags": []
          },
          "execution_count": 68
        }
      ]
    },
    {
      "cell_type": "code",
      "metadata": {
        "id": "VvnXhmqkC5Ch",
        "colab_type": "code",
        "colab": {
          "base_uri": "https://localhost:8080/",
          "height": 306
        },
        "outputId": "6ee5a9c0-908a-4ce9-dd2c-b56da7ecc686"
      },
      "source": [
        "\n",
        "dados.head()"
      ],
      "execution_count": 78,
      "outputs": [
        {
          "output_type": "execute_result",
          "data": {
            "text/html": [
              "<div>\n",
              "<style scoped>\n",
              "    .dataframe tbody tr th:only-of-type {\n",
              "        vertical-align: middle;\n",
              "    }\n",
              "\n",
              "    .dataframe tbody tr th {\n",
              "        vertical-align: top;\n",
              "    }\n",
              "\n",
              "    .dataframe thead th {\n",
              "        text-align: right;\n",
              "    }\n",
              "</style>\n",
              "<table border=\"1\" class=\"dataframe\">\n",
              "  <thead>\n",
              "    <tr style=\"text-align: right;\">\n",
              "      <th></th>\n",
              "      <th>dados-curso-completo.csv</th>\n",
              "      <th>usuario</th>\n",
              "      <th>apelido</th>\n",
              "      <th>texto</th>\n",
              "      <th>retweet</th>\n",
              "      <th>seguidores</th>\n",
              "      <th>idioma</th>\n",
              "      <th>lugar</th>\n",
              "      <th>pais</th>\n",
              "      <th>sigla</th>\n",
              "      <th>latitude</th>\n",
              "      <th>longitude</th>\n",
              "      <th>hashtags</th>\n",
              "    </tr>\n",
              "  </thead>\n",
              "  <tbody>\n",
              "    <tr>\n",
              "      <th>0</th>\n",
              "      <td>2020-03-23 18:51:14</td>\n",
              "      <td>Gaboardi</td>\n",
              "      <td>fraslee</td>\n",
              "      <td>@BolsonaroSP Cade o fundão deputado??? Congres...</td>\n",
              "      <td>0.0</td>\n",
              "      <td>138.0</td>\n",
              "      <td>pt</td>\n",
              "      <td>NaN</td>\n",
              "      <td>NaN</td>\n",
              "      <td>NaN</td>\n",
              "      <td>NaN</td>\n",
              "      <td>NaN</td>\n",
              "      <td>[]</td>\n",
              "    </tr>\n",
              "    <tr>\n",
              "      <th>1</th>\n",
              "      <td>2020-03-18 03:18:14</td>\n",
              "      <td>Seu Zé da Farmácia</td>\n",
              "      <td>seuzedafarmacia</td>\n",
              "      <td>Em ação preventiva, o Governo do Estado suspen...</td>\n",
              "      <td>0.0</td>\n",
              "      <td>56.0</td>\n",
              "      <td>pt</td>\n",
              "      <td>NaN</td>\n",
              "      <td>NaN</td>\n",
              "      <td>NaN</td>\n",
              "      <td>NaN</td>\n",
              "      <td>NaN</td>\n",
              "      <td>[]</td>\n",
              "    </tr>\n",
              "    <tr>\n",
              "      <th>2</th>\n",
              "      <td>2020-03-29 12:09:27</td>\n",
              "      <td>Marília Oliveira 🇧🇷</td>\n",
              "      <td>Marioliveira_gb</td>\n",
              "      <td>Incrível como os defensores do fim do distanci...</td>\n",
              "      <td>0.0</td>\n",
              "      <td>5.0</td>\n",
              "      <td>pt</td>\n",
              "      <td>NaN</td>\n",
              "      <td>NaN</td>\n",
              "      <td>NaN</td>\n",
              "      <td>NaN</td>\n",
              "      <td>NaN</td>\n",
              "      <td>[]</td>\n",
              "    </tr>\n",
              "    <tr>\n",
              "      <th>3</th>\n",
              "      <td>2020-04-01 21:11:07</td>\n",
              "      <td>🚩</td>\n",
              "      <td>santosodeto</td>\n",
              "      <td>Fumaça de cigarro pode propagar coronavírus? h...</td>\n",
              "      <td>0.0</td>\n",
              "      <td>1885.0</td>\n",
              "      <td>pt</td>\n",
              "      <td>NaN</td>\n",
              "      <td>NaN</td>\n",
              "      <td>NaN</td>\n",
              "      <td>NaN</td>\n",
              "      <td>NaN</td>\n",
              "      <td>[]</td>\n",
              "    </tr>\n",
              "    <tr>\n",
              "      <th>4</th>\n",
              "      <td>2020-03-19 17:49:40</td>\n",
              "      <td>Nova Impressão</td>\n",
              "      <td>novaimpressao_</td>\n",
              "      <td>🚨Todos juntos contra COVID-19💪\\n\\nSolicite seu...</td>\n",
              "      <td>0.0</td>\n",
              "      <td>124.0</td>\n",
              "      <td>pt</td>\n",
              "      <td>Brasília</td>\n",
              "      <td>Brazil</td>\n",
              "      <td>BR</td>\n",
              "      <td>-47.8778</td>\n",
              "      <td>-15.77691</td>\n",
              "      <td>[]</td>\n",
              "    </tr>\n",
              "  </tbody>\n",
              "</table>\n",
              "</div>"
            ],
            "text/plain": [
              "  dados-curso-completo.csv              usuario  ... longitude hashtags\n",
              "0      2020-03-23 18:51:14             Gaboardi  ...       NaN       []\n",
              "1      2020-03-18 03:18:14   Seu Zé da Farmácia  ...       NaN       []\n",
              "2      2020-03-29 12:09:27  Marília Oliveira 🇧🇷  ...       NaN       []\n",
              "3      2020-04-01 21:11:07                    🚩  ...       NaN       []\n",
              "4      2020-03-19 17:49:40       Nova Impressão  ... -15.77691       []\n",
              "\n",
              "[5 rows x 13 columns]"
            ]
          },
          "metadata": {
            "tags": []
          },
          "execution_count": 78
        }
      ]
    },
    {
      "cell_type": "code",
      "metadata": {
        "id": "VL-FI_-7E5eb",
        "colab_type": "code",
        "colab": {}
      },
      "source": [
        ""
      ],
      "execution_count": null,
      "outputs": []
    },
    {
      "cell_type": "markdown",
      "metadata": {
        "id": "3qVpFUphCyMH",
        "colab_type": "text"
      },
      "source": [
        "###Verificar quantos brasileiros tem \n"
      ]
    },
    {
      "cell_type": "code",
      "metadata": {
        "id": "cK8zQHsxCxik",
        "colab_type": "code",
        "colab": {}
      },
      "source": [
        "dados.loc[dados.idioma == 'pt']"
      ],
      "execution_count": null,
      "outputs": []
    },
    {
      "cell_type": "code",
      "metadata": {
        "id": "rVn0q7EXD0zX",
        "colab_type": "code",
        "colab": {}
      },
      "source": [
        "dados"
      ],
      "execution_count": null,
      "outputs": []
    },
    {
      "cell_type": "markdown",
      "metadata": {
        "id": "PrvsXyYg2AwI",
        "colab_type": "text"
      },
      "source": [
        "###Criando uma copia do dataframe \n"
      ]
    },
    {
      "cell_type": "code",
      "metadata": {
        "id": "o7upq2O1y2ee",
        "colab_type": "code",
        "colab": {}
      },
      "source": [
        "dados2 = dados.copy()"
      ],
      "execution_count": null,
      "outputs": []
    },
    {
      "cell_type": "markdown",
      "metadata": {
        "id": "rc-yIxzsf8j-",
        "colab_type": "text"
      },
      "source": [
        "###Verificando se tem dados duplicados e limpando os duplicados\n",
        "\n",
        "####Apenas de curiosidade"
      ]
    },
    {
      "cell_type": "code",
      "metadata": {
        "id": "l5Ha4Z2Qi3ix",
        "colab_type": "code",
        "colab": {}
      },
      "source": [
        "#verificando\n",
        "dados2.duplicated()"
      ],
      "execution_count": null,
      "outputs": []
    },
    {
      "cell_type": "code",
      "metadata": {
        "id": "wgAbQys8f8Fu",
        "colab_type": "code",
        "colab": {}
      },
      "source": [
        "#Limpando\n",
        "dados2 = dados2.drop_duplicates()"
      ],
      "execution_count": null,
      "outputs": []
    },
    {
      "cell_type": "code",
      "metadata": {
        "id": "CbDB-jaVitv3",
        "colab_type": "code",
        "colab": {
          "base_uri": "https://localhost:8080/",
          "height": 34
        },
        "outputId": "afef4c78-9a8a-4811-b41a-163bc5b7713f"
      },
      "source": [
        "#pouca diferença entre linhas duplicadas\n",
        "dados2.shape"
      ],
      "execution_count": null,
      "outputs": [
        {
          "output_type": "execute_result",
          "data": {
            "text/plain": [
              "(1658824, 13)"
            ]
          },
          "metadata": {
            "tags": []
          },
          "execution_count": 48
        }
      ]
    },
    {
      "cell_type": "markdown",
      "metadata": {
        "id": "IkLj1OY32fTI",
        "colab_type": "text"
      },
      "source": [
        "###limpando se tem dados em branco (NaN)"
      ]
    },
    {
      "cell_type": "code",
      "metadata": {
        "id": "sdBhzqbtiw3Z",
        "colab_type": "code",
        "colab": {}
      },
      "source": [
        "dados2.dropna()"
      ],
      "execution_count": null,
      "outputs": []
    },
    {
      "cell_type": "code",
      "metadata": {
        "id": "qQ381egokhZk",
        "colab_type": "code",
        "colab": {
          "base_uri": "https://localhost:8080/",
          "height": 34
        },
        "outputId": "3965b908-f960-4b89-c286-cb572a311c50"
      },
      "source": [
        "dados2.shape"
      ],
      "execution_count": null,
      "outputs": [
        {
          "output_type": "execute_result",
          "data": {
            "text/plain": [
              "(1658824, 13)"
            ]
          },
          "metadata": {
            "tags": []
          },
          "execution_count": 51
        }
      ]
    },
    {
      "cell_type": "markdown",
      "metadata": {
        "id": "rvNPYILLkkBa",
        "colab_type": "text"
      },
      "source": [
        "dados.texto.str.contains('?')"
      ]
    },
    {
      "cell_type": "code",
      "metadata": {
        "id": "CpDQwm0HknqH",
        "colab_type": "code",
        "colab": {}
      },
      "source": [
        "dados.head()"
      ],
      "execution_count": null,
      "outputs": []
    },
    {
      "cell_type": "code",
      "metadata": {
        "id": "4QfZI2m0kfDB",
        "colab_type": "code",
        "colab": {}
      },
      "source": [
        "dados['texto'][0]"
      ],
      "execution_count": null,
      "outputs": []
    },
    {
      "cell_type": "code",
      "metadata": {
        "id": "jWjCAVJTkaMZ",
        "colab_type": "code",
        "colab": {
          "base_uri": "https://localhost:8080/",
          "height": 255
        },
        "outputId": "729d6796-e50d-46b6-bc76-f2dfe2077b95"
      },
      "source": [
        "dados.iloc[0]"
      ],
      "execution_count": 67,
      "outputs": [
        {
          "output_type": "execute_result",
          "data": {
            "text/plain": [
              "dados-curso-completo.csv                                  2020-03-23 18:51:14\n",
              "usuario                                                              Gaboardi\n",
              "apelido                                                               fraslee\n",
              "texto                       @BolsonaroSP Cade o fundão deputado??? Congres...\n",
              "retweet                                                                     0\n",
              "seguidores                                                                138\n",
              "idioma                                                                     pt\n",
              "lugar                                                                     NaN\n",
              "pais                                                                      NaN\n",
              "sigla                                                                     NaN\n",
              "latitude                                                                  NaN\n",
              "longitude                                                                 NaN\n",
              "hashtags                                                                   []\n",
              "Name: 0, dtype: object"
            ]
          },
          "metadata": {
            "tags": []
          },
          "execution_count": 67
        }
      ]
    },
    {
      "cell_type": "code",
      "metadata": {
        "id": "7wgSH-8DjzC7",
        "colab_type": "code",
        "colab": {
          "base_uri": "https://localhost:8080/",
          "height": 221
        },
        "outputId": "15c367da-9cf5-4fd2-acf1-3b6c37b3f1f1"
      },
      "source": [
        "dados.texto.str.contains('?', regex = False, )"
      ],
      "execution_count": 65,
      "outputs": [
        {
          "output_type": "execute_result",
          "data": {
            "text/plain": [
              "0           True\n",
              "1          False\n",
              "2          False\n",
              "3           True\n",
              "4          False\n",
              "           ...  \n",
              "1658821     True\n",
              "1658822    False\n",
              "1658823    False\n",
              "1658824    False\n",
              "1658825      NaN\n",
              "Name: texto, Length: 1658826, dtype: object"
            ]
          },
          "metadata": {
            "tags": []
          },
          "execution_count": 65
        }
      ]
    }
  ]
}