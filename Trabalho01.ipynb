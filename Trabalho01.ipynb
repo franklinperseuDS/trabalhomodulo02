{
  "nbformat": 4,
  "nbformat_minor": 0,
  "metadata": {
    "colab": {
      "name": "Trabalho01.ipynb",
      "provenance": [],
      "collapsed_sections": [
        "axx1lvlKbCgV",
        "iy4FbtDlgl2U",
        "NxHZasQ6hXmE",
        "mj6MwgmmiCKL",
        "4W_ocGLUOo6w",
        "eiUba12BXvUf",
        "VRQS2bVBYUep",
        "jmZg_gXBY3ZB",
        "llOz2Zd4b2dj",
        "3z3YQmMKrRz_",
        "3qVpFUphCyMH",
        "8yfKm5zXHvZx"
      ],
      "toc_visible": true,
      "include_colab_link": true
    },
    "kernelspec": {
      "name": "python3",
      "display_name": "Python 3"
    }
  },
  "cells": [
    {
      "cell_type": "markdown",
      "metadata": {
        "id": "view-in-github",
        "colab_type": "text"
      },
      "source": [
        "<a href=\"https://colab.research.google.com/github/franklinperseuDS/trabalhomodulo02/blob/master/Trabalho01.ipynb\" target=\"_parent\"><img src=\"https://colab.research.google.com/assets/colab-badge.svg\" alt=\"Open In Colab\"/></a>"
      ]
    },
    {
      "cell_type": "markdown",
      "metadata": {
        "id": "KGXyRQrWYrTN"
      },
      "source": [
        "#Trabalho de programação em ciência de dados modulo 02 dos alunos : Felipe Brasil Guimarães e Franklin Perseu de Lima e Lima"
      ]
    },
    {
      "cell_type": "markdown",
      "metadata": {
        "id": "2_XugzGn1gCO"
      },
      "source": [
        "# Devem apresentar um resumo (sumário) com as estat´ısticas dos dados originais, ou seja, sem qualquer pr´e-processamento. A apresentação deste tipo de informação é relevante para que outras pessoas possam ter uma visão geral dos dados. As estat´ısticas podem ser apresentadas atrav´es de tabelas e/ou gr´aficos. http://tiagodemelo.info/datasets/dados-curso-completo.csv.tar.gz"
      ]
    },
    {
      "cell_type": "markdown",
      "metadata": {
        "id": "vCIpwM9EfnA0"
      },
      "source": [
        "###Coletando os dados para o trabalho"
      ]
    },
    {
      "cell_type": "markdown",
      "metadata": {
        "id": "axx1lvlKbCgV"
      },
      "source": [
        "####instalando pacotes"
      ]
    },
    {
      "cell_type": "code",
      "metadata": {
        "id": "Q0Hm5JwXbIot",
        "outputId": "b0eca434-6400-48d6-82c1-9babfa66e0d9",
        "colab": {
          "base_uri": "https://localhost:8080/",
          "height": 245
        }
      },
      "source": [
        "!pip install mplleaflet"
      ],
      "execution_count": null,
      "outputs": [
        {
          "output_type": "stream",
          "text": [
            "Collecting mplleaflet\n",
            "  Downloading https://files.pythonhosted.org/packages/05/b3/e68ff575ef0872e096878c75f602e76b06ca44d7038d69d867c7b800745b/mplleaflet-0.0.5.tar.gz\n",
            "Requirement already satisfied: jinja2 in /usr/local/lib/python3.6/dist-packages (from mplleaflet) (2.11.2)\n",
            "Requirement already satisfied: six in /usr/local/lib/python3.6/dist-packages (from mplleaflet) (1.15.0)\n",
            "Requirement already satisfied: MarkupSafe>=0.23 in /usr/local/lib/python3.6/dist-packages (from jinja2->mplleaflet) (1.1.1)\n",
            "Building wheels for collected packages: mplleaflet\n",
            "  Building wheel for mplleaflet (setup.py) ... \u001b[?25l\u001b[?25hdone\n",
            "  Created wheel for mplleaflet: filename=mplleaflet-0.0.5-cp36-none-any.whl size=28555 sha256=fb6ff8775fd1171d186b7bc9b24a1ce7a696007c53608737108997cfa281d964\n",
            "  Stored in directory: /root/.cache/pip/wheels/bf/fd/0b/0513de62c339c4a56e2234aa42a5d06e6660a4446fdae7b796\n",
            "Successfully built mplleaflet\n",
            "Installing collected packages: mplleaflet\n",
            "Successfully installed mplleaflet-0.0.5\n"
          ],
          "name": "stdout"
        }
      ]
    },
    {
      "cell_type": "code",
      "metadata": {
        "id": "tV7gMTC1hKN4",
        "outputId": "dd2f283f-3335-4a6e-8857-70a907a308af",
        "colab": {
          "base_uri": "https://localhost:8080/",
          "height": 521
        }
      },
      "source": [
        "!apt-get install -q libgeos-3.5.0\n",
        "!apt-get install -q libgeos-dev\n",
        "!pip install -q https://github.com/matplotlib/basemap/archive/master.zip"
      ],
      "execution_count": null,
      "outputs": [
        {
          "output_type": "stream",
          "text": [
            "Reading package lists...\n",
            "Building dependency tree...\n",
            "Reading state information...\n",
            "E: Unable to locate package libgeos-3.5.0\n",
            "E: Couldn't find any package by glob 'libgeos-3.5.0'\n",
            "E: Couldn't find any package by regex 'libgeos-3.5.0'\n",
            "Reading package lists...\n",
            "Building dependency tree...\n",
            "Reading state information...\n",
            "Suggested packages:\n",
            "  libgdal-doc\n",
            "The following NEW packages will be installed:\n",
            "  libgeos-dev\n",
            "0 upgraded, 1 newly installed, 0 to remove and 6 not upgraded.\n",
            "Need to get 73.1 kB of archives.\n",
            "After this operation, 486 kB of additional disk space will be used.\n",
            "Get:1 http://archive.ubuntu.com/ubuntu bionic/universe amd64 libgeos-dev amd64 3.6.2-1build2 [73.1 kB]\n",
            "Fetched 73.1 kB in 1s (68.7 kB/s)\n",
            "Selecting previously unselected package libgeos-dev.\n",
            "(Reading database ... 144617 files and directories currently installed.)\n",
            "Preparing to unpack .../libgeos-dev_3.6.2-1build2_amd64.deb ...\n",
            "Unpacking libgeos-dev (3.6.2-1build2) ...\n",
            "Setting up libgeos-dev (3.6.2-1build2) ...\n",
            "Processing triggers for man-db (2.8.3-2ubuntu0.1) ...\n",
            "\u001b[K     |████████████████████████████████| 133.1MB 82kB/s \n",
            "\u001b[K     |████████████████████████████████| 10.9MB 2.7MB/s \n",
            "\u001b[K     |████████████████████████████████| 225kB 48.2MB/s \n",
            "\u001b[?25h  Building wheel for basemap (setup.py) ... \u001b[?25l\u001b[?25hdone\n",
            "  Building wheel for pyshp (setup.py) ... \u001b[?25l\u001b[?25hdone\n"
          ],
          "name": "stdout"
        }
      ]
    },
    {
      "cell_type": "code",
      "metadata": {
        "id": "nF8qlNCXhRmB",
        "outputId": "62e1660e-393d-4ee5-8c4a-523594a9271a",
        "colab": {
          "base_uri": "https://localhost:8080/",
          "height": 52
        }
      },
      "source": [
        "!pip install -q pyproj==1.9.6"
      ],
      "execution_count": null,
      "outputs": [
        {
          "output_type": "stream",
          "text": [
            "\u001b[K     |████████████████████████████████| 2.8MB 2.8MB/s \n",
            "\u001b[?25h  Building wheel for pyproj (setup.py) ... \u001b[?25l\u001b[?25hdone\n"
          ],
          "name": "stdout"
        }
      ]
    },
    {
      "cell_type": "markdown",
      "metadata": {
        "id": "TfEjkfH1ckU-"
      },
      "source": [
        "####fazendo os imports."
      ]
    },
    {
      "cell_type": "code",
      "metadata": {
        "id": "HZPi6yFxhsIe"
      },
      "source": [
        "import pandas as pd\n",
        "import numpy as np\n",
        "%matplotlib inline\n",
        "from mpl_toolkits.basemap import Basemap\n",
        "from matplotlib import pyplot as plt\n",
        "import nltk\n",
        "from nltk import sent_tokenize\n",
        "import mplleaflet\n",
        "import re\n",
        "\n",
        "\n"
      ],
      "execution_count": null,
      "outputs": []
    },
    {
      "cell_type": "code",
      "metadata": {
        "id": "UJHxw1MkU4uS",
        "outputId": "198618cd-46b1-4065-faf5-eea00b2ad08d",
        "colab": {
          "base_uri": "https://localhost:8080/",
          "height": 208
        }
      },
      "source": [
        "!wget http://tiagodemelo.info/datasets/dados-curso-completo.csv.tar.gz"
      ],
      "execution_count": null,
      "outputs": [
        {
          "output_type": "stream",
          "text": [
            "--2020-10-10 00:46:55--  http://tiagodemelo.info/datasets/dados-curso-completo.csv.tar.gz\n",
            "Resolving tiagodemelo.info (tiagodemelo.info)... 108.167.188.189\n",
            "Connecting to tiagodemelo.info (tiagodemelo.info)|108.167.188.189|:80... connected.\n",
            "HTTP request sent, awaiting response... 200 OK\n",
            "Length: 143340808 (137M) [application/x-gzip]\n",
            "Saving to: ‘dados-curso-completo.csv.tar.gz’\n",
            "\n",
            "dados-curso-complet 100%[===================>] 136.70M  15.9MB/s    in 10s     \n",
            "\n",
            "2020-10-10 00:47:06 (13.7 MB/s) - ‘dados-curso-completo.csv.tar.gz’ saved [143340808/143340808]\n",
            "\n"
          ],
          "name": "stdout"
        }
      ]
    },
    {
      "cell_type": "markdown",
      "metadata": {
        "id": "iy4FbtDlgl2U"
      },
      "source": [
        "###Extraindo o arquivo gz\n",
        "  "
      ]
    },
    {
      "cell_type": "code",
      "metadata": {
        "id": "gksxr3H8gr6g"
      },
      "source": [
        "import gzip\n",
        "import shutil\n",
        "\n",
        "with gzip.open('dados-curso-completo.csv.tar.gz', 'rb') as entrada:\n",
        "    with open('dados-curso.csv', 'wb') as saida:\n",
        "        shutil.copyfileobj(entrada, saida)"
      ],
      "execution_count": null,
      "outputs": []
    },
    {
      "cell_type": "markdown",
      "metadata": {
        "id": "NxHZasQ6hXmE"
      },
      "source": [
        "###adicionando os arquivos em um dataframe"
      ]
    },
    {
      "cell_type": "code",
      "metadata": {
        "id": "504qjpTvhhGL"
      },
      "source": [
        "dados = pd.read_csv(\"/content/dados-curso.csv\")"
      ],
      "execution_count": null,
      "outputs": []
    },
    {
      "cell_type": "code",
      "metadata": {
        "id": "Sab7GZEutLWN"
      },
      "source": [
        "dados = pd.DataFrame(dados)"
      ],
      "execution_count": null,
      "outputs": []
    },
    {
      "cell_type": "code",
      "metadata": {
        "id": "gKpKES7Tv4Xo",
        "outputId": "9314eb83-1f96-46ff-b9bc-0766d19e960d",
        "colab": {
          "base_uri": "https://localhost:8080/",
          "height": 34
        }
      },
      "source": [
        "type(dados)"
      ],
      "execution_count": null,
      "outputs": [
        {
          "output_type": "execute_result",
          "data": {
            "text/plain": [
              "pandas.core.frame.DataFrame"
            ]
          },
          "metadata": {
            "tags": []
          },
          "execution_count": 9
        }
      ]
    },
    {
      "cell_type": "markdown",
      "metadata": {
        "id": "mj6MwgmmiCKL"
      },
      "source": [
        "###verificando a quantidade de linhas x colunas do Dataset"
      ]
    },
    {
      "cell_type": "code",
      "metadata": {
        "id": "rFHuAlkWh6kj",
        "outputId": "0e72f3a5-6c6f-49d9-9a77-59b0b9cd54b2",
        "colab": {
          "base_uri": "https://localhost:8080/",
          "height": 34
        }
      },
      "source": [
        "dados.shape"
      ],
      "execution_count": null,
      "outputs": [
        {
          "output_type": "execute_result",
          "data": {
            "text/plain": [
              "(1658826, 13)"
            ]
          },
          "metadata": {
            "tags": []
          },
          "execution_count": 10
        }
      ]
    },
    {
      "cell_type": "markdown",
      "metadata": {
        "id": "4W_ocGLUOo6w"
      },
      "source": [
        "###Visualização dos Dados,os 5 primeiros  e os 5 últimos"
      ]
    },
    {
      "cell_type": "code",
      "metadata": {
        "id": "VvnXhmqkC5Ch",
        "outputId": "221e6fe9-8db2-447b-93fb-f6bec4e94cc8",
        "colab": {
          "base_uri": "https://localhost:8080/",
          "height": 574
        }
      },
      "source": [
        "dados.head()"
      ],
      "execution_count": null,
      "outputs": [
        {
          "output_type": "execute_result",
          "data": {
            "text/html": [
              "<div>\n",
              "<style scoped>\n",
              "    .dataframe tbody tr th:only-of-type {\n",
              "        vertical-align: middle;\n",
              "    }\n",
              "\n",
              "    .dataframe tbody tr th {\n",
              "        vertical-align: top;\n",
              "    }\n",
              "\n",
              "    .dataframe thead th {\n",
              "        text-align: right;\n",
              "    }\n",
              "</style>\n",
              "<table border=\"1\" class=\"dataframe\">\n",
              "  <thead>\n",
              "    <tr style=\"text-align: right;\">\n",
              "      <th></th>\n",
              "      <th>dados-curso-completo.csv</th>\n",
              "      <th>usuario</th>\n",
              "      <th>apelido</th>\n",
              "      <th>texto</th>\n",
              "      <th>retweet</th>\n",
              "      <th>seguidores</th>\n",
              "      <th>idioma</th>\n",
              "      <th>lugar</th>\n",
              "      <th>pais</th>\n",
              "      <th>sigla</th>\n",
              "      <th>latitude</th>\n",
              "      <th>longitude</th>\n",
              "      <th>hashtags</th>\n",
              "    </tr>\n",
              "  </thead>\n",
              "  <tbody>\n",
              "    <tr>\n",
              "      <th>0</th>\n",
              "      <td>2020-03-23 18:51:14</td>\n",
              "      <td>Gaboardi</td>\n",
              "      <td>fraslee</td>\n",
              "      <td>@BolsonaroSP Cade o fundão deputado??? Congres...</td>\n",
              "      <td>0.0</td>\n",
              "      <td>138.0</td>\n",
              "      <td>pt</td>\n",
              "      <td>NaN</td>\n",
              "      <td>NaN</td>\n",
              "      <td>NaN</td>\n",
              "      <td>NaN</td>\n",
              "      <td>NaN</td>\n",
              "      <td>[]</td>\n",
              "    </tr>\n",
              "    <tr>\n",
              "      <th>1</th>\n",
              "      <td>2020-03-18 03:18:14</td>\n",
              "      <td>Seu Zé da Farmácia</td>\n",
              "      <td>seuzedafarmacia</td>\n",
              "      <td>Em ação preventiva, o Governo do Estado suspen...</td>\n",
              "      <td>0.0</td>\n",
              "      <td>56.0</td>\n",
              "      <td>pt</td>\n",
              "      <td>NaN</td>\n",
              "      <td>NaN</td>\n",
              "      <td>NaN</td>\n",
              "      <td>NaN</td>\n",
              "      <td>NaN</td>\n",
              "      <td>[]</td>\n",
              "    </tr>\n",
              "    <tr>\n",
              "      <th>2</th>\n",
              "      <td>2020-03-29 12:09:27</td>\n",
              "      <td>Marília Oliveira 🇧🇷</td>\n",
              "      <td>Marioliveira_gb</td>\n",
              "      <td>Incrível como os defensores do fim do distanci...</td>\n",
              "      <td>0.0</td>\n",
              "      <td>5.0</td>\n",
              "      <td>pt</td>\n",
              "      <td>NaN</td>\n",
              "      <td>NaN</td>\n",
              "      <td>NaN</td>\n",
              "      <td>NaN</td>\n",
              "      <td>NaN</td>\n",
              "      <td>[]</td>\n",
              "    </tr>\n",
              "    <tr>\n",
              "      <th>3</th>\n",
              "      <td>2020-04-01 21:11:07</td>\n",
              "      <td>🚩</td>\n",
              "      <td>santosodeto</td>\n",
              "      <td>Fumaça de cigarro pode propagar coronavírus? h...</td>\n",
              "      <td>0.0</td>\n",
              "      <td>1885.0</td>\n",
              "      <td>pt</td>\n",
              "      <td>NaN</td>\n",
              "      <td>NaN</td>\n",
              "      <td>NaN</td>\n",
              "      <td>NaN</td>\n",
              "      <td>NaN</td>\n",
              "      <td>[]</td>\n",
              "    </tr>\n",
              "    <tr>\n",
              "      <th>4</th>\n",
              "      <td>2020-03-19 17:49:40</td>\n",
              "      <td>Nova Impressão</td>\n",
              "      <td>novaimpressao_</td>\n",
              "      <td>🚨Todos juntos contra COVID-19💪\\n\\nSolicite seu...</td>\n",
              "      <td>0.0</td>\n",
              "      <td>124.0</td>\n",
              "      <td>pt</td>\n",
              "      <td>Brasília</td>\n",
              "      <td>Brazil</td>\n",
              "      <td>BR</td>\n",
              "      <td>-47.8778</td>\n",
              "      <td>-15.77691</td>\n",
              "      <td>[]</td>\n",
              "    </tr>\n",
              "  </tbody>\n",
              "</table>\n",
              "</div>"
            ],
            "text/plain": [
              "  dados-curso-completo.csv              usuario  ... longitude hashtags\n",
              "0      2020-03-23 18:51:14             Gaboardi  ...       NaN       []\n",
              "1      2020-03-18 03:18:14   Seu Zé da Farmácia  ...       NaN       []\n",
              "2      2020-03-29 12:09:27  Marília Oliveira 🇧🇷  ...       NaN       []\n",
              "3      2020-04-01 21:11:07                    🚩  ...       NaN       []\n",
              "4      2020-03-19 17:49:40       Nova Impressão  ... -15.77691       []\n",
              "\n",
              "[5 rows x 13 columns]"
            ]
          },
          "metadata": {
            "tags": []
          },
          "execution_count": 76
        }
      ]
    },
    {
      "cell_type": "markdown",
      "metadata": {
        "id": "eiUba12BXvUf"
      },
      "source": [
        "###Quais e quantos Paises existem no Dataset"
      ]
    },
    {
      "cell_type": "code",
      "metadata": {
        "id": "bYV3TaHQO3nT"
      },
      "source": [
        "dados.pais.describe()"
      ],
      "execution_count": null,
      "outputs": []
    },
    {
      "cell_type": "code",
      "metadata": {
        "id": "_Qqw94aqX1br",
        "outputId": "4921feca-9b0d-49bd-d2f5-55b12401102e",
        "colab": {
          "base_uri": "https://localhost:8080/",
          "height": 451
        }
      },
      "source": [
        "paises = dados.pais.unique()\n",
        "print(paises)\n",
        "print(\"Existem Cerca de \",len(paises),\" paises\")"
      ],
      "execution_count": null,
      "outputs": [
        {
          "output_type": "stream",
          "text": [
            "[nan 'Brazil' 'Ireland' 'Portugal' 'Spain' 'Germany' 'Canada'\n",
            " 'United States' 'Angola' 'Uganda' 'The Netherlands' 'Japan'\n",
            " 'United Kingdom' 'Republic of Mozambique' 'Belgium'\n",
            " 'Kingdom of Saudi Arabia' 'Venezuela' 'Pakistan' 'Indonesia' 'Chile'\n",
            " 'Senegal' 'Argentina' 'Colombia' 'France' 'Turkey' 'Austria' 'Paraguay'\n",
            " 'Italy' 'New Zealand' 'Kenya' \"People's Republic of China\" 'Panama'\n",
            " 'Ghana' 'Ecuador' 'Haiti' 'Australia' 'Mexico'\n",
            " 'Republic of the Philippines' 'Republic of Croatia' 'South Africa'\n",
            " 'Denmark' 'India' 'Costa Rica' 'Nigeria' 'Malaysia' 'North Korea'\n",
            " 'Uruguay' 'Cyprus' 'Egypt' 'Dominican Republic' 'Vietnam' 'Bahrain'\n",
            " 'El Salvador' 'Switzerland' 'United Arab Emirates' 'Sri Lanka'\n",
            " 'Cape Verde' 'Slovak Republic' 'Sweden' 'Israel' 'Honduras' 'Montenegro'\n",
            " 'Thailand' 'Peru' 'Czech Republic' 'Luxembourg' 'Oman' 'Taiwan' 'Georgia'\n",
            " 'Islamic Republic of Iran' 'Ivory Coast' 'Botswana' 'Ukraine' 'Lebanon'\n",
            " 'Romania' 'Kazakhstan' 'East Timor' 'Bolivia' 'Macau' 'Norway' 'Cameroon'\n",
            " 'Singapore' 'Iraq' 'Qatar' 'Jamaica' 'Democratic Republic of Congo'\n",
            " 'Guatemala' 'Estonia' 'Curaçao' 'Russia' 'Bahamas' 'Republic of Korea'\n",
            " 'Namibia' 'Kosovo' 'Kuwait' 'Guinea Bissau' 'Cuba'\n",
            " 'Central African Republic' 'Tanzania' 'Poland' 'Vatican City'\n",
            " 'Trinidad and Tobago' 'Hellas' 'Guinea' 'Nicaragua' 'Suriname'\n",
            " 'Hashemite Kingdom of Jordan' 'Morocco' 'Zimbabwe' 'Finland'\n",
            " 'French Guiana' 'Armenia' 'Republic of Slovenia' 'Hungary' 'Guadeloupe'\n",
            " \"Lao People's Democratic Republic\" 'Madagascar' 'Andorra' 'Monaco'\n",
            " 'Malta' 'Chad' 'Lithuania']\n",
            "Existem Cerca de  122  paises\n"
          ],
          "name": "stdout"
        }
      ]
    },
    {
      "cell_type": "code",
      "metadata": {
        "id": "sv2_wjmLZwPK",
        "outputId": "615136b0-0bc7-44b7-e302-8c7129be8c58",
        "colab": {
          "base_uri": "https://localhost:8080/",
          "height": 225
        }
      },
      "source": [
        "dados.pais.value_counts()"
      ],
      "execution_count": null,
      "outputs": [
        {
          "output_type": "execute_result",
          "data": {
            "text/plain": [
              "Brazil                  67247\n",
              "Portugal                 2675\n",
              "United States            1068\n",
              "Italy                     484\n",
              "Spain                     379\n",
              "                        ...  \n",
              "Andorra                     1\n",
              "Republic of Slovenia        1\n",
              "Monaco                      1\n",
              "Madagascar                  1\n",
              "Montenegro                  1\n",
              "Name: pais, Length: 121, dtype: int64"
            ]
          },
          "metadata": {
            "tags": []
          },
          "execution_count": 14
        }
      ]
    },
    {
      "cell_type": "markdown",
      "metadata": {
        "id": "VRQS2bVBYUep"
      },
      "source": [
        "###Quantos e quais idiomas existem no Dataset"
      ]
    },
    {
      "cell_type": "code",
      "metadata": {
        "id": "B48xlvSIQQ2k",
        "outputId": "b672b6a2-610f-43a7-84f7-0d8dde2a1d6c",
        "colab": {
          "base_uri": "https://localhost:8080/",
          "height": 104
        }
      },
      "source": [
        "dados.idioma.describe()"
      ],
      "execution_count": null,
      "outputs": [
        {
          "output_type": "execute_result",
          "data": {
            "text/plain": [
              "count     1658825\n",
              "unique         59\n",
              "top            pt\n",
              "freq      1586796\n",
              "Name: idioma, dtype: object"
            ]
          },
          "metadata": {
            "tags": []
          },
          "execution_count": 15
        }
      ]
    },
    {
      "cell_type": "code",
      "metadata": {
        "id": "_LszaJYaYIts",
        "outputId": "b88c8689-3b4a-4261-cbc6-3232a0a8d5ec",
        "colab": {
          "base_uri": "https://localhost:8080/",
          "height": 121
        }
      },
      "source": [
        "idiomas = dados.idioma.unique()\n",
        "print(idiomas)\n",
        "print(\"Existem \", len(idiomas), \"idiomas no DataSET\")"
      ],
      "execution_count": null,
      "outputs": [
        {
          "output_type": "stream",
          "text": [
            "['pt' 'en' 'es' 'ar' 'tl' 'fr' 'und' 'nl' 'ja' 'cy' 'th' 'fa' 'it' 'de'\n",
            " 'tr' 'eu' 'ca' 'ko' 'in' 'ht' 'lt' 'zh' 'hi' 'lv' 'sv' 'is' 'pl' 'ur'\n",
            " 'sd' 'vi' 'no' 'te' 'cs' 'ta' 'da' 'ru' 'hu' 'ro' 'et' 'uk' 'el' 'sr'\n",
            " 'fi' 'bn' 'iw' 'sl' 'bg' 'ne' 'am' 'ps' 'ml' 'gu' 'mr' 'or' 'ckb' 'si'\n",
            " 'dv' 'my' 'kn' nan]\n",
            "Existem  60 idiomas no DataSET\n"
          ],
          "name": "stdout"
        }
      ]
    },
    {
      "cell_type": "code",
      "metadata": {
        "id": "LKT3Q_IQZqE5",
        "outputId": "fcc4ea12-7a63-4a5e-844d-5e8d326d06fa",
        "colab": {
          "base_uri": "https://localhost:8080/",
          "height": 1000
        }
      },
      "source": [
        "dados.idioma.value_counts()"
      ],
      "execution_count": null,
      "outputs": [
        {
          "output_type": "execute_result",
          "data": {
            "text/plain": [
              "pt     1586796\n",
              "en       23991\n",
              "es       14255\n",
              "it        6480\n",
              "und       5656\n",
              "ar        4579\n",
              "fr        3656\n",
              "ca        2600\n",
              "tr        2296\n",
              "ja        1955\n",
              "in         948\n",
              "th         890\n",
              "tl         604\n",
              "ko         544\n",
              "hi         485\n",
              "ru         417\n",
              "de         361\n",
              "pl         262\n",
              "fa         258\n",
              "nl         208\n",
              "ur         179\n",
              "ht         167\n",
              "et         162\n",
              "eu         116\n",
              "el          94\n",
              "lt          86\n",
              "sv          84\n",
              "cs          72\n",
              "no          56\n",
              "zh          51\n",
              "da          45\n",
              "ro          45\n",
              "fi          44\n",
              "cy          39\n",
              "uk          37\n",
              "lv          36\n",
              "iw          36\n",
              "ta          32\n",
              "hu          26\n",
              "vi          23\n",
              "is          21\n",
              "sr          20\n",
              "sl          18\n",
              "te          17\n",
              "sd          12\n",
              "ne          11\n",
              "mr          10\n",
              "bn          10\n",
              "gu           7\n",
              "ps           6\n",
              "ckb          5\n",
              "am           4\n",
              "bg           4\n",
              "ml           2\n",
              "si           2\n",
              "or           2\n",
              "my           1\n",
              "dv           1\n",
              "kn           1\n",
              "Name: idioma, dtype: int64"
            ]
          },
          "metadata": {
            "tags": []
          },
          "execution_count": 17
        }
      ]
    },
    {
      "cell_type": "markdown",
      "metadata": {
        "id": "jmZg_gXBY3ZB"
      },
      "source": [
        "###Quais e quantas cidades existem no dataset"
      ]
    },
    {
      "cell_type": "code",
      "metadata": {
        "id": "PuaahFggY2mo",
        "outputId": "d91a216f-8b4b-4903-ceac-cfc2e5afe82a",
        "colab": {
          "base_uri": "https://localhost:8080/",
          "height": 69
        }
      },
      "source": [
        "cidades = dados.lugar.unique()\n",
        "print(cidades)\n",
        "\n",
        "print(\"Existem \",len(cidades), \" locais no Dataset\")"
      ],
      "execution_count": null,
      "outputs": [
        {
          "output_type": "stream",
          "text": [
            "[nan 'Brasília' 'Macaé' ... 'Laranjeiras' 'BAIRRO DA CABANAGEM'\n",
            " 'São José do Piauí']\n",
            "Existem  4501  locais no Dataset\n"
          ],
          "name": "stdout"
        }
      ]
    },
    {
      "cell_type": "code",
      "metadata": {
        "id": "6_nsf-TNZixg",
        "outputId": "b8d12d28-08e4-497e-de1d-b0af6fd687b4",
        "colab": {
          "base_uri": "https://localhost:8080/",
          "height": 225
        }
      },
      "source": [
        "dados.lugar.value_counts()\n"
      ],
      "execution_count": null,
      "outputs": [
        {
          "output_type": "execute_result",
          "data": {
            "text/plain": [
              "Rio de Janeiro    8443\n",
              "Sao Paulo         7469\n",
              "Brasília          2822\n",
              "Porto Alegre      1866\n",
              "Belo Horizonte    1764\n",
              "                  ... \n",
              "Ravenna              1\n",
              "San Martin           1\n",
              "Westminster          1\n",
              "Duran                1\n",
              "Leme do Prado        1\n",
              "Name: lugar, Length: 4500, dtype: int64"
            ]
          },
          "metadata": {
            "tags": []
          },
          "execution_count": 19
        }
      ]
    },
    {
      "cell_type": "code",
      "metadata": {
        "id": "dth1DRV3zR6L"
      },
      "source": [
        ""
      ],
      "execution_count": null,
      "outputs": []
    },
    {
      "cell_type": "code",
      "metadata": {
        "id": "Bi3cXwdYfkpW",
        "outputId": "f6d0e43b-784b-4add-bd6f-61717bd39b5c",
        "colab": {
          "base_uri": "https://localhost:8080/",
          "height": 104
        }
      },
      "source": [
        "dados.lugar.describe()"
      ],
      "execution_count": null,
      "outputs": [
        {
          "output_type": "execute_result",
          "data": {
            "text/plain": [
              "count              74605\n",
              "unique              4500\n",
              "top       Rio de Janeiro\n",
              "freq                8443\n",
              "Name: lugar, dtype: object"
            ]
          },
          "metadata": {
            "tags": []
          },
          "execution_count": 20
        }
      ]
    },
    {
      "cell_type": "markdown",
      "metadata": {
        "id": "llOz2Zd4b2dj"
      },
      "source": [
        "### saber quantas vezes foi retweetado"
      ]
    },
    {
      "cell_type": "code",
      "metadata": {
        "id": "mt0tmeVtaDdl",
        "outputId": "17b4da72-a354-4ff8-effe-a3055001eaee",
        "colab": {
          "base_uri": "https://localhost:8080/",
          "height": 34
        }
      },
      "source": [
        "sum(dados.retweet.value_counts())\n",
        "\n"
      ],
      "execution_count": null,
      "outputs": [
        {
          "output_type": "execute_result",
          "data": {
            "text/plain": [
              "1658825"
            ]
          },
          "metadata": {
            "tags": []
          },
          "execution_count": 21
        }
      ]
    },
    {
      "cell_type": "code",
      "metadata": {
        "id": "SHbrPwQhcDr0",
        "outputId": "c979a708-8841-482d-e30d-4a8620027d95",
        "colab": {
          "base_uri": "https://localhost:8080/",
          "height": 34
        }
      },
      "source": [
        "dados.seguidores.values"
      ],
      "execution_count": null,
      "outputs": [
        {
          "output_type": "execute_result",
          "data": {
            "text/plain": [
              "array([ 138.,   56.,    5., ..., 1000.,  726.,   nan])"
            ]
          },
          "metadata": {
            "tags": []
          },
          "execution_count": 22
        }
      ]
    },
    {
      "cell_type": "code",
      "metadata": {
        "id": "e9sQHplwavKH",
        "outputId": "af5b2f1c-5b9b-4033-844c-961a2035022c",
        "colab": {
          "base_uri": "https://localhost:8080/",
          "height": 173
        }
      },
      "source": [
        "dados.seguidores.describe()"
      ],
      "execution_count": null,
      "outputs": [
        {
          "output_type": "execute_result",
          "data": {
            "text/plain": [
              "count    1.658825e+06\n",
              "mean     3.257206e+04\n",
              "std      3.680300e+05\n",
              "min      0.000000e+00\n",
              "25%      1.010000e+02\n",
              "50%      3.800000e+02\n",
              "75%      1.470000e+03\n",
              "max      8.424125e+07\n",
              "Name: seguidores, dtype: float64"
            ]
          },
          "metadata": {
            "tags": []
          },
          "execution_count": 23
        }
      ]
    },
    {
      "cell_type": "markdown",
      "metadata": {
        "id": "3z3YQmMKrRz_"
      },
      "source": [
        "##Verificar engajamento Geral (via Retweets)"
      ]
    },
    {
      "cell_type": "markdown",
      "metadata": {
        "id": "M_eoO-CgAbsX"
      },
      "source": [
        "Usuário e Texto com mais Retweet"
      ]
    },
    {
      "cell_type": "code",
      "metadata": {
        "id": "FKukVDrArZYB",
        "outputId": "429f5c4b-1652-461a-a16b-91b49bdfead0",
        "colab": {
          "base_uri": "https://localhost:8080/",
          "height": 205
        }
      },
      "source": [
        "dados[dados['retweet']==dados['retweet'].max()]"
      ],
      "execution_count": null,
      "outputs": [
        {
          "output_type": "execute_result",
          "data": {
            "text/html": [
              "<div>\n",
              "<style scoped>\n",
              "    .dataframe tbody tr th:only-of-type {\n",
              "        vertical-align: middle;\n",
              "    }\n",
              "\n",
              "    .dataframe tbody tr th {\n",
              "        vertical-align: top;\n",
              "    }\n",
              "\n",
              "    .dataframe thead th {\n",
              "        text-align: right;\n",
              "    }\n",
              "</style>\n",
              "<table border=\"1\" class=\"dataframe\">\n",
              "  <thead>\n",
              "    <tr style=\"text-align: right;\">\n",
              "      <th></th>\n",
              "      <th>dados-curso-completo.csv</th>\n",
              "      <th>usuario</th>\n",
              "      <th>apelido</th>\n",
              "      <th>texto</th>\n",
              "      <th>retweet</th>\n",
              "      <th>seguidores</th>\n",
              "      <th>idioma</th>\n",
              "      <th>lugar</th>\n",
              "      <th>pais</th>\n",
              "      <th>sigla</th>\n",
              "      <th>latitude</th>\n",
              "      <th>longitude</th>\n",
              "      <th>hashtags</th>\n",
              "    </tr>\n",
              "  </thead>\n",
              "  <tbody>\n",
              "    <tr>\n",
              "      <th>728919</th>\n",
              "      <td>2020-05-21 22:45:41</td>\n",
              "      <td>Maryy</td>\n",
              "      <td>marisolcurcio13</td>\n",
              "      <td>RT @BTS_twt: Never Not 💜 https://t.co/Ag9oUTJvrN</td>\n",
              "      <td>1139763.0</td>\n",
              "      <td>8.0</td>\n",
              "      <td>en</td>\n",
              "      <td>NaN</td>\n",
              "      <td>NaN</td>\n",
              "      <td>NaN</td>\n",
              "      <td>NaN</td>\n",
              "      <td>NaN</td>\n",
              "      <td>[]</td>\n",
              "    </tr>\n",
              "  </tbody>\n",
              "</table>\n",
              "</div>"
            ],
            "text/plain": [
              "       dados-curso-completo.csv usuario  ... longitude hashtags\n",
              "728919      2020-05-21 22:45:41   Maryy  ...       NaN       []\n",
              "\n",
              "[1 rows x 13 columns]"
            ]
          },
          "metadata": {
            "tags": []
          },
          "execution_count": 24
        }
      ]
    },
    {
      "cell_type": "code",
      "metadata": {
        "id": "ysKECi7e_7hu",
        "outputId": "daa3f113-05fc-4fc6-fa8b-b2906a1097d7",
        "colab": {
          "base_uri": "https://localhost:8080/",
          "height": 52
        }
      },
      "source": [
        "dados['usuario'].loc[dados['retweet']==dados['retweet'].max()]"
      ],
      "execution_count": null,
      "outputs": [
        {
          "output_type": "execute_result",
          "data": {
            "text/plain": [
              "728919    Maryy\n",
              "Name: usuario, dtype: object"
            ]
          },
          "metadata": {
            "tags": []
          },
          "execution_count": 82
        }
      ]
    },
    {
      "cell_type": "code",
      "metadata": {
        "id": "tpCXpQoiATc3",
        "outputId": "8f21ff1a-666e-4622-efc8-06a1aa8ca5b0",
        "colab": {
          "base_uri": "https://localhost:8080/",
          "height": 52
        }
      },
      "source": [
        "dados['texto'].loc[dados['retweet']==dados['retweet'].max()]"
      ],
      "execution_count": null,
      "outputs": [
        {
          "output_type": "execute_result",
          "data": {
            "text/plain": [
              "728919    RT @BTS_twt: Never Not 💜 https://t.co/Ag9oUTJvrN\n",
              "Name: texto, dtype: object"
            ]
          },
          "metadata": {
            "tags": []
          },
          "execution_count": 83
        }
      ]
    },
    {
      "cell_type": "markdown",
      "metadata": {
        "id": "OXL7sqE5A7er"
      },
      "source": [
        "Maiores engajamentos: Países com Retweets acima da média"
      ]
    },
    {
      "cell_type": "code",
      "metadata": {
        "id": "FPZjMfSarvp5"
      },
      "source": [
        "df = dados[dados['retweet']> dados['retweet'].median()]"
      ],
      "execution_count": null,
      "outputs": []
    },
    {
      "cell_type": "code",
      "metadata": {
        "id": "60zMeo_Fr3_3",
        "outputId": "c0a238ff-e150-4714-970a-c920ad6f98b5",
        "colab": {
          "base_uri": "https://localhost:8080/",
          "height": 225
        }
      },
      "source": [
        "df['pais'].value_counts()"
      ],
      "execution_count": null,
      "outputs": [
        {
          "output_type": "execute_result",
          "data": {
            "text/plain": [
              "Brazil           12675\n",
              "Portugal           654\n",
              "United States      198\n",
              "Italy              104\n",
              "Spain               90\n",
              "                 ...  \n",
              "Kazakhstan           1\n",
              "Tanzania             1\n",
              "Switzerland          1\n",
              "Guinea Bissau        1\n",
              "Cyprus               1\n",
              "Name: pais, Length: 70, dtype: int64"
            ]
          },
          "metadata": {
            "tags": []
          },
          "execution_count": 87
        }
      ]
    },
    {
      "cell_type": "code",
      "metadata": {
        "id": "hKq97-5tsFL_",
        "outputId": "e6a6c471-4173-4a41-b295-6ca63c9f712d",
        "colab": {
          "base_uri": "https://localhost:8080/",
          "height": 264
        }
      },
      "source": [
        "tw_pais= df['pais'].value_counts().to_dict()\n",
        "\n",
        "name = list(tw_pais.keys())\n",
        "ky = list(tw_pais.keys())\n",
        "vl = list(tw_pais.values())\n",
        "v_bras = vl[0]\n",
        "v_outros = sum(vl) - vl[0]\n",
        "\n",
        "Grafico_pizza = {\"Brazil\" : v_bras, \"Outros\":v_outros}\n",
        "\n",
        "nomes_gp = list(Grafico_pizza.keys())\n",
        "valores_gp = list(Grafico_pizza.values())\n",
        "\n",
        "fig1, ax1 = plt.subplots()\n",
        "ax1.pie(valores_gp, labels=nomes_gp, autopct='%1.1f%%',\n",
        "        shadow=True, startangle=90)\n",
        "ax1.axis('equal')  # Equal aspect ratio ensures that pie is drawn as a circle.\n",
        "plt.title(\"Países\")\n",
        "plt.show()"
      ],
      "execution_count": null,
      "outputs": [
        {
          "output_type": "display_data",
          "data": {
            "image/png": "[encoded data removed]",
            "text/plain": [
              "<Figure size 432x288 with 1 Axes>"
            ]
          },
          "metadata": {
            "tags": []
          }
        }
      ]
    },
    {
      "cell_type": "markdown",
      "metadata": {
        "id": "Cu6Fnb89tS8q"
      },
      "source": [
        "## Ver engajamento no Brasil"
      ]
    },
    {
      "cell_type": "code",
      "metadata": {
        "id": "gDXoT9ADtjoF"
      },
      "source": [
        "df = df[df['pais'] == 'Brazil']"
      ],
      "execution_count": null,
      "outputs": []
    },
    {
      "cell_type": "code",
      "metadata": {
        "id": "q_wQ18HztoKR",
        "outputId": "0576697a-bdcd-4682-f80e-2e11184839c0",
        "colab": {
          "base_uri": "https://localhost:8080/",
          "height": 382
        }
      },
      "source": [
        "df['lugar'].value_counts().head(20)"
      ],
      "execution_count": null,
      "outputs": [
        {
          "output_type": "execute_result",
          "data": {
            "text/plain": [
              "Rio de Janeiro    1748\n",
              "Sao Paulo         1652\n",
              "Brasília           736\n",
              "Porto Alegre       431\n",
              "Recife             304\n",
              "Belo Horizonte     301\n",
              "Curitiba           288\n",
              "Fortaleza          288\n",
              "Belém              240\n",
              "Salvador           220\n",
              "Goiânia            194\n",
              "São Luís           194\n",
              "Manaus             185\n",
              "Campinas           142\n",
              "Aracaju            137\n",
              "Natal              136\n",
              "Niterói            130\n",
              "João Pessoa        115\n",
              "Macapá             111\n",
              "Florianópolis      103\n",
              "Name: lugar, dtype: int64"
            ]
          },
          "metadata": {
            "tags": []
          },
          "execution_count": 92
        }
      ]
    },
    {
      "cell_type": "code",
      "metadata": {
        "id": "jYvtYDFStsm-"
      },
      "source": [
        "df['lugar'].value_counts().plot(kind='bar')\n",
        "plt.show()"
      ],
      "execution_count": null,
      "outputs": []
    },
    {
      "cell_type": "code",
      "metadata": {
        "id": "NNKU5MpltxGS"
      },
      "source": [
        "rt=df['lugar'].value_counts().to_dict()\n",
        "\n",
        "ky = list(rt.keys())\n",
        "vl = list(rt.values())\n",
        "plt.pie(vl, labels=ky)\n",
        "plt.show()"
      ],
      "execution_count": null,
      "outputs": []
    },
    {
      "cell_type": "markdown",
      "metadata": {
        "id": "3qVpFUphCyMH"
      },
      "source": [
        "###Verificar paises tweetaram em português"
      ]
    },
    {
      "cell_type": "code",
      "metadata": {
        "id": "cK8zQHsxCxik",
        "outputId": "5ac91dcd-72b7-4809-c9bd-b000b698334c",
        "colab": {
          "base_uri": "https://localhost:8080/",
          "height": 364
        }
      },
      "source": [
        "d=dados['pais'].loc[dados.idioma == 'pt'].unique()\n",
        "print(d)"
      ],
      "execution_count": null,
      "outputs": [
        {
          "output_type": "stream",
          "text": [
            "[nan 'Brazil' 'Ireland' 'Portugal' 'Spain' 'Germany' 'Canada'\n",
            " 'United States' 'Angola' 'Uganda' 'Japan' 'United Kingdom'\n",
            " 'Republic of Mozambique' 'Venezuela' 'Pakistan' 'Indonesia' 'Chile'\n",
            " 'Argentina' 'Austria' 'Paraguay' 'Italy' 'New Zealand' 'France' 'Kenya'\n",
            " \"People's Republic of China\" 'Panama' 'Ghana' 'Haiti' 'Australia'\n",
            " 'Mexico' 'Republic of the Philippines' 'Republic of Croatia' 'Belgium'\n",
            " 'South Africa' 'Denmark' 'India' 'North Korea' 'Colombia' 'Uruguay'\n",
            " 'Cyprus' 'Dominican Republic' 'Vietnam' 'Bahrain' 'Ecuador' 'El Salvador'\n",
            " 'The Netherlands' 'Switzerland' 'United Arab Emirates' 'Sri Lanka'\n",
            " 'Cape Verde' 'Slovak Republic' 'Sweden' 'Honduras' 'Montenegro'\n",
            " 'Thailand' 'Peru' 'Nigeria' 'Czech Republic' 'Turkey' 'Luxembourg'\n",
            " 'Taiwan' 'Senegal' 'Kingdom of Saudi Arabia' 'Botswana' 'Romania'\n",
            " 'Israel' 'Malaysia' 'East Timor' 'Macau' 'Norway' 'Singapore' 'Ukraine'\n",
            " 'Bolivia' 'Qatar' 'Democratic Republic of Congo' 'Estonia' 'Curaçao'\n",
            " 'Russia' 'Bahamas' 'Republic of Korea' 'Namibia' 'Kosovo' 'Guinea Bissau'\n",
            " 'Costa Rica' 'Cuba' 'Poland' 'Vatican City' 'Hellas' 'Lebanon'\n",
            " 'Nicaragua' 'Morocco' 'Zimbabwe' 'Finland' 'French Guiana' 'Armenia'\n",
            " 'Republic of Slovenia' 'Hungary' 'Egypt' 'Guadeloupe'\n",
            " \"Lao People's Democratic Republic\" 'Guatemala' 'Andorra' 'Malta' 'Chad'\n",
            " 'Lithuania']\n"
          ],
          "name": "stdout"
        }
      ]
    },
    {
      "cell_type": "markdown",
      "metadata": {
        "id": "E6Ds4F0-VTgb"
      },
      "source": [
        "Verificar a localização utilizando as coordenadas de Latitude /  Longitude"
      ]
    },
    {
      "cell_type": "code",
      "metadata": {
        "id": "05SCrabNesW5",
        "outputId": "b46538ad-0561-46de-9c12-c7fcf77f2f19",
        "colab": {
          "base_uri": "https://localhost:8080/",
          "height": 218
        }
      },
      "source": [
        "# esse ta rodando correto m = Basemap(projection= 'mill',llcrnrlat = -90, llcrnrlon = -180, urcrnrlat = 90, urcrnrlon= 180, resolution='h' )\n",
        "# esse não consegui fazer funcionarm = Basemap(width=12000000,height=9000000,projection='lcc',resolution=None,lat_0=0,lon_0=0)\n",
        "#projection = 'mill' originalmente\n",
        "#resolution = 'c','l','i','h' or 'f'\n",
        "m = Basemap()\n",
        "m.drawcoastlines()\n",
        "m.drawcountries()\n",
        "#m.drawstates() \n",
        "m.bluemarble() #adiciona os oceanos\n",
        "\n",
        "\n",
        "m.plot(dados['latitude'],dados['longitude'], 'ro')\n",
        "\n",
        "\n",
        "\n",
        "plt.title(\"Mapa Twts\")\n",
        "plt.show()\n"
      ],
      "execution_count": null,
      "outputs": [
        {
          "output_type": "display_data",
          "data": {
            "image/png": "[encoded data removed]",
            "text/plain": [
              "<Figure size 432x288 with 1 Axes>"
            ]
          },
          "metadata": {
            "tags": []
          }
        }
      ]
    },
    {
      "cell_type": "code",
      "metadata": {
        "id": "gjuQgUkoVYeM",
        "outputId": "8a494547-a4ba-4170-f984-c44be8107286",
        "colab": {
          "base_uri": "https://localhost:8080/",
          "height": 52
        }
      },
      "source": [
        "\"\"\"df = dados[(dados['latitude'].notnull()) & (dados['longitude'].notnull())]\n",
        "plt.scatter(df['longitude'],df['latitude'], marker='.')\n",
        "mplleaflet.display()\"\"\""
      ],
      "execution_count": null,
      "outputs": [
        {
          "output_type": "execute_result",
          "data": {
            "application/vnd.google.colaboratory.intrinsic+json": {
              "type": "string"
            },
            "text/plain": [
              "\"df = dados[(dados['latitude'].notnull()) & (dados['longitude'].notnull())]\\nplt.scatter(df['longitude'],df['latitude'], marker='.')\\nmplleaflet.display()\""
            ]
          },
          "metadata": {
            "tags": []
          },
          "execution_count": 35
        }
      ]
    },
    {
      "cell_type": "markdown",
      "metadata": {
        "id": "ahJZOO-VfNC6"
      },
      "source": [
        "####gráfico para ver os paises.\n"
      ]
    },
    {
      "cell_type": "code",
      "metadata": {
        "id": "u89cX9Tyc3JP"
      },
      "source": [
        "paises = dados.pais.unique()\n",
        "df = dados.loc[dados['pais'] == 'Brazil']\n",
        "tweets_pais = dados.pais.value_counts()"
      ],
      "execution_count": null,
      "outputs": []
    },
    {
      "cell_type": "code",
      "metadata": {
        "id": "gIQlHz56GmtL"
      },
      "source": [
        "tweets_pais = tweets_pais.dropna()"
      ],
      "execution_count": null,
      "outputs": []
    },
    {
      "cell_type": "code",
      "metadata": {
        "id": "W15CZBRfHArv"
      },
      "source": [
        "tweets_dicts = tweets_pais.to_dict()"
      ],
      "execution_count": null,
      "outputs": []
    },
    {
      "cell_type": "code",
      "metadata": {
        "id": "Jae8YoQjQNAO",
        "outputId": "2f3e3302-1a4e-4cd1-eca1-4e84640efd31",
        "colab": {
          "base_uri": "https://localhost:8080/",
          "height": 54
        }
      },
      "source": [
        "print(tweets_dicts)"
      ],
      "execution_count": null,
      "outputs": [
        {
          "output_type": "stream",
          "text": [
            "{'Brazil': 67247, 'Portugal': 2675, 'United States': 1068, 'Italy': 484, 'Spain': 379, 'United Kingdom': 323, 'France': 218, 'Argentina': 193, 'Republic of Mozambique': 167, 'Canada': 152, 'Ireland': 150, 'Germany': 133, 'Japan': 91, 'Angola': 84, 'India': 79, 'Mexico': 76, 'Chile': 73, 'Paraguay': 55, 'Australia': 50, 'Colombia': 48, \"People's Republic of China\": 47, 'Belgium': 43, 'The Netherlands': 41, 'Turkey': 40, 'Switzerland': 37, 'South Africa': 36, 'Ecuador': 32, 'Kingdom of Saudi Arabia': 31, 'Uruguay': 31, 'Nigeria': 30, 'Venezuela': 28, 'New Zealand': 28, 'Austria': 27, 'Slovak Republic': 20, 'Indonesia': 20, 'Republic of the Philippines': 18, 'Peru': 18, 'Sweden': 16, 'Denmark': 13, 'Ghana': 12, 'Pakistan': 11, 'Dominican Republic': 11, 'Bolivia': 11, 'El Salvador': 11, 'Panama': 11, 'United Arab Emirates': 11, 'Egypt': 10, 'Malaysia': 9, 'Cape Verde': 9, 'Kenya': 8, 'Kuwait': 7, 'Czech Republic': 7, 'Uganda': 7, 'Israel': 6, 'Bahrain': 6, 'Thailand': 6, 'Romania': 5, 'Russia': 5, 'Senegal': 5, 'Qatar': 5, 'Namibia': 5, 'Poland': 5, 'Costa Rica': 4, 'Luxembourg': 4, 'Ukraine': 4, 'Nicaragua': 4, 'Norway': 4, 'Jamaica': 4, 'Guinea Bissau': 4, 'Singapore': 3, 'Vietnam': 3, 'Cameroon': 3, 'Vatican City': 3, 'Lebanon': 3, 'Republic of Croatia': 3, 'Kazakhstan': 3, 'Guatemala': 3, 'Taiwan': 3, 'Guinea': 3, 'Kosovo': 3, 'Sri Lanka': 2, 'Oman': 2, 'East Timor': 2, 'Hungary': 2, 'Ivory Coast': 2, 'Finland': 2, 'Democratic Republic of Congo': 2, 'Hashemite Kingdom of Jordan': 2, 'Guadeloupe': 2, 'Trinidad and Tobago': 2, 'Tanzania': 2, 'Estonia': 2, 'Cyprus': 2, 'Cuba': 2, 'Lithuania': 1, 'Republic of Korea': 1, 'Islamic Republic of Iran': 1, 'Honduras': 1, 'Malta': 1, 'Zimbabwe': 1, 'Central African Republic': 1, 'Armenia': 1, 'Chad': 1, 'French Guiana': 1, 'Iraq': 1, 'Bahamas': 1, 'Botswana': 1, 'Hellas': 1, 'Curaçao': 1, 'Suriname': 1, 'Georgia': 1, 'Macau': 1, 'Morocco': 1, 'Haiti': 1, 'North Korea': 1, \"Lao People's Democratic Republic\": 1, 'Andorra': 1, 'Republic of Slovenia': 1, 'Monaco': 1, 'Madagascar': 1, 'Montenegro': 1}\n"
          ],
          "name": "stdout"
        }
      ]
    },
    {
      "cell_type": "code",
      "metadata": {
        "id": "wGtTbHl9HGNs"
      },
      "source": [
        "names = list(tweets_dicts.keys())"
      ],
      "execution_count": null,
      "outputs": []
    },
    {
      "cell_type": "code",
      "metadata": {
        "id": "8Lmv4qWtHXPj"
      },
      "source": [
        "values = list(tweets_dicts.values())"
      ],
      "execution_count": null,
      "outputs": []
    },
    {
      "cell_type": "code",
      "metadata": {
        "id": "KmF5MS5XOaM4",
        "outputId": "bcbd0268-3c3d-4b6d-f44a-bd0e8f275df9",
        "colab": {
          "base_uri": "https://localhost:8080/",
          "height": 34
        }
      },
      "source": [
        "values_brasil = values[0]\n",
        "print(values_brasil)"
      ],
      "execution_count": null,
      "outputs": [
        {
          "output_type": "stream",
          "text": [
            "67247\n"
          ],
          "name": "stdout"
        }
      ]
    },
    {
      "cell_type": "code",
      "metadata": {
        "id": "VGtsaoYiN5z_",
        "outputId": "285d26ff-b84c-4306-edad-f8a99a2f9ce1",
        "colab": {
          "base_uri": "https://localhost:8080/",
          "height": 34
        }
      },
      "source": [
        "for i in range(len(values)):\n",
        "      values_outros = sum(values)\n",
        "values_outros = values_outros - values[0]\n",
        "print(values_outros)\n",
        "\n",
        "Grafico_pizza = {\"Brazil\" : values_brasil, \"Outros\":values_outros}\n",
        " "
      ],
      "execution_count": null,
      "outputs": [
        {
          "output_type": "stream",
          "text": [
            "7353\n"
          ],
          "name": "stdout"
        }
      ]
    },
    {
      "cell_type": "code",
      "metadata": {
        "id": "gZomY8BXO3aB",
        "outputId": "46ef1759-e2f1-4ac7-f887-22021b2a0b1f",
        "colab": {
          "base_uri": "https://localhost:8080/",
          "height": 34
        }
      },
      "source": [
        "print(Grafico_pizza)\n",
        "nomes_gp = list(Grafico_pizza.keys())\n",
        "valores_gp = list(Grafico_pizza.values())"
      ],
      "execution_count": null,
      "outputs": [
        {
          "output_type": "stream",
          "text": [
            "{'Brazil': 67247, 'Outros': 7353}\n"
          ],
          "name": "stdout"
        }
      ]
    },
    {
      "cell_type": "code",
      "metadata": {
        "id": "NNh7NiL9Hozz"
      },
      "source": [
        "fig = plt.figure(figsize=(150,30))\n",
        "ax = fig.add_axes([0,0,1,1])\n",
        "ax.bar(names,values)\n",
        "plt.show()"
      ],
      "execution_count": null,
      "outputs": []
    },
    {
      "cell_type": "markdown",
      "metadata": {
        "id": "9A5qlAOLMbmG"
      },
      "source": [
        "####Fazendo o gráfico em pizza"
      ]
    },
    {
      "cell_type": "code",
      "metadata": {
        "id": "1-cR2k08HdBU",
        "outputId": "7fc7db89-fa48-43d8-984e-dca93824ea2f",
        "colab": {
          "base_uri": "https://localhost:8080/",
          "height": 264
        }
      },
      "source": [
        "# Pie chart, where the slices will be ordered and plotted counter-clockwise:\n",
        "#labels = 'Frogs', 'Hogs', 'Dogs', 'Logs'\n",
        "#sizes = [15, 30, 45, 10]\n",
        "#explode = (0, 0.1, 0, 0)  # only \"explode\" the 2nd slice (i.e. 'Hogs')\n",
        "\n",
        "fig1, ax1 = plt.subplots()\n",
        "ax1.pie(valores_gp, labels=nomes_gp, autopct='%1.1f%%',\n",
        "        shadow=True, startangle=90)\n",
        "ax1.axis('equal')  # Equal aspect ratio ensures that pie is drawn as a circle.\n",
        "plt.title(\"Países\")\n",
        "plt.show()"
      ],
      "execution_count": null,
      "outputs": [
        {
          "output_type": "display_data",
          "data": {
            "image/png": "[encoded data removed]",
            "text/plain": [
              "<Figure size 432x288 with 1 Axes>"
            ]
          },
          "metadata": {
            "tags": []
          }
        }
      ]
    },
    {
      "cell_type": "markdown",
      "metadata": {
        "id": "TULhAbKiSslx"
      },
      "source": [
        "####Gráfico para ver os idiomas\n"
      ]
    },
    {
      "cell_type": "code",
      "metadata": {
        "id": "5xd4-aQ_licr"
      },
      "source": [
        "idioma = dados.idioma.value_counts()"
      ],
      "execution_count": null,
      "outputs": []
    },
    {
      "cell_type": "code",
      "metadata": {
        "id": "T6ai_c5nln64"
      },
      "source": [
        "idioma = idioma.to_dict()"
      ],
      "execution_count": null,
      "outputs": []
    },
    {
      "cell_type": "code",
      "metadata": {
        "id": "nvpwozmfl8Dd",
        "outputId": "81a88167-4f6e-4bc2-f7f1-7ede94281fe7",
        "colab": {
          "base_uri": "https://localhost:8080/",
          "height": 1000
        }
      },
      "source": [
        "idioma"
      ],
      "execution_count": null,
      "outputs": [
        {
          "output_type": "execute_result",
          "data": {
            "text/plain": [
              "{'am': 4,\n",
              " 'ar': 4579,\n",
              " 'bg': 4,\n",
              " 'bn': 10,\n",
              " 'ca': 2600,\n",
              " 'ckb': 5,\n",
              " 'cs': 72,\n",
              " 'cy': 39,\n",
              " 'da': 45,\n",
              " 'de': 361,\n",
              " 'dv': 1,\n",
              " 'el': 94,\n",
              " 'en': 23991,\n",
              " 'es': 14255,\n",
              " 'et': 162,\n",
              " 'eu': 116,\n",
              " 'fa': 258,\n",
              " 'fi': 44,\n",
              " 'fr': 3656,\n",
              " 'gu': 7,\n",
              " 'hi': 485,\n",
              " 'ht': 167,\n",
              " 'hu': 26,\n",
              " 'in': 948,\n",
              " 'is': 21,\n",
              " 'it': 6480,\n",
              " 'iw': 36,\n",
              " 'ja': 1955,\n",
              " 'kn': 1,\n",
              " 'ko': 544,\n",
              " 'lt': 86,\n",
              " 'lv': 36,\n",
              " 'ml': 2,\n",
              " 'mr': 10,\n",
              " 'my': 1,\n",
              " 'ne': 11,\n",
              " 'nl': 208,\n",
              " 'no': 56,\n",
              " 'or': 2,\n",
              " 'pl': 262,\n",
              " 'ps': 6,\n",
              " 'pt': 1586796,\n",
              " 'ro': 45,\n",
              " 'ru': 417,\n",
              " 'sd': 12,\n",
              " 'si': 2,\n",
              " 'sl': 18,\n",
              " 'sr': 20,\n",
              " 'sv': 84,\n",
              " 'ta': 32,\n",
              " 'te': 17,\n",
              " 'th': 890,\n",
              " 'tl': 604,\n",
              " 'tr': 2296,\n",
              " 'uk': 37,\n",
              " 'und': 5656,\n",
              " 'ur': 179,\n",
              " 'vi': 23,\n",
              " 'zh': 51}"
            ]
          },
          "metadata": {
            "tags": []
          },
          "execution_count": 52
        }
      ]
    },
    {
      "cell_type": "code",
      "metadata": {
        "id": "nW4GbXMKlqZW"
      },
      "source": [
        "idiomaChave = idioma.keys()\n",
        "idiomaValues = idioma.values()"
      ],
      "execution_count": null,
      "outputs": []
    },
    {
      "cell_type": "code",
      "metadata": {
        "id": "as5q_W8FlxOA",
        "outputId": "49b5392a-5146-417f-a9b7-c4fad759b078",
        "colab": {
          "base_uri": "https://localhost:8080/",
          "height": 268
        }
      },
      "source": [
        "#Gráfico em Pizza para os idiomas\n",
        "fig1, ax1 = plt.subplots()\n",
        "ax1.pie(idiomaValues, labels=idiomaChave, autopct='%1.1f%%',\n",
        "        shadow=True, startangle=90)\n",
        "ax1.axis('equal')  # Equal aspect ratio ensures that pie is drawn as a circle.\n",
        "plt.title(\"IDIOMA\")\n",
        "plt.show()"
      ],
      "execution_count": null,
      "outputs": [
        {
          "output_type": "display_data",
          "data": {
            "image/png": "[encoded data removed]",
            "text/plain": [
              "<Figure size 432x288 with 1 Axes>"
            ]
          },
          "metadata": {
            "tags": []
          }
        }
      ]
    },
    {
      "cell_type": "code",
      "metadata": {
        "id": "b2um-363SJ0o"
      },
      "source": [
        ""
      ],
      "execution_count": null,
      "outputs": []
    },
    {
      "cell_type": "markdown",
      "metadata": {
        "id": "-yeHDfwj4T9m"
      },
      "source": [
        "##2. As mensagens foram pré-processadas para que as perguntas (questões) fossem identificadas.Essa coleção de perguntas corresponde ao dataset \"DuvidasDB\". A seguir, a equipe deve apresentar as estat´ısticas sobre esses dados."
      ]
    },
    {
      "cell_type": "markdown",
      "metadata": {
        "id": "rvNPYILLkkBa"
      },
      "source": [
        "dados.texto.str.contains('?')"
      ]
    },
    {
      "cell_type": "code",
      "metadata": {
        "id": "CpDQwm0HknqH",
        "outputId": "b7ec69c7-799f-4f56-c5b9-bc85209648f0",
        "colab": {
          "base_uri": "https://localhost:8080/",
          "height": 574
        }
      },
      "source": [
        "dados.head()"
      ],
      "execution_count": null,
      "outputs": [
        {
          "output_type": "execute_result",
          "data": {
            "text/html": [
              "<div>\n",
              "<style scoped>\n",
              "    .dataframe tbody tr th:only-of-type {\n",
              "        vertical-align: middle;\n",
              "    }\n",
              "\n",
              "    .dataframe tbody tr th {\n",
              "        vertical-align: top;\n",
              "    }\n",
              "\n",
              "    .dataframe thead th {\n",
              "        text-align: right;\n",
              "    }\n",
              "</style>\n",
              "<table border=\"1\" class=\"dataframe\">\n",
              "  <thead>\n",
              "    <tr style=\"text-align: right;\">\n",
              "      <th></th>\n",
              "      <th>dados-curso-completo.csv</th>\n",
              "      <th>usuario</th>\n",
              "      <th>apelido</th>\n",
              "      <th>texto</th>\n",
              "      <th>retweet</th>\n",
              "      <th>seguidores</th>\n",
              "      <th>idioma</th>\n",
              "      <th>lugar</th>\n",
              "      <th>pais</th>\n",
              "      <th>sigla</th>\n",
              "      <th>latitude</th>\n",
              "      <th>longitude</th>\n",
              "      <th>hashtags</th>\n",
              "    </tr>\n",
              "  </thead>\n",
              "  <tbody>\n",
              "    <tr>\n",
              "      <th>0</th>\n",
              "      <td>2020-03-23 18:51:14</td>\n",
              "      <td>Gaboardi</td>\n",
              "      <td>fraslee</td>\n",
              "      <td>@BolsonaroSP Cade o fundão deputado??? Congres...</td>\n",
              "      <td>0.0</td>\n",
              "      <td>138.0</td>\n",
              "      <td>pt</td>\n",
              "      <td>NaN</td>\n",
              "      <td>NaN</td>\n",
              "      <td>NaN</td>\n",
              "      <td>NaN</td>\n",
              "      <td>NaN</td>\n",
              "      <td>[]</td>\n",
              "    </tr>\n",
              "    <tr>\n",
              "      <th>1</th>\n",
              "      <td>2020-03-18 03:18:14</td>\n",
              "      <td>Seu Zé da Farmácia</td>\n",
              "      <td>seuzedafarmacia</td>\n",
              "      <td>Em ação preventiva, o Governo do Estado suspen...</td>\n",
              "      <td>0.0</td>\n",
              "      <td>56.0</td>\n",
              "      <td>pt</td>\n",
              "      <td>NaN</td>\n",
              "      <td>NaN</td>\n",
              "      <td>NaN</td>\n",
              "      <td>NaN</td>\n",
              "      <td>NaN</td>\n",
              "      <td>[]</td>\n",
              "    </tr>\n",
              "    <tr>\n",
              "      <th>2</th>\n",
              "      <td>2020-03-29 12:09:27</td>\n",
              "      <td>Marília Oliveira 🇧🇷</td>\n",
              "      <td>Marioliveira_gb</td>\n",
              "      <td>Incrível como os defensores do fim do distanci...</td>\n",
              "      <td>0.0</td>\n",
              "      <td>5.0</td>\n",
              "      <td>pt</td>\n",
              "      <td>NaN</td>\n",
              "      <td>NaN</td>\n",
              "      <td>NaN</td>\n",
              "      <td>NaN</td>\n",
              "      <td>NaN</td>\n",
              "      <td>[]</td>\n",
              "    </tr>\n",
              "    <tr>\n",
              "      <th>3</th>\n",
              "      <td>2020-04-01 21:11:07</td>\n",
              "      <td>🚩</td>\n",
              "      <td>santosodeto</td>\n",
              "      <td>Fumaça de cigarro pode propagar coronavírus? h...</td>\n",
              "      <td>0.0</td>\n",
              "      <td>1885.0</td>\n",
              "      <td>pt</td>\n",
              "      <td>NaN</td>\n",
              "      <td>NaN</td>\n",
              "      <td>NaN</td>\n",
              "      <td>NaN</td>\n",
              "      <td>NaN</td>\n",
              "      <td>[]</td>\n",
              "    </tr>\n",
              "    <tr>\n",
              "      <th>4</th>\n",
              "      <td>2020-03-19 17:49:40</td>\n",
              "      <td>Nova Impressão</td>\n",
              "      <td>novaimpressao_</td>\n",
              "      <td>🚨Todos juntos contra COVID-19💪\\n\\nSolicite seu...</td>\n",
              "      <td>0.0</td>\n",
              "      <td>124.0</td>\n",
              "      <td>pt</td>\n",
              "      <td>Brasília</td>\n",
              "      <td>Brazil</td>\n",
              "      <td>BR</td>\n",
              "      <td>-47.8778</td>\n",
              "      <td>-15.77691</td>\n",
              "      <td>[]</td>\n",
              "    </tr>\n",
              "  </tbody>\n",
              "</table>\n",
              "</div>"
            ],
            "text/plain": [
              "  dados-curso-completo.csv              usuario  ... longitude hashtags\n",
              "0      2020-03-23 18:51:14             Gaboardi  ...       NaN       []\n",
              "1      2020-03-18 03:18:14   Seu Zé da Farmácia  ...       NaN       []\n",
              "2      2020-03-29 12:09:27  Marília Oliveira 🇧🇷  ...       NaN       []\n",
              "3      2020-04-01 21:11:07                    🚩  ...       NaN       []\n",
              "4      2020-03-19 17:49:40       Nova Impressão  ... -15.77691       []\n",
              "\n",
              "[5 rows x 13 columns]"
            ]
          },
          "metadata": {
            "tags": []
          },
          "execution_count": 62
        }
      ]
    },
    {
      "cell_type": "markdown",
      "metadata": {
        "id": "l0NSP0Vz6XEx"
      },
      "source": [
        "#### Criando o DuvidasDB .\n"
      ]
    },
    {
      "cell_type": "code",
      "metadata": {
        "id": "unNyZ2RWEEP3"
      },
      "source": [
        "\n",
        "nltk.download('punkt')\n",
        "\n",
        "df = dados.loc[dados['texto'].str.contains('?', regex=False) == True]\n",
        "df"
      ],
      "execution_count": null,
      "outputs": []
    },
    {
      "cell_type": "markdown",
      "metadata": {
        "id": "XpHhGRV2Qoow"
      },
      "source": [
        "####duvidasDB"
      ]
    },
    {
      "cell_type": "code",
      "metadata": {
        "id": "S3ZPTP7KQtpZ",
        "outputId": "42611702-3b18-4be9-bf9a-9d8c20ec93a9",
        "colab": {
          "base_uri": "https://localhost:8080/",
          "height": 591
        }
      },
      "source": [
        "df = dados.loc[dados['texto'].str.contains('?', regex=False) == True]\n",
        "df.head()"
      ],
      "execution_count": null,
      "outputs": [
        {
          "output_type": "execute_result",
          "data": {
            "text/html": [
              "<div>\n",
              "<style scoped>\n",
              "    .dataframe tbody tr th:only-of-type {\n",
              "        vertical-align: middle;\n",
              "    }\n",
              "\n",
              "    .dataframe tbody tr th {\n",
              "        vertical-align: top;\n",
              "    }\n",
              "\n",
              "    .dataframe thead th {\n",
              "        text-align: right;\n",
              "    }\n",
              "</style>\n",
              "<table border=\"1\" class=\"dataframe\">\n",
              "  <thead>\n",
              "    <tr style=\"text-align: right;\">\n",
              "      <th></th>\n",
              "      <th>dados-curso-completo.csv</th>\n",
              "      <th>usuario</th>\n",
              "      <th>apelido</th>\n",
              "      <th>texto</th>\n",
              "      <th>retweet</th>\n",
              "      <th>seguidores</th>\n",
              "      <th>idioma</th>\n",
              "      <th>lugar</th>\n",
              "      <th>pais</th>\n",
              "      <th>sigla</th>\n",
              "      <th>latitude</th>\n",
              "      <th>longitude</th>\n",
              "      <th>hashtags</th>\n",
              "    </tr>\n",
              "  </thead>\n",
              "  <tbody>\n",
              "    <tr>\n",
              "      <th>0</th>\n",
              "      <td>2020-03-23 18:51:14</td>\n",
              "      <td>Gaboardi</td>\n",
              "      <td>fraslee</td>\n",
              "      <td>@BolsonaroSP Cade o fundão deputado??? Congres...</td>\n",
              "      <td>0.0</td>\n",
              "      <td>138.0</td>\n",
              "      <td>pt</td>\n",
              "      <td>NaN</td>\n",
              "      <td>NaN</td>\n",
              "      <td>NaN</td>\n",
              "      <td>NaN</td>\n",
              "      <td>NaN</td>\n",
              "      <td>[]</td>\n",
              "    </tr>\n",
              "    <tr>\n",
              "      <th>3</th>\n",
              "      <td>2020-04-01 21:11:07</td>\n",
              "      <td>🚩</td>\n",
              "      <td>santosodeto</td>\n",
              "      <td>Fumaça de cigarro pode propagar coronavírus? h...</td>\n",
              "      <td>0.0</td>\n",
              "      <td>1885.0</td>\n",
              "      <td>pt</td>\n",
              "      <td>NaN</td>\n",
              "      <td>NaN</td>\n",
              "      <td>NaN</td>\n",
              "      <td>NaN</td>\n",
              "      <td>NaN</td>\n",
              "      <td>[]</td>\n",
              "    </tr>\n",
              "    <tr>\n",
              "      <th>38</th>\n",
              "      <td>2020-06-25 11:09:19</td>\n",
              "      <td>Andreia Peraro</td>\n",
              "      <td>AndreiaPeraro</td>\n",
              "      <td>@ipratesMD @dr_pampers Será que corremos o ris...</td>\n",
              "      <td>0.0</td>\n",
              "      <td>86.0</td>\n",
              "      <td>pt</td>\n",
              "      <td>NaN</td>\n",
              "      <td>NaN</td>\n",
              "      <td>NaN</td>\n",
              "      <td>NaN</td>\n",
              "      <td>NaN</td>\n",
              "      <td>[]</td>\n",
              "    </tr>\n",
              "    <tr>\n",
              "      <th>45</th>\n",
              "      <td>2020-04-06 15:44:36</td>\n",
              "      <td>Diorgenes Pandini</td>\n",
              "      <td>diorpandini</td>\n",
              "      <td>Prioridade ?!\\n\\n #COVID19 #floripa #isolament...</td>\n",
              "      <td>0.0</td>\n",
              "      <td>219.0</td>\n",
              "      <td>pt</td>\n",
              "      <td>NaN</td>\n",
              "      <td>NaN</td>\n",
              "      <td>NaN</td>\n",
              "      <td>NaN</td>\n",
              "      <td>NaN</td>\n",
              "      <td>['COVID19', 'floripa', 'isolamento']</td>\n",
              "    </tr>\n",
              "    <tr>\n",
              "      <th>57</th>\n",
              "      <td>2020-03-30 00:43:36</td>\n",
              "      <td>Valnei do Val</td>\n",
              "      <td>vdoval</td>\n",
              "      <td>Que tal uma notícia boa, indo na contramão do ...</td>\n",
              "      <td>0.0</td>\n",
              "      <td>201.0</td>\n",
              "      <td>pt</td>\n",
              "      <td>NaN</td>\n",
              "      <td>NaN</td>\n",
              "      <td>NaN</td>\n",
              "      <td>NaN</td>\n",
              "      <td>NaN</td>\n",
              "      <td>[]</td>\n",
              "    </tr>\n",
              "  </tbody>\n",
              "</table>\n",
              "</div>"
            ],
            "text/plain": [
              "   dados-curso-completo.csv  ...                              hashtags\n",
              "0       2020-03-23 18:51:14  ...                                    []\n",
              "3       2020-04-01 21:11:07  ...                                    []\n",
              "38      2020-06-25 11:09:19  ...                                    []\n",
              "45      2020-04-06 15:44:36  ...  ['COVID19', 'floripa', 'isolamento']\n",
              "57      2020-03-30 00:43:36  ...                                    []\n",
              "\n",
              "[5 rows x 13 columns]"
            ]
          },
          "metadata": {
            "tags": []
          },
          "execution_count": 115
        }
      ]
    },
    {
      "cell_type": "markdown",
      "metadata": {
        "id": "gP9DVPieSaad"
      },
      "source": [
        "limpando nan"
      ]
    },
    {
      "cell_type": "code",
      "metadata": {
        "id": "U1nqn8i2Scy7",
        "outputId": "2b53efa8-e6ad-42d3-950a-99ee4fe39fb2",
        "colab": {
          "base_uri": "https://localhost:8080/",
          "height": 1000
        }
      },
      "source": [
        "df.dropna(how='all')"
      ],
      "execution_count": null,
      "outputs": [
        {
          "output_type": "execute_result",
          "data": {
            "text/html": [
              "<div>\n",
              "<style scoped>\n",
              "    .dataframe tbody tr th:only-of-type {\n",
              "        vertical-align: middle;\n",
              "    }\n",
              "\n",
              "    .dataframe tbody tr th {\n",
              "        vertical-align: top;\n",
              "    }\n",
              "\n",
              "    .dataframe thead th {\n",
              "        text-align: right;\n",
              "    }\n",
              "</style>\n",
              "<table border=\"1\" class=\"dataframe\">\n",
              "  <thead>\n",
              "    <tr style=\"text-align: right;\">\n",
              "      <th></th>\n",
              "      <th>dados-curso-completo.csv</th>\n",
              "      <th>usuario</th>\n",
              "      <th>apelido</th>\n",
              "      <th>texto</th>\n",
              "      <th>retweet</th>\n",
              "      <th>seguidores</th>\n",
              "      <th>idioma</th>\n",
              "      <th>lugar</th>\n",
              "      <th>pais</th>\n",
              "      <th>sigla</th>\n",
              "      <th>latitude</th>\n",
              "      <th>longitude</th>\n",
              "      <th>hashtags</th>\n",
              "    </tr>\n",
              "  </thead>\n",
              "  <tbody>\n",
              "    <tr>\n",
              "      <th>0</th>\n",
              "      <td>2020-03-23 18:51:14</td>\n",
              "      <td>Gaboardi</td>\n",
              "      <td>fraslee</td>\n",
              "      <td>@BolsonaroSP Cade o fundão deputado??? Congres...</td>\n",
              "      <td>0.0</td>\n",
              "      <td>138.0</td>\n",
              "      <td>pt</td>\n",
              "      <td>NaN</td>\n",
              "      <td>NaN</td>\n",
              "      <td>NaN</td>\n",
              "      <td>NaN</td>\n",
              "      <td>NaN</td>\n",
              "      <td>[]</td>\n",
              "    </tr>\n",
              "    <tr>\n",
              "      <th>3</th>\n",
              "      <td>2020-04-01 21:11:07</td>\n",
              "      <td>🚩</td>\n",
              "      <td>santosodeto</td>\n",
              "      <td>Fumaça de cigarro pode propagar coronavírus? h...</td>\n",
              "      <td>0.0</td>\n",
              "      <td>1885.0</td>\n",
              "      <td>pt</td>\n",
              "      <td>NaN</td>\n",
              "      <td>NaN</td>\n",
              "      <td>NaN</td>\n",
              "      <td>NaN</td>\n",
              "      <td>NaN</td>\n",
              "      <td>[]</td>\n",
              "    </tr>\n",
              "    <tr>\n",
              "      <th>38</th>\n",
              "      <td>2020-06-25 11:09:19</td>\n",
              "      <td>Andreia Peraro</td>\n",
              "      <td>AndreiaPeraro</td>\n",
              "      <td>@ipratesMD @dr_pampers Será que corremos o ris...</td>\n",
              "      <td>0.0</td>\n",
              "      <td>86.0</td>\n",
              "      <td>pt</td>\n",
              "      <td>NaN</td>\n",
              "      <td>NaN</td>\n",
              "      <td>NaN</td>\n",
              "      <td>NaN</td>\n",
              "      <td>NaN</td>\n",
              "      <td>[]</td>\n",
              "    </tr>\n",
              "    <tr>\n",
              "      <th>45</th>\n",
              "      <td>2020-04-06 15:44:36</td>\n",
              "      <td>Diorgenes Pandini</td>\n",
              "      <td>diorpandini</td>\n",
              "      <td>Prioridade ?!\\n\\n #COVID19 #floripa #isolament...</td>\n",
              "      <td>0.0</td>\n",
              "      <td>219.0</td>\n",
              "      <td>pt</td>\n",
              "      <td>NaN</td>\n",
              "      <td>NaN</td>\n",
              "      <td>NaN</td>\n",
              "      <td>NaN</td>\n",
              "      <td>NaN</td>\n",
              "      <td>['COVID19', 'floripa', 'isolamento']</td>\n",
              "    </tr>\n",
              "    <tr>\n",
              "      <th>57</th>\n",
              "      <td>2020-03-30 00:43:36</td>\n",
              "      <td>Valnei do Val</td>\n",
              "      <td>vdoval</td>\n",
              "      <td>Que tal uma notícia boa, indo na contramão do ...</td>\n",
              "      <td>0.0</td>\n",
              "      <td>201.0</td>\n",
              "      <td>pt</td>\n",
              "      <td>NaN</td>\n",
              "      <td>NaN</td>\n",
              "      <td>NaN</td>\n",
              "      <td>NaN</td>\n",
              "      <td>NaN</td>\n",
              "      <td>[]</td>\n",
              "    </tr>\n",
              "    <tr>\n",
              "      <th>...</th>\n",
              "      <td>...</td>\n",
              "      <td>...</td>\n",
              "      <td>...</td>\n",
              "      <td>...</td>\n",
              "      <td>...</td>\n",
              "      <td>...</td>\n",
              "      <td>...</td>\n",
              "      <td>...</td>\n",
              "      <td>...</td>\n",
              "      <td>...</td>\n",
              "      <td>...</td>\n",
              "      <td>...</td>\n",
              "      <td>...</td>\n",
              "    </tr>\n",
              "    <tr>\n",
              "      <th>1658795</th>\n",
              "      <td>2020-03-24 23:50:14</td>\n",
              "      <td>solineuza da diarista</td>\n",
              "      <td>gtstayhigh</td>\n",
              "      <td>E ai quem são vcs durante a quarentena? \\n\\nEu...</td>\n",
              "      <td>0.0</td>\n",
              "      <td>1329.0</td>\n",
              "      <td>pt</td>\n",
              "      <td>NaN</td>\n",
              "      <td>NaN</td>\n",
              "      <td>NaN</td>\n",
              "      <td>NaN</td>\n",
              "      <td>NaN</td>\n",
              "      <td>[]</td>\n",
              "    </tr>\n",
              "    <tr>\n",
              "      <th>1658810</th>\n",
              "      <td>2020-03-26 21:43:24</td>\n",
              "      <td>Chris CP</td>\n",
              "      <td>Chris_CP_</td>\n",
              "      <td>@0n3p1ece @alexmono Oh jumentinha, 1918 é isso...</td>\n",
              "      <td>0.0</td>\n",
              "      <td>34.0</td>\n",
              "      <td>pt</td>\n",
              "      <td>NaN</td>\n",
              "      <td>NaN</td>\n",
              "      <td>NaN</td>\n",
              "      <td>NaN</td>\n",
              "      <td>NaN</td>\n",
              "      <td>[]</td>\n",
              "    </tr>\n",
              "    <tr>\n",
              "      <th>1658818</th>\n",
              "      <td>2020-05-25 22:53:13</td>\n",
              "      <td>O que houve com a couve?</td>\n",
              "      <td>couveluiza</td>\n",
              "      <td>@BiologiaBraba @Tati_Cordeiro Só vontade ou vo...</td>\n",
              "      <td>0.0</td>\n",
              "      <td>1883.0</td>\n",
              "      <td>pt</td>\n",
              "      <td>NaN</td>\n",
              "      <td>NaN</td>\n",
              "      <td>NaN</td>\n",
              "      <td>NaN</td>\n",
              "      <td>NaN</td>\n",
              "      <td>[]</td>\n",
              "    </tr>\n",
              "    <tr>\n",
              "      <th>1658820</th>\n",
              "      <td>2020-03-13 17:26:18</td>\n",
              "      <td>broca</td>\n",
              "      <td>whoisdrill</td>\n",
              "      <td>oms: tamo tendo pandemia evitar\\n conglomerado...</td>\n",
              "      <td>0.0</td>\n",
              "      <td>361.0</td>\n",
              "      <td>pt</td>\n",
              "      <td>NaN</td>\n",
              "      <td>NaN</td>\n",
              "      <td>NaN</td>\n",
              "      <td>NaN</td>\n",
              "      <td>NaN</td>\n",
              "      <td>[]</td>\n",
              "    </tr>\n",
              "    <tr>\n",
              "      <th>1658821</th>\n",
              "      <td>2020-05-12 13:02:34</td>\n",
              "      <td>Renato 🇧🇷</td>\n",
              "      <td>VerdadeExpress</td>\n",
              "      <td>@OsmarTerra Sr. Osmar Terra, gostaria de ouvir...</td>\n",
              "      <td>0.0</td>\n",
              "      <td>4066.0</td>\n",
              "      <td>pt</td>\n",
              "      <td>NaN</td>\n",
              "      <td>NaN</td>\n",
              "      <td>NaN</td>\n",
              "      <td>NaN</td>\n",
              "      <td>NaN</td>\n",
              "      <td>[]</td>\n",
              "    </tr>\n",
              "  </tbody>\n",
              "</table>\n",
              "<p>172501 rows × 13 columns</p>\n",
              "</div>"
            ],
            "text/plain": [
              "        dados-curso-completo.csv  ...                              hashtags\n",
              "0            2020-03-23 18:51:14  ...                                    []\n",
              "3            2020-04-01 21:11:07  ...                                    []\n",
              "38           2020-06-25 11:09:19  ...                                    []\n",
              "45           2020-04-06 15:44:36  ...  ['COVID19', 'floripa', 'isolamento']\n",
              "57           2020-03-30 00:43:36  ...                                    []\n",
              "...                          ...  ...                                   ...\n",
              "1658795      2020-03-24 23:50:14  ...                                    []\n",
              "1658810      2020-03-26 21:43:24  ...                                    []\n",
              "1658818      2020-05-25 22:53:13  ...                                    []\n",
              "1658820      2020-03-13 17:26:18  ...                                    []\n",
              "1658821      2020-05-12 13:02:34  ...                                    []\n",
              "\n",
              "[172501 rows x 13 columns]"
            ]
          },
          "metadata": {
            "tags": []
          },
          "execution_count": 118
        }
      ]
    },
    {
      "cell_type": "markdown",
      "metadata": {
        "id": "YTG8gxfRSr8S"
      },
      "source": [
        "Organizar Index"
      ]
    },
    {
      "cell_type": "code",
      "metadata": {
        "id": "86ldIK-BSvH2"
      },
      "source": [
        "x = []\n",
        "for i in range(len(df)):\n",
        "  x.append(i)"
      ],
      "execution_count": null,
      "outputs": []
    },
    {
      "cell_type": "code",
      "metadata": {
        "id": "k_U6QaiNS0TN",
        "outputId": "45903697-b6ca-459b-b917-54656d868974",
        "colab": {
          "base_uri": "https://localhost:8080/",
          "height": 869
        }
      },
      "source": [
        "df.index = pd.Index(x)\n",
        "df.head(10)"
      ],
      "execution_count": null,
      "outputs": [
        {
          "output_type": "execute_result",
          "data": {
            "text/html": [
              "<div>\n",
              "<style scoped>\n",
              "    .dataframe tbody tr th:only-of-type {\n",
              "        vertical-align: middle;\n",
              "    }\n",
              "\n",
              "    .dataframe tbody tr th {\n",
              "        vertical-align: top;\n",
              "    }\n",
              "\n",
              "    .dataframe thead th {\n",
              "        text-align: right;\n",
              "    }\n",
              "</style>\n",
              "<table border=\"1\" class=\"dataframe\">\n",
              "  <thead>\n",
              "    <tr style=\"text-align: right;\">\n",
              "      <th></th>\n",
              "      <th>dados-curso-completo.csv</th>\n",
              "      <th>usuario</th>\n",
              "      <th>apelido</th>\n",
              "      <th>texto</th>\n",
              "      <th>retweet</th>\n",
              "      <th>seguidores</th>\n",
              "      <th>idioma</th>\n",
              "      <th>lugar</th>\n",
              "      <th>pais</th>\n",
              "      <th>sigla</th>\n",
              "      <th>latitude</th>\n",
              "      <th>longitude</th>\n",
              "      <th>hashtags</th>\n",
              "    </tr>\n",
              "  </thead>\n",
              "  <tbody>\n",
              "    <tr>\n",
              "      <th>0</th>\n",
              "      <td>2020-03-23 18:51:14</td>\n",
              "      <td>Gaboardi</td>\n",
              "      <td>fraslee</td>\n",
              "      <td>@BolsonaroSP Cade o fundão deputado??? Congres...</td>\n",
              "      <td>0.0</td>\n",
              "      <td>138.0</td>\n",
              "      <td>pt</td>\n",
              "      <td>NaN</td>\n",
              "      <td>NaN</td>\n",
              "      <td>NaN</td>\n",
              "      <td>NaN</td>\n",
              "      <td>NaN</td>\n",
              "      <td>[]</td>\n",
              "    </tr>\n",
              "    <tr>\n",
              "      <th>1</th>\n",
              "      <td>2020-04-01 21:11:07</td>\n",
              "      <td>🚩</td>\n",
              "      <td>santosodeto</td>\n",
              "      <td>Fumaça de cigarro pode propagar coronavírus? h...</td>\n",
              "      <td>0.0</td>\n",
              "      <td>1885.0</td>\n",
              "      <td>pt</td>\n",
              "      <td>NaN</td>\n",
              "      <td>NaN</td>\n",
              "      <td>NaN</td>\n",
              "      <td>NaN</td>\n",
              "      <td>NaN</td>\n",
              "      <td>[]</td>\n",
              "    </tr>\n",
              "    <tr>\n",
              "      <th>2</th>\n",
              "      <td>2020-06-25 11:09:19</td>\n",
              "      <td>Andreia Peraro</td>\n",
              "      <td>AndreiaPeraro</td>\n",
              "      <td>@ipratesMD @dr_pampers Será que corremos o ris...</td>\n",
              "      <td>0.0</td>\n",
              "      <td>86.0</td>\n",
              "      <td>pt</td>\n",
              "      <td>NaN</td>\n",
              "      <td>NaN</td>\n",
              "      <td>NaN</td>\n",
              "      <td>NaN</td>\n",
              "      <td>NaN</td>\n",
              "      <td>[]</td>\n",
              "    </tr>\n",
              "    <tr>\n",
              "      <th>3</th>\n",
              "      <td>2020-04-06 15:44:36</td>\n",
              "      <td>Diorgenes Pandini</td>\n",
              "      <td>diorpandini</td>\n",
              "      <td>Prioridade ?!\\n\\n #COVID19 #floripa #isolament...</td>\n",
              "      <td>0.0</td>\n",
              "      <td>219.0</td>\n",
              "      <td>pt</td>\n",
              "      <td>NaN</td>\n",
              "      <td>NaN</td>\n",
              "      <td>NaN</td>\n",
              "      <td>NaN</td>\n",
              "      <td>NaN</td>\n",
              "      <td>['COVID19', 'floripa', 'isolamento']</td>\n",
              "    </tr>\n",
              "    <tr>\n",
              "      <th>4</th>\n",
              "      <td>2020-03-30 00:43:36</td>\n",
              "      <td>Valnei do Val</td>\n",
              "      <td>vdoval</td>\n",
              "      <td>Que tal uma notícia boa, indo na contramão do ...</td>\n",
              "      <td>0.0</td>\n",
              "      <td>201.0</td>\n",
              "      <td>pt</td>\n",
              "      <td>NaN</td>\n",
              "      <td>NaN</td>\n",
              "      <td>NaN</td>\n",
              "      <td>NaN</td>\n",
              "      <td>NaN</td>\n",
              "      <td>[]</td>\n",
              "    </tr>\n",
              "    <tr>\n",
              "      <th>5</th>\n",
              "      <td>2020-04-07 23:19:44</td>\n",
              "      <td>Mauricio Ligabo</td>\n",
              "      <td>LigaboMauricio</td>\n",
              "      <td>@JoseMedeirosMT Seria isso algum tipo aleatóri...</td>\n",
              "      <td>0.0</td>\n",
              "      <td>23.0</td>\n",
              "      <td>pt</td>\n",
              "      <td>NaN</td>\n",
              "      <td>NaN</td>\n",
              "      <td>NaN</td>\n",
              "      <td>NaN</td>\n",
              "      <td>NaN</td>\n",
              "      <td>[]</td>\n",
              "    </tr>\n",
              "    <tr>\n",
              "      <th>6</th>\n",
              "      <td>2020-04-13 19:16:51</td>\n",
              "      <td>Gus</td>\n",
              "      <td>arrombagus</td>\n",
              "      <td>\"Nova York é o novo epicentro da pandemia de c...</td>\n",
              "      <td>3.0</td>\n",
              "      <td>253.0</td>\n",
              "      <td>pt</td>\n",
              "      <td>Santos</td>\n",
              "      <td>Brazil</td>\n",
              "      <td>BR</td>\n",
              "      <td>NaN</td>\n",
              "      <td>NaN</td>\n",
              "      <td>[]</td>\n",
              "    </tr>\n",
              "    <tr>\n",
              "      <th>7</th>\n",
              "      <td>2020-05-15 18:15:33</td>\n",
              "      <td>Silveacyr Maria Coelho Santos</td>\n",
              "      <td>silveacyr</td>\n",
              "      <td>@mitags Será por que o Bolsonaro não fez propa...</td>\n",
              "      <td>0.0</td>\n",
              "      <td>67.0</td>\n",
              "      <td>pt</td>\n",
              "      <td>NaN</td>\n",
              "      <td>NaN</td>\n",
              "      <td>NaN</td>\n",
              "      <td>NaN</td>\n",
              "      <td>NaN</td>\n",
              "      <td>[]</td>\n",
              "    </tr>\n",
              "    <tr>\n",
              "      <th>8</th>\n",
              "      <td>2020-04-08 22:04:51</td>\n",
              "      <td>lulleitao</td>\n",
              "      <td>lulleitao</td>\n",
              "      <td>@JeanSCorrea7 Mas ele não deu a entender que o...</td>\n",
              "      <td>0.0</td>\n",
              "      <td>2315.0</td>\n",
              "      <td>pt</td>\n",
              "      <td>NaN</td>\n",
              "      <td>NaN</td>\n",
              "      <td>NaN</td>\n",
              "      <td>NaN</td>\n",
              "      <td>NaN</td>\n",
              "      <td>[]</td>\n",
              "    </tr>\n",
              "    <tr>\n",
              "      <th>9</th>\n",
              "      <td>2020-04-02 13:04:55</td>\n",
              "      <td>Luizcarlosdospatetas@hotmail.com</td>\n",
              "      <td>Luizcarlosdosp5</td>\n",
              "      <td>#perguntacorona \\nQuero saber se a covid tem c...</td>\n",
              "      <td>0.0</td>\n",
              "      <td>0.0</td>\n",
              "      <td>pt</td>\n",
              "      <td>NaN</td>\n",
              "      <td>NaN</td>\n",
              "      <td>NaN</td>\n",
              "      <td>NaN</td>\n",
              "      <td>NaN</td>\n",
              "      <td>['perguntacorona']</td>\n",
              "    </tr>\n",
              "  </tbody>\n",
              "</table>\n",
              "</div>"
            ],
            "text/plain": [
              "  dados-curso-completo.csv  ...                              hashtags\n",
              "0      2020-03-23 18:51:14  ...                                    []\n",
              "1      2020-04-01 21:11:07  ...                                    []\n",
              "2      2020-06-25 11:09:19  ...                                    []\n",
              "3      2020-04-06 15:44:36  ...  ['COVID19', 'floripa', 'isolamento']\n",
              "4      2020-03-30 00:43:36  ...                                    []\n",
              "5      2020-04-07 23:19:44  ...                                    []\n",
              "6      2020-04-13 19:16:51  ...                                    []\n",
              "7      2020-05-15 18:15:33  ...                                    []\n",
              "8      2020-04-08 22:04:51  ...                                    []\n",
              "9      2020-04-02 13:04:55  ...                    ['perguntacorona']\n",
              "\n",
              "[10 rows x 13 columns]"
            ]
          },
          "metadata": {
            "tags": []
          },
          "execution_count": 120
        }
      ]
    },
    {
      "cell_type": "markdown",
      "metadata": {
        "id": "1GspCJaDTCVe"
      },
      "source": [
        "Criar o duvidasDB a partir do df"
      ]
    },
    {
      "cell_type": "code",
      "metadata": {
        "id": "qQNJVL03TDVD"
      },
      "source": [
        "duvidasDB = pd.DataFrame(columns=['duvida','id_df','doença','medicamento','organizacao','pessoa','outro'])"
      ],
      "execution_count": null,
      "outputs": []
    },
    {
      "cell_type": "markdown",
      "metadata": {
        "id": "0l2euwcITXQ2"
      },
      "source": [
        "funçao de inserir uma linha no novo dataframe (link: https://pt.stackoverflow.com/questions/319032/como-inserir-uma-linha-em-um-dataframe-pandas-no-meio-de-outras-linhas)"
      ]
    },
    {
      "cell_type": "code",
      "metadata": {
        "id": "6mumAfJiTWkh"
      },
      "source": [
        "def inserir_linha(idx, dfx, df_inserir):\n",
        "    dfA = dfx.iloc[:idx, ]\n",
        "    dfB = dfx.iloc[idx:, ]\n",
        "\n",
        "    dfx = dfA.append(df_inserir).append(dfB).reset_index(drop = True)\n",
        "\n",
        "    return dfx"
      ],
      "execution_count": null,
      "outputs": []
    },
    {
      "cell_type": "markdown",
      "metadata": {
        "id": "eOXTRGd1Tknc"
      },
      "source": [
        "\n",
        "Inserir duvidasDB"
      ]
    },
    {
      "cell_type": "code",
      "metadata": {
        "id": "0ZZYQMV5Ts35"
      },
      "source": [
        "#Código para Gerar o Duvidas DB \n",
        "for i in range(len(df[\"texto\"])):\n",
        "  aux = []\n",
        "  vet=[]\n",
        "  t = df['texto'][i]\n",
        "  x=re.split(r'[#.\\n]\\s*', t)\n",
        "  for j in range(len(x)):\n",
        "    cop = x[j]\n",
        "    y= cop.find(\"?\")\n",
        "    if(y != -1):\n",
        "      cop = cop[0:y+1]\n",
        "      aux.append(cop)\n",
        "       \n",
        "  for w in range(len(aux)): \n",
        "    d_iserido = d = {'duvida': [aux[w]], 'id_df': [i]}\n",
        "    df_iserido = pd.DataFrame(data = d_iserido)\n",
        "    duvidasDB = inserir_linha(cont, duvidasDB, df_iserido) \n",
        "    cont+=1 "
      ],
      "execution_count": null,
      "outputs": []
    },
    {
      "cell_type": "code",
      "metadata": {
        "id": "fmQJumK2XwVD"
      },
      "source": [
        "duvidasDB.head(1000)"
      ],
      "execution_count": null,
      "outputs": []
    },
    {
      "cell_type": "markdown",
      "metadata": {
        "id": "5Zc12hdAJYZT"
      },
      "source": [
        "#Criando Dicionário"
      ]
    },
    {
      "cell_type": "code",
      "metadata": {
        "id": "fFo7xMrPJa-P"
      },
      "source": [
        "dictDoenca = {1:['covid','coronavirus','covid19','covid-19','covid 19','coronavírus','corona virus','corona vírus'],2:'gripe',3:['pneumonia','respiração','problemas respiratorios'],4:['pandemia','pandemic','surtos','surto']}"
      ],
      "execution_count": null,
      "outputs": []
    },
    {
      "cell_type": "code",
      "metadata": {
        "id": "TK65GPaVJdx5"
      },
      "source": [
        "dictMedicamento = {1:'chá',2:'anita',3:'dorflex',4:['cloroquina','hidroxocloroquina'],5:'vacina',6:'azitromicina',7:'vitamina c',8:'zinco',9:'vitamina d',10:['ozonio','ozônio']}"
      ],
      "execution_count": null,
      "outputs": []
    },
    {
      "cell_type": "code",
      "metadata": {
        "id": "ShuUOWzsJiTx"
      },
      "source": [
        "dictOrganizacao = {1:[\"china\",\"governo chinês\",\"comunismo\",'comunista'],2:['brasil',\"brazil\"],3:['europa','italia'],4:[\"estados unidos\",\"eua\"],5:\"onu\",6:\"oms\",7:[\"mídia\",'midia','@jornaloglobo','@globonews','@revistaistoe','@revistaepoca','@revistacruzoe','@revistaterca','@folha','@veja','@estadao'],8:'congresso',9:['governador','prefeito','governadores','prefeitos','autoridade','autoridades']}"
      ],
      "execution_count": null,
      "outputs": []
    },
    {
      "cell_type": "code",
      "metadata": {
        "id": "n_LoLJkfJjBJ"
      },
      "source": [
        "dictPessoa = {1:['bolsonaro','bozo','boso','bilorilo','bonoro','presidente do brasil','@jairbolsonaro'],2:['@donaldtrump','donald','trump','presidente americano'],3:'Tedros ',4:['minSaude','ministro da saude','ministro da saúde','teich','nelson','@lhmandetta','@teichnelson'],5:'infectologista',6:['@felipeneto','felipe neto','felipefeto','felipe feto']}"
      ],
      "execution_count": null,
      "outputs": []
    },
    {
      "cell_type": "code",
      "metadata": {
        "id": "GdgDttx5JlN0"
      },
      "source": [
        "dictOutros = {1:'prioridades',2:'terror',3:'cura',4:'morte',5:'genocida',6:'transmissão',7:'grupo de risco',8:'distanciamento',9:'teste rapido',10:'isolamento',11:'lockdown',12:'quarentena',13:'aglomeração',14:'abertura',15:'economia',16:'fome',17:['auxilio','coronavoucher','600 reais'],18:['mascara','máscara','mask'],19:['imunidade','imune'],20:'pulmão',21:['aumento','queda'],22:['idoso','velho','acima de'],22:['morte','mortes']}"
      ],
      "execution_count": null,
      "outputs": []
    },
    {
      "cell_type": "markdown",
      "metadata": {
        "id": "kQkr3x3KKHge"
      },
      "source": [
        "#Persistencia dos Dados"
      ]
    },
    {
      "cell_type": "code",
      "metadata": {
        "id": "yAUnY8n9LM2F"
      },
      "source": [
        "#Transformar o duvidasDB em um arquivo de CSV\n",
        "#duvidasDB.to_csv('dvds.csv')"
      ],
      "execution_count": null,
      "outputs": []
    },
    {
      "cell_type": "code",
      "metadata": {
        "id": "y_mtzqu_LXmr"
      },
      "source": [
        "#Copiar o arquivo CSV para o google Drive\n",
        "#!cp dvds.csv \"/content/drive/Shared drives/trabalhomodulo2/\""
      ],
      "execution_count": null,
      "outputs": []
    },
    {
      "cell_type": "markdown",
      "metadata": {
        "id": "Ljf32mdMOvTN"
      },
      "source": [
        "link para usar o arquivo duvidasDB(dvds.csv) \n",
        "https://drive.google.com/file/d/1-2zjExHLOhDa26ZsVRwtOZKFPX1Isu_c/view?usp=sharing"
      ]
    },
    {
      "cell_type": "markdown",
      "metadata": {
        "id": "h_tcdvItG8C8"
      },
      "source": [
        "#Ler .csv"
      ]
    },
    {
      "cell_type": "code",
      "metadata": {
        "id": "kOzvbJVXG_At",
        "outputId": "9755da62-2262-44f1-a78c-9809fa1d952a",
        "colab": {
          "base_uri": "https://localhost:8080/",
          "height": 34
        }
      },
      "source": [
        "from google.colab import drive\n",
        "drive.mount('/content/drive')"
      ],
      "execution_count": null,
      "outputs": [
        {
          "output_type": "stream",
          "text": [
            "Mounted at /content/drive\n"
          ],
          "name": "stdout"
        }
      ]
    },
    {
      "cell_type": "code",
      "metadata": {
        "id": "w642kfdtHDFO"
      },
      "source": [
        "duvidasDB = pd.read_csv('/content/drive/Shared drives/trabalhomodulo2/dvds.csv')"
      ],
      "execution_count": null,
      "outputs": []
    },
    {
      "cell_type": "code",
      "metadata": {
        "id": "p7kTjXFRHFmd"
      },
      "source": [
        "duvidasDB = pd.DataFrame(duvidasDB)\n"
      ],
      "execution_count": null,
      "outputs": []
    },
    {
      "cell_type": "markdown",
      "metadata": {
        "id": "8yfKm5zXHvZx"
      },
      "source": [
        "#Preencher DuvidasDB"
      ]
    },
    {
      "cell_type": "code",
      "metadata": {
        "id": "Q9oXHRnAKhDs"
      },
      "source": [
        "def preencherbanco(dicionario,coluna):\n",
        "  for i in range(len(duvidasDB)): \n",
        "    verificador = False \n",
        "    aux = []\n",
        "    vet=[]\n",
        "    t = duvidasDB['duvida'][i]\n",
        "    t =  t.lower()\n",
        "    x = re.split(r'[#. \\n?]\\s*',t)\n",
        "    for j in range(len(x)):\n",
        "      cop = x[j]\n",
        "      #y= cop.find(\"?\")\n",
        "      for w in range(len(dicionario)):\n",
        "        w=w+1      \n",
        "        if type(dicionario[w]) == str:\n",
        "          if cop == dicionario[w]:\n",
        "            verificador = True\n",
        "            chave = w#valor da chave\n",
        "        elif type(dicionario[w]) == list : #verifica se eh uma lista\n",
        "          if cop in dicionario[w]:# verifica esta dentro da lista [covid, c19]\n",
        "            verificador = True\n",
        "            chave = w\n",
        "    if verificador:    \n",
        "      duvidasDB[coluna][i] = chave"
      ],
      "execution_count": null,
      "outputs": []
    },
    {
      "cell_type": "markdown",
      "metadata": {
        "id": "ScrzgLl0H9Dn"
      },
      "source": [
        "####Doença"
      ]
    },
    {
      "cell_type": "code",
      "metadata": {
        "id": "Rv70qui1K6pL",
        "outputId": "f622c698-58c1-4433-9afc-7e5d52198609",
        "colab": {
          "base_uri": "https://localhost:8080/",
          "height": 106
        }
      },
      "source": [
        "preencherbanco(dictDoenca,'doença')"
      ],
      "execution_count": null,
      "outputs": [
        {
          "output_type": "stream",
          "text": [
            "/usr/local/lib/python3.6/dist-packages/ipykernel_launcher.py:23: SettingWithCopyWarning: \n",
            "A value is trying to be set on a copy of a slice from a DataFrame\n",
            "\n",
            "See the caveats in the documentation: https://pandas.pydata.org/pandas-docs/stable/user_guide/indexing.html#returning-a-view-versus-a-copy\n"
          ],
          "name": "stderr"
        }
      ]
    },
    {
      "cell_type": "markdown",
      "metadata": {
        "id": "AhjQUUYyIDC5"
      },
      "source": [
        "####Medicamento"
      ]
    },
    {
      "cell_type": "code",
      "metadata": {
        "id": "Afsa2iDgLgEu",
        "outputId": "f54cfff0-7ddd-4dfb-ab31-ad875b516ce4",
        "colab": {
          "base_uri": "https://localhost:8080/",
          "height": 106
        }
      },
      "source": [
        "preencherbanco(dictMedicamento,'medicamento')"
      ],
      "execution_count": null,
      "outputs": [
        {
          "output_type": "stream",
          "text": [
            "/usr/local/lib/python3.6/dist-packages/ipykernel_launcher.py:23: SettingWithCopyWarning: \n",
            "A value is trying to be set on a copy of a slice from a DataFrame\n",
            "\n",
            "See the caveats in the documentation: https://pandas.pydata.org/pandas-docs/stable/user_guide/indexing.html#returning-a-view-versus-a-copy\n"
          ],
          "name": "stderr"
        }
      ]
    },
    {
      "cell_type": "markdown",
      "metadata": {
        "id": "cGQxOY2aIJpB"
      },
      "source": [
        "####organizaçao"
      ]
    },
    {
      "cell_type": "code",
      "metadata": {
        "id": "HjQugKnZLnWC",
        "outputId": "2ca9f6a5-8bc5-4e1a-bdc4-4a39ca0204a3",
        "colab": {
          "base_uri": "https://localhost:8080/",
          "height": 106
        }
      },
      "source": [
        "preencherbanco(dictOrganizacao,'organizacao')"
      ],
      "execution_count": null,
      "outputs": [
        {
          "output_type": "stream",
          "text": [
            "/usr/local/lib/python3.6/dist-packages/ipykernel_launcher.py:23: SettingWithCopyWarning: \n",
            "A value is trying to be set on a copy of a slice from a DataFrame\n",
            "\n",
            "See the caveats in the documentation: https://pandas.pydata.org/pandas-docs/stable/user_guide/indexing.html#returning-a-view-versus-a-copy\n"
          ],
          "name": "stderr"
        }
      ]
    },
    {
      "cell_type": "markdown",
      "metadata": {
        "id": "QGcWwRK2IQlm"
      },
      "source": [
        "####Pessoa"
      ]
    },
    {
      "cell_type": "code",
      "metadata": {
        "id": "Mu4AOxm8LyGd",
        "outputId": "d78e72ef-6d66-4eb5-e6cc-8db044cebd8c",
        "colab": {
          "base_uri": "https://localhost:8080/",
          "height": 106
        }
      },
      "source": [
        "preencherbanco(dictPessoa,'pessoa')"
      ],
      "execution_count": null,
      "outputs": [
        {
          "output_type": "stream",
          "text": [
            "/usr/local/lib/python3.6/dist-packages/ipykernel_launcher.py:23: SettingWithCopyWarning: \n",
            "A value is trying to be set on a copy of a slice from a DataFrame\n",
            "\n",
            "See the caveats in the documentation: https://pandas.pydata.org/pandas-docs/stable/user_guide/indexing.html#returning-a-view-versus-a-copy\n"
          ],
          "name": "stderr"
        }
      ]
    },
    {
      "cell_type": "markdown",
      "metadata": {
        "id": "9Y1THNQTIX_x"
      },
      "source": [
        "####Outro"
      ]
    },
    {
      "cell_type": "code",
      "metadata": {
        "id": "2X2S_-nZL6Id",
        "outputId": "b502ac18-aceb-4b83-f199-de2cf3afda2b",
        "colab": {
          "base_uri": "https://localhost:8080/",
          "height": 106
        }
      },
      "source": [
        "preencherbanco(dictOutros,'outro')"
      ],
      "execution_count": null,
      "outputs": [
        {
          "output_type": "stream",
          "text": [
            "/usr/local/lib/python3.6/dist-packages/ipykernel_launcher.py:23: SettingWithCopyWarning: \n",
            "A value is trying to be set on a copy of a slice from a DataFrame\n",
            "\n",
            "See the caveats in the documentation: https://pandas.pydata.org/pandas-docs/stable/user_guide/indexing.html#returning-a-view-versus-a-copy\n"
          ],
          "name": "stderr"
        }
      ]
    },
    {
      "cell_type": "markdown",
      "metadata": {
        "id": "8RBwEELbzvFI"
      },
      "source": [
        "#trabalhando em cima do duvidas e do df\n",
        "\n"
      ]
    },
    {
      "cell_type": "code",
      "metadata": {
        "id": "9G4bK5krYEwK",
        "outputId": "f1419d2c-4153-40d5-ce4d-ca0de25fa6b8",
        "colab": {
          "base_uri": "https://localhost:8080/",
          "height": 124
        }
      },
      "source": [
        "#Renomear a coluna data para o nome data\n",
        "df.rename(columns={'dados-curso-completo.csv':'datas'}, inplace=True)"
      ],
      "execution_count": null,
      "outputs": [
        {
          "output_type": "stream",
          "text": [
            "/usr/local/lib/python3.6/dist-packages/pandas/core/frame.py:4303: SettingWithCopyWarning: \n",
            "A value is trying to be set on a copy of a slice from a DataFrame\n",
            "\n",
            "See the caveats in the documentation: https://pandas.pydata.org/pandas-docs/stable/user_guide/indexing.html#returning-a-view-versus-a-copy\n",
            "  errors=errors,\n"
          ],
          "name": "stderr"
        }
      ]
    },
    {
      "cell_type": "code",
      "metadata": {
        "id": "cxh3U-dIZssq",
        "outputId": "0c6544d5-a871-4916-d747-3a194f17c4f5",
        "colab": {
          "base_uri": "https://localhost:8080/",
          "height": 144
        }
      },
      "source": [
        "duvidasDB.head(3)"
      ],
      "execution_count": null,
      "outputs": [
        {
          "output_type": "execute_result",
          "data": {
            "text/html": [
              "<div>\n",
              "<style scoped>\n",
              "    .dataframe tbody tr th:only-of-type {\n",
              "        vertical-align: middle;\n",
              "    }\n",
              "\n",
              "    .dataframe tbody tr th {\n",
              "        vertical-align: top;\n",
              "    }\n",
              "\n",
              "    .dataframe thead th {\n",
              "        text-align: right;\n",
              "    }\n",
              "</style>\n",
              "<table border=\"1\" class=\"dataframe\">\n",
              "  <thead>\n",
              "    <tr style=\"text-align: right;\">\n",
              "      <th></th>\n",
              "      <th>Unnamed: 0</th>\n",
              "      <th>duvida</th>\n",
              "      <th>id_df</th>\n",
              "      <th>doença</th>\n",
              "      <th>medicamento</th>\n",
              "      <th>organizacao</th>\n",
              "      <th>pessoa</th>\n",
              "      <th>outro</th>\n",
              "    </tr>\n",
              "  </thead>\n",
              "  <tbody>\n",
              "    <tr>\n",
              "      <th>0</th>\n",
              "      <td>0</td>\n",
              "      <td>@BolsonaroSP Cade o fundão deputado?</td>\n",
              "      <td>0</td>\n",
              "      <td>NaN</td>\n",
              "      <td>NaN</td>\n",
              "      <td>NaN</td>\n",
              "      <td>NaN</td>\n",
              "      <td>NaN</td>\n",
              "    </tr>\n",
              "    <tr>\n",
              "      <th>1</th>\n",
              "      <td>1</td>\n",
              "      <td>Fumaça de cigarro pode propagar coronavírus?</td>\n",
              "      <td>1</td>\n",
              "      <td>1.0</td>\n",
              "      <td>NaN</td>\n",
              "      <td>NaN</td>\n",
              "      <td>NaN</td>\n",
              "      <td>NaN</td>\n",
              "    </tr>\n",
              "    <tr>\n",
              "      <th>2</th>\n",
              "      <td>2</td>\n",
              "      <td>@ipratesMD @dr_pampers Será que corremos o ris...</td>\n",
              "      <td>2</td>\n",
              "      <td>NaN</td>\n",
              "      <td>NaN</td>\n",
              "      <td>NaN</td>\n",
              "      <td>NaN</td>\n",
              "      <td>NaN</td>\n",
              "    </tr>\n",
              "  </tbody>\n",
              "</table>\n",
              "</div>"
            ],
            "text/plain": [
              "   Unnamed: 0                                             duvida  ...  pessoa  outro\n",
              "0           0               @BolsonaroSP Cade o fundão deputado?  ...     NaN    NaN\n",
              "1           1       Fumaça de cigarro pode propagar coronavírus?  ...     NaN    NaN\n",
              "2           2  @ipratesMD @dr_pampers Será que corremos o ris...  ...     NaN    NaN\n",
              "\n",
              "[3 rows x 8 columns]"
            ]
          },
          "metadata": {
            "tags": []
          },
          "execution_count": 139
        }
      ]
    },
    {
      "cell_type": "code",
      "metadata": {
        "id": "6QyLSnClNqNr"
      },
      "source": [
        "duvidasDB.rename(columns={'id_df': 'IDdf'}, inplace=True)"
      ],
      "execution_count": null,
      "outputs": []
    },
    {
      "cell_type": "code",
      "metadata": {
        "id": "AE4saLYhemAK"
      },
      "source": [
        "df.columns"
      ],
      "execution_count": null,
      "outputs": []
    },
    {
      "cell_type": "code",
      "metadata": {
        "id": "uK9wflhLg-DP"
      },
      "source": [
        "duvidasDB.columns"
      ],
      "execution_count": null,
      "outputs": []
    },
    {
      "cell_type": "code",
      "metadata": {
        "id": "ToHP2c5JhAOh"
      },
      "source": [
        "x = []\n",
        "for i in range(len(df)):\n",
        "  x.append(i)\n"
      ],
      "execution_count": null,
      "outputs": []
    },
    {
      "cell_type": "code",
      "metadata": {
        "id": "u1T_yXsxie1S"
      },
      "source": [
        "df['IDdf'] = x\n"
      ],
      "execution_count": null,
      "outputs": []
    },
    {
      "cell_type": "code",
      "metadata": {
        "id": "H9Jy3YeIik4f"
      },
      "source": [
        "duvidasDB.rename(columns={'id_df': 'IDdf'}, inplace=True)"
      ],
      "execution_count": null,
      "outputs": []
    },
    {
      "cell_type": "code",
      "metadata": {
        "id": "Jx1p10WIebcP"
      },
      "source": [
        "tab = pd.merge(df, duvidasDB, on='IDdf')"
      ],
      "execution_count": null,
      "outputs": []
    },
    {
      "cell_type": "markdown",
      "metadata": {
        "id": "kdzgJSoaqZKG"
      },
      "source": [
        "## 1- qual pais mais gerou duvidas?"
      ]
    },
    {
      "cell_type": "markdown",
      "metadata": {
        "id": "HXF2P1zB0nfw"
      },
      "source": [
        "###Gerando um dicionario para pegar os valores"
      ]
    },
    {
      "cell_type": "code",
      "metadata": {
        "id": "JMFkV1KoptCI"
      },
      "source": [
        "p = tab['pais'].value_counts()\n",
        "kp = p.keys()\n",
        "vp = p.values"
      ],
      "execution_count": null,
      "outputs": []
    },
    {
      "cell_type": "markdown",
      "metadata": {
        "id": "HPU_60980tNF"
      },
      "source": [
        "###Gerando o gráfico em pizza "
      ]
    },
    {
      "cell_type": "code",
      "metadata": {
        "id": "VMMf_vBLpxC0",
        "outputId": "9a065702-3ac4-4c31-a4f8-2d0f033e3aa3",
        "colab": {
          "base_uri": "https://localhost:8080/",
          "height": 265
        }
      },
      "source": [
        "v_bras = vp[0]\n",
        "v_outros = sum(vp) - vp[0]\n",
        "\n",
        "Grafico_pizza = {\"Brazil\" : v_bras, \"Outros\":v_outros}\n",
        "\n",
        "nomes_gp = list(Grafico_pizza.keys())\n",
        "valores_gp = list(Grafico_pizza.values())\n",
        "\n",
        "fig1, ax1 = plt.subplots()\n",
        "ax1.pie(valores_gp, labels=nomes_gp, autopct='%1.1f%%',\n",
        "        shadow=True, startangle=90)\n",
        "ax1.axis('equal')  # Equal aspect ratio ensures that pie is drawn as a circle.\n",
        "plt.title(\"Países que Perguntaram\")\n",
        "plt.show()"
      ],
      "execution_count": null,
      "outputs": [
        {
          "output_type": "display_data",
          "data": {
            "image/png": "[encoded data removed]",
            "text/plain": [
              "<Figure size 432x288 with 1 Axes>"
            ]
          },
          "metadata": {
            "tags": []
          }
        }
      ]
    },
    {
      "cell_type": "markdown",
      "metadata": {
        "id": "j93budEMqvhJ"
      },
      "source": [
        "## 2 - qual foi tema mais debatido no mundo e do brasil?"
      ]
    },
    {
      "cell_type": "markdown",
      "metadata": {
        "id": "8jHzPPeA0UTb"
      },
      "source": [
        "###criando variaveis para receber a soma do total de cada tema"
      ]
    },
    {
      "cell_type": "code",
      "metadata": {
        "id": "teRFmefUmRci"
      },
      "source": [
        "tabpessoas = sum(tab['pessoa'].value_counts())\n",
        "labelpessoa= 'Pessoas :',tabpessoas"
      ],
      "execution_count": null,
      "outputs": []
    },
    {
      "cell_type": "code",
      "metadata": {
        "id": "SaxExPmzq4HK"
      },
      "source": [
        "tabdoencas = sum(tab['doença'].value_counts())\n",
        "labeldoenca = 'Doenças :',tabdoencas"
      ],
      "execution_count": null,
      "outputs": []
    },
    {
      "cell_type": "code",
      "metadata": {
        "id": "fh8lzH0VQpaM"
      },
      "source": [
        "tabmedicamento = sum(tab['medicamento'].value_counts())\n",
        "labelmedicamento = 'Remédios:',tabmedicamento"
      ],
      "execution_count": null,
      "outputs": []
    },
    {
      "cell_type": "code",
      "metadata": {
        "id": "4tLJxUgMsBnN"
      },
      "source": [
        "taborganizacao = sum(tab['organizacao'].value_counts())\n",
        "labelorganizacao = 'Organizações: ',taborganizacao"
      ],
      "execution_count": null,
      "outputs": []
    },
    {
      "cell_type": "code",
      "metadata": {
        "id": "HmXyxG-wtcpW"
      },
      "source": [
        "taboutro = sum(tab['outro'].value_counts())\n",
        "labeloutro = 'Outros :',taboutro"
      ],
      "execution_count": null,
      "outputs": []
    },
    {
      "cell_type": "markdown",
      "metadata": {
        "id": "q817-afr0eqs"
      },
      "source": [
        "###Gerando um gráfico em barra para um comparativo rápido"
      ]
    },
    {
      "cell_type": "code",
      "metadata": {
        "id": "UU3vsoTptvVS",
        "outputId": "832dfa6d-7bf5-41b9-f6e1-80b20521e600",
        "colab": {
          "base_uri": "https://localhost:8080/",
          "height": 281
        }
      },
      "source": [
        "\n",
        "plt.bar('Pessoas',[tabpessoas],width=0.8, label=labelpessoa, color='r')\n",
        "\n",
        "plt.bar('Doenças',[tabdoencas],width=0.8, label=labeldoenca, color='b')\n",
        "\n",
        "plt.bar('Remédios',[tabmedicamento],width=0.8, label=labelmedicamento, color='y')\n",
        "\n",
        "plt.bar('Organizaçãos',[taborganizacao],width=0.8, label=labelorganizacao, color='m')\n",
        "\n",
        "plt.bar('Outros',[taboutro],width=0.8, label=labeloutro, color='k')\n",
        "\n",
        "plt.legend()\n",
        "\n",
        "plt.xlabel('')\n",
        "plt.ylabel('Número de perguntas')\n",
        "\n",
        "plt.title('Tema mais discutido')\n",
        "\n",
        "plt.show()"
      ],
      "execution_count": null,
      "outputs": [
        {
          "output_type": "display_data",
          "data": {
            "image/png": "[encoded data removed]",
            "text/plain": [
              "<Figure size 432x288 with 1 Axes>"
            ]
          },
          "metadata": {
            "tags": [],
            "needs_background": "light"
          }
        }
      ]
    },
    {
      "cell_type": "code",
      "metadata": {
        "id": "1ppotzPP05Nb"
      },
      "source": [
        ""
      ],
      "execution_count": null,
      "outputs": []
    },
    {
      "cell_type": "markdown",
      "metadata": {
        "id": "VqzQwknvecp9"
      },
      "source": [
        "\n",
        "qual tema mais debatido mes a mes?\n",
        "quem foi o mais citado mes a mes?"
      ]
    },
    {
      "cell_type": "code",
      "metadata": {
        "id": "Sj00Xh2m2gpR"
      },
      "source": [
        ""
      ],
      "execution_count": null,
      "outputs": []
    },
    {
      "cell_type": "code",
      "metadata": {
        "id": "P7cxgg611DbB"
      },
      "source": [
        "import datetime"
      ],
      "execution_count": null,
      "outputs": []
    },
    {
      "cell_type": "code",
      "metadata": {
        "id": "4Sels_080_0b"
      },
      "source": [
        "tab['datas'] = pd.to_datetime(tab['datas'], format='%Y-%m-%d %H:%M:%S.%f')"
      ],
      "execution_count": null,
      "outputs": []
    },
    {
      "cell_type": "code",
      "metadata": {
        "id": "qm7NLDqZSWkN"
      },
      "source": [
        "meses = []"
      ],
      "execution_count": null,
      "outputs": []
    },
    {
      "cell_type": "code",
      "metadata": {
        "id": "f5j2tTYKdAWR"
      },
      "source": [
        "for i in range(len(tab)):\n",
        "  meses.append(tab['datas'][i].month)"
      ],
      "execution_count": null,
      "outputs": []
    },
    {
      "cell_type": "code",
      "metadata": {
        "id": "civg2UjsedCi"
      },
      "source": [
        "tab['mes'] = meses"
      ],
      "execution_count": null,
      "outputs": []
    },
    {
      "cell_type": "code",
      "metadata": {
        "id": "MUBQ74o1klPA"
      },
      "source": [
        "tab.rename(columns={'meses': 'mes'}, inplace=True)"
      ],
      "execution_count": null,
      "outputs": []
    },
    {
      "cell_type": "code",
      "metadata": {
        "id": "Kq7-xdvaSxyy"
      },
      "source": [
        "def plotar(dicionario,barras,i):\n",
        "  \n",
        "  med = tab.groupby(['mes'])[barras].value_counts()\n",
        "  ind =med.keys().get_level_values(0).unique()\n",
        "  x = med[ind[i]]\n",
        "  fig = plt.figure(figsize=(10,5))\n",
        "  chave = list(x.keys())\n",
        "  rotulo = []\n",
        "  \n",
        "  for j in range(len(chave)):\n",
        "    if type(dicionario[chave[j]]) == str:\n",
        "      rotulo.append(dicionario[chave[j]])\n",
        "    else:\n",
        "      rotulo.append(dicionario[chave[j]][0])\n",
        "  plt.bar(rotulo,x.values, label=rotulo,width= 0.8)\n",
        "  #plt.pie(x.values, labels=x.keys() ,autopct='%1.1f%%',shadow=True, startangle=90)\n",
        "  nomegrafico = print('tabela',barras,'do mês',ind[i])\n",
        "  plt.title(nomegrafico)\n",
        "\n",
        "  plt.show()"
      ],
      "execution_count": null,
      "outputs": []
    },
    {
      "cell_type": "markdown",
      "metadata": {
        "id": "_g31oBCVTgdL"
      },
      "source": [
        "####Doença"
      ]
    },
    {
      "cell_type": "code",
      "metadata": {
        "id": "5oyS0rdYUsYW",
        "outputId": "5f64fa8b-ba1a-43b3-8f68-375b0f06521e",
        "colab": {
          "base_uri": "https://localhost:8080/",
          "height": 1000
        }
      },
      "source": [
        "for i in range(6):\n",
        "  plotar(dictDoenca,'doença',i)"
      ],
      "execution_count": null,
      "outputs": [
        {
          "output_type": "stream",
          "text": [
            "tabela doença do mês 1\n"
          ],
          "name": "stdout"
        },
        {
          "output_type": "display_data",
          "data": {
            "image/png": "[encoded data removed]",
            "text/plain": [
              "<Figure size 720x360 with 1 Axes>"
            ]
          },
          "metadata": {
            "tags": [],
            "needs_background": "light"
          }
        },
        {
          "output_type": "stream",
          "text": [
            "tabela doença do mês 2\n"
          ],
          "name": "stdout"
        },
        {
          "output_type": "display_data",
          "data": {
            "image/png": "[encoded data removed]",
            "text/plain": [
              "<Figure size 720x360 with 1 Axes>"
            ]
          },
          "metadata": {
            "tags": [],
            "needs_background": "light"
          }
        },
        {
          "output_type": "stream",
          "text": [
            "tabela doença do mês 3\n"
          ],
          "name": "stdout"
        },
        {
          "output_type": "display_data",
          "data": {
            "image/png": "[encoded data removed]",
            "text/plain": [
              "<Figure size 720x360 with 1 Axes>"
            ]
          },
          "metadata": {
            "tags": [],
            "needs_background": "light"
          }
        },
        {
          "output_type": "stream",
          "text": [
            "tabela doença do mês 4\n"
          ],
          "name": "stdout"
        },
        {
          "output_type": "display_data",
          "data": {
            "image/png": "[encoded data removed]",
            "text/plain": [
              "<Figure size 720x360 with 1 Axes>"
            ]
          },
          "metadata": {
            "tags": [],
            "needs_background": "light"
          }
        },
        {
          "output_type": "stream",
          "text": [
            "tabela doença do mês 5\n"
          ],
          "name": "stdout"
        },
        {
          "output_type": "display_data",
          "data": {
            "image/png": "[encoded data removed]",
            "text/plain": [
              "<Figure size 720x360 with 1 Axes>"
            ]
          },
          "metadata": {
            "tags": [],
            "needs_background": "light"
          }
        },
        {
          "output_type": "stream",
          "text": [
            "tabela doença do mês 6\n"
          ],
          "name": "stdout"
        },
        {
          "output_type": "display_data",
          "data": {
            "image/png": "[encoded data removed]",
            "text/plain": [
              "<Figure size 720x360 with 1 Axes>"
            ]
          },
          "metadata": {
            "tags": [],
            "needs_background": "light"
          }
        }
      ]
    },
    {
      "cell_type": "markdown",
      "metadata": {
        "id": "HqwvoXdLT2xt"
      },
      "source": [
        "####Medicamento"
      ]
    },
    {
      "cell_type": "code",
      "metadata": {
        "id": "UHbO8IsEU5Gd",
        "outputId": "e4023c35-6ef8-48d3-b9d9-7d95d1437e12",
        "colab": {
          "base_uri": "https://localhost:8080/",
          "height": 1000
        }
      },
      "source": [
        "for i in range(6):\n",
        "  plotar(dictMedicamento,'medicamento',i)"
      ],
      "execution_count": null,
      "outputs": [
        {
          "output_type": "stream",
          "text": [
            "tabela medicamento do mês 1\n"
          ],
          "name": "stdout"
        },
        {
          "output_type": "display_data",
          "data": {
            "image/png": "[encoded data removed]",
            "text/plain": [
              "<Figure size 720x360 with 1 Axes>"
            ]
          },
          "metadata": {
            "tags": [],
            "needs_background": "light"
          }
        },
        {
          "output_type": "stream",
          "text": [
            "tabela medicamento do mês 2\n"
          ],
          "name": "stdout"
        },
        {
          "output_type": "display_data",
          "data": {
            "image/png": "[encoded data removed]",
            "text/plain": [
              "<Figure size 720x360 with 1 Axes>"
            ]
          },
          "metadata": {
            "tags": [],
            "needs_background": "light"
          }
        },
        {
          "output_type": "stream",
          "text": [
            "tabela medicamento do mês 3\n"
          ],
          "name": "stdout"
        },
        {
          "output_type": "display_data",
          "data": {
            "image/png": "[encoded data removed]",
            "text/plain": [
              "<Figure size 720x360 with 1 Axes>"
            ]
          },
          "metadata": {
            "tags": [],
            "needs_background": "light"
          }
        },
        {
          "output_type": "stream",
          "text": [
            "tabela medicamento do mês 4\n"
          ],
          "name": "stdout"
        },
        {
          "output_type": "display_data",
          "data": {
            "image/png": "[encoded data removed]",
            "text/plain": [
              "<Figure size 720x360 with 1 Axes>"
            ]
          },
          "metadata": {
            "tags": [],
            "needs_background": "light"
          }
        },
        {
          "output_type": "stream",
          "text": [
            "tabela medicamento do mês 5\n"
          ],
          "name": "stdout"
        },
        {
          "output_type": "display_data",
          "data": {
            "image/png": "[encoded data removed]",
            "text/plain": [
              "<Figure size 720x360 with 1 Axes>"
            ]
          },
          "metadata": {
            "tags": [],
            "needs_background": "light"
          }
        },
        {
          "output_type": "stream",
          "text": [
            "tabela medicamento do mês 6\n"
          ],
          "name": "stdout"
        },
        {
          "output_type": "display_data",
          "data": {
            "image/png": "[encoded data removed]",
            "text/plain": [
              "<Figure size 720x360 with 1 Axes>"
            ]
          },
          "metadata": {
            "tags": [],
            "needs_background": "light"
          }
        }
      ]
    },
    {
      "cell_type": "markdown",
      "metadata": {
        "id": "HXv8xj2hUSns"
      },
      "source": [
        "Organização"
      ]
    },
    {
      "cell_type": "code",
      "metadata": {
        "id": "cMBJ84QgUV8c",
        "outputId": "d3821280-18ee-4fa3-ae48-4612f135755c",
        "colab": {
          "base_uri": "https://localhost:8080/",
          "height": 1000
        }
      },
      "source": [
        "for i in range(6):\n",
        "  plotar(dictOrganizacao,'organizacao',i)"
      ],
      "execution_count": null,
      "outputs": [
        {
          "output_type": "stream",
          "text": [
            "tabela organizacao do mês 1\n"
          ],
          "name": "stdout"
        },
        {
          "output_type": "display_data",
          "data": {
            "image/png": "[encoded data removed]",
            "text/plain": [
              "<Figure size 720x360 with 1 Axes>"
            ]
          },
          "metadata": {
            "tags": [],
            "needs_background": "light"
          }
        },
        {
          "output_type": "stream",
          "text": [
            "tabela organizacao do mês 2\n"
          ],
          "name": "stdout"
        },
        {
          "output_type": "display_data",
          "data": {
            "image/png": "[encoded data removed]",
            "text/plain": [
              "<Figure size 720x360 with 1 Axes>"
            ]
          },
          "metadata": {
            "tags": [],
            "needs_background": "light"
          }
        },
        {
          "output_type": "stream",
          "text": [
            "tabela organizacao do mês 3\n"
          ],
          "name": "stdout"
        },
        {
          "output_type": "display_data",
          "data": {
            "image/png": "[encoded data removed]",
            "text/plain": [
              "<Figure size 720x360 with 1 Axes>"
            ]
          },
          "metadata": {
            "tags": [],
            "needs_background": "light"
          }
        },
        {
          "output_type": "stream",
          "text": [
            "tabela organizacao do mês 4\n"
          ],
          "name": "stdout"
        },
        {
          "output_type": "display_data",
          "data": {
            "image/png": "[encoded data removed]",
            "text/plain": [
              "<Figure size 720x360 with 1 Axes>"
            ]
          },
          "metadata": {
            "tags": [],
            "needs_background": "light"
          }
        },
        {
          "output_type": "stream",
          "text": [
            "tabela organizacao do mês 5\n"
          ],
          "name": "stdout"
        },
        {
          "output_type": "display_data",
          "data": {
            "image/png": "[encoded data removed]",
            "text/plain": [
              "<Figure size 720x360 with 1 Axes>"
            ]
          },
          "metadata": {
            "tags": [],
            "needs_background": "light"
          }
        },
        {
          "output_type": "stream",
          "text": [
            "tabela organizacao do mês 6\n"
          ],
          "name": "stdout"
        },
        {
          "output_type": "display_data",
          "data": {
            "image/png": "[encoded data removed]",
            "text/plain": [
              "<Figure size 720x360 with 1 Axes>"
            ]
          },
          "metadata": {
            "tags": [],
            "needs_background": "light"
          }
        }
      ]
    },
    {
      "cell_type": "markdown",
      "metadata": {
        "id": "tXPEnLgfVMkR"
      },
      "source": [
        "Pessoas"
      ]
    },
    {
      "cell_type": "code",
      "metadata": {
        "id": "ETWMtKbJVLn2",
        "outputId": "b2c4c67d-9b67-484e-e058-ba13cf24d404",
        "colab": {
          "base_uri": "https://localhost:8080/",
          "height": 1000
        }
      },
      "source": [
        "for i in range(6):\n",
        "  plotar(dictPessoa,'pessoa',i)"
      ],
      "execution_count": null,
      "outputs": [
        {
          "output_type": "stream",
          "text": [
            "tabela pessoa do mês 1\n"
          ],
          "name": "stdout"
        },
        {
          "output_type": "display_data",
          "data": {
            "image/png": "[encoded data removed]",
            "text/plain": [
              "<Figure size 720x360 with 1 Axes>"
            ]
          },
          "metadata": {
            "tags": [],
            "needs_background": "light"
          }
        },
        {
          "output_type": "stream",
          "text": [
            "tabela pessoa do mês 2\n"
          ],
          "name": "stdout"
        },
        {
          "output_type": "display_data",
          "data": {
            "image/png": "[encoded data removed]",
            "text/plain": [
              "<Figure size 720x360 with 1 Axes>"
            ]
          },
          "metadata": {
            "tags": [],
            "needs_background": "light"
          }
        },
        {
          "output_type": "stream",
          "text": [
            "tabela pessoa do mês 3\n"
          ],
          "name": "stdout"
        },
        {
          "output_type": "display_data",
          "data": {
            "image/png": "[encoded data removed]",
            "text/plain": [
              "<Figure size 720x360 with 1 Axes>"
            ]
          },
          "metadata": {
            "tags": [],
            "needs_background": "light"
          }
        },
        {
          "output_type": "stream",
          "text": [
            "tabela pessoa do mês 4\n"
          ],
          "name": "stdout"
        },
        {
          "output_type": "display_data",
          "data": {
            "image/png": "[encoded data removed]",
            "text/plain": [
              "<Figure size 720x360 with 1 Axes>"
            ]
          },
          "metadata": {
            "tags": [],
            "needs_background": "light"
          }
        },
        {
          "output_type": "stream",
          "text": [
            "tabela pessoa do mês 5\n"
          ],
          "name": "stdout"
        },
        {
          "output_type": "display_data",
          "data": {
            "image/png": "[encoded data removed]",
            "text/plain": [
              "<Figure size 720x360 with 1 Axes>"
            ]
          },
          "metadata": {
            "tags": [],
            "needs_background": "light"
          }
        },
        {
          "output_type": "stream",
          "text": [
            "tabela pessoa do mês 6\n"
          ],
          "name": "stdout"
        },
        {
          "output_type": "display_data",
          "data": {
            "image/png": "[encoded data removed]",
            "text/plain": [
              "<Figure size 720x360 with 1 Axes>"
            ]
          },
          "metadata": {
            "tags": [],
            "needs_background": "light"
          }
        }
      ]
    },
    {
      "cell_type": "markdown",
      "metadata": {
        "id": "zPoutTwQWRO9"
      },
      "source": [
        "Outros"
      ]
    },
    {
      "cell_type": "code",
      "metadata": {
        "id": "jmpa8HJEWSr2",
        "outputId": "57f5f8a9-6e2c-4d2f-aefe-fa2975d15631",
        "colab": {
          "base_uri": "https://localhost:8080/",
          "height": 1000
        }
      },
      "source": [
        "for i in range(6):\n",
        "  plotar(dictOutros,'outro',i)"
      ],
      "execution_count": null,
      "outputs": [
        {
          "output_type": "stream",
          "text": [
            "tabela outro do mês 1\n"
          ],
          "name": "stdout"
        },
        {
          "output_type": "display_data",
          "data": {
            "image/png": "[encoded data removed]",
            "text/plain": [
              "<Figure size 720x360 with 1 Axes>"
            ]
          },
          "metadata": {
            "tags": [],
            "needs_background": "light"
          }
        },
        {
          "output_type": "stream",
          "text": [
            "tabela outro do mês 2\n"
          ],
          "name": "stdout"
        },
        {
          "output_type": "display_data",
          "data": {
            "image/png": "[encoded data removed]",
            "text/plain": [
              "<Figure size 720x360 with 1 Axes>"
            ]
          },
          "metadata": {
            "tags": [],
            "needs_background": "light"
          }
        },
        {
          "output_type": "stream",
          "text": [
            "tabela outro do mês 3\n"
          ],
          "name": "stdout"
        },
        {
          "output_type": "display_data",
          "data": {
            "image/png": "[encoded data removed]",
            "text/plain": [
              "<Figure size 720x360 with 1 Axes>"
            ]
          },
          "metadata": {
            "tags": [],
            "needs_background": "light"
          }
        },
        {
          "output_type": "stream",
          "text": [
            "tabela outro do mês 4\n"
          ],
          "name": "stdout"
        },
        {
          "output_type": "display_data",
          "data": {
            "image/png": "[encoded data removed]",
            "text/plain": [
              "<Figure size 720x360 with 1 Axes>"
            ]
          },
          "metadata": {
            "tags": [],
            "needs_background": "light"
          }
        },
        {
          "output_type": "stream",
          "text": [
            "tabela outro do mês 5\n"
          ],
          "name": "stdout"
        },
        {
          "output_type": "display_data",
          "data": {
            "image/png": "[encoded data removed]",
            "text/plain": [
              "<Figure size 720x360 with 1 Axes>"
            ]
          },
          "metadata": {
            "tags": [],
            "needs_background": "light"
          }
        },
        {
          "output_type": "stream",
          "text": [
            "tabela outro do mês 6\n"
          ],
          "name": "stdout"
        },
        {
          "output_type": "display_data",
          "data": {
            "image/png": "[encoded data removed]",
            "text/plain": [
              "<Figure size 720x360 with 1 Axes>"
            ]
          },
          "metadata": {
            "tags": [],
            "needs_background": "light"
          }
        }
      ]
    },
    {
      "cell_type": "markdown",
      "metadata": {
        "id": "JTfBxufBXB8A"
      },
      "source": [
        "###Mapa geográfico das perguntas"
      ]
    },
    {
      "cell_type": "code",
      "metadata": {
        "id": "ZwvUgbJMXH68",
        "outputId": "34a63fff-242d-4d80-cc66-4d93bd4d4b22",
        "colab": {
          "base_uri": "https://localhost:8080/",
          "height": 218
        }
      },
      "source": [
        "m = Basemap()\n",
        "m.drawcoastlines()\n",
        "m.drawcountries()\n",
        "#m.drawstates() \n",
        "m.bluemarble() #adiciona os oceanos\n",
        "\n",
        "\n",
        "m.plot(tab['latitude'],tab['longitude'], 'ro')\n",
        "\n",
        "\n",
        "\n",
        "plt.title(\"Mapa Tweets\")\n",
        "plt.show()"
      ],
      "execution_count": null,
      "outputs": [
        {
          "output_type": "display_data",
          "data": {
            "image/png": "[encoded data removed]",
            "text/plain": [
              "<Figure size 432x288 with 1 Axes>"
            ]
          },
          "metadata": {
            "tags": []
          }
        }
      ]
    }
  ]
}