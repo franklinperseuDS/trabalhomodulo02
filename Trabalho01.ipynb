{
  "nbformat": 4,
  "nbformat_minor": 0,
  "metadata": {
    "colab": {
      "name": "Trabalho01.ipynb",
      "provenance": [],
      "collapsed_sections": [],
      "toc_visible": true,
      "include_colab_link": true
    },
    "kernelspec": {
      "name": "python3",
      "display_name": "Python 3"
    }
  },
  "cells": [
    {
      "cell_type": "markdown",
      "metadata": {
        "id": "view-in-github",
        "colab_type": "text"
      },
      "source": [
        "<a href=\"https://colab.research.google.com/github/franklinperseuDS/trabalhomodulo02/blob/master/Trabalho01.ipynb\" target=\"_parent\"><img src=\"https://colab.research.google.com/assets/colab-badge.svg\" alt=\"Open In Colab\"/></a>"
      ]
    },
    {
      "cell_type": "markdown",
      "metadata": {
        "id": "vCIpwM9EfnA0",
        "colab_type": "text"
      },
      "source": [
        "###Coletando os dados para o trabalho"
      ]
    },
    {
      "cell_type": "markdown",
      "metadata": {
        "id": "TfEjkfH1ckU-",
        "colab_type": "text"
      },
      "source": [
        "####fazendo os importes."
      ]
    },
    {
      "cell_type": "code",
      "metadata": {
        "id": "HZPi6yFxhsIe",
        "colab_type": "code",
        "colab": {}
      },
      "source": [
        "import pandas as pd\n",
        "import numpy as np\n",
        "from matplotlib import pyplot as plt"
      ],
      "execution_count": null,
      "outputs": []
    },
    {
      "cell_type": "code",
      "metadata": {
        "id": "UJHxw1MkU4uS",
        "colab_type": "code",
        "colab": {
          "base_uri": "https://localhost:8080/",
          "height": 208
        },
        "outputId": "5e3f1f20-c474-45b4-fffe-cb935d868c55"
      },
      "source": [
        "!wget http://tiagodemelo.info/datasets/dados-curso-completo.csv.tar.gz"
      ],
      "execution_count": null,
      "outputs": [
        {
          "output_type": "stream",
          "text": [
            "--2020-09-22 23:40:16--  http://tiagodemelo.info/datasets/dados-curso-completo.csv.tar.gz\n",
            "Resolving tiagodemelo.info (tiagodemelo.info)... 108.167.188.189\n",
            "Connecting to tiagodemelo.info (tiagodemelo.info)|108.167.188.189|:80... connected.\n",
            "HTTP request sent, awaiting response... 200 OK\n",
            "Length: 143340808 (137M) [application/x-gzip]\n",
            "Saving to: ‘dados-curso-completo.csv.tar.gz.1’\n",
            "\n",
            "dados-curso-complet 100%[===================>] 136.70M  15.5MB/s    in 11s     \n",
            "\n",
            "2020-09-22 23:40:28 (12.8 MB/s) - ‘dados-curso-completo.csv.tar.gz.1’ saved [143340808/143340808]\n",
            "\n"
          ],
          "name": "stdout"
        }
      ]
    },
    {
      "cell_type": "markdown",
      "metadata": {
        "id": "iy4FbtDlgl2U",
        "colab_type": "text"
      },
      "source": [
        "###Extraindo o arquivo gz\n",
        "  "
      ]
    },
    {
      "cell_type": "code",
      "metadata": {
        "id": "gksxr3H8gr6g",
        "colab_type": "code",
        "colab": {}
      },
      "source": [
        "import gzip\n",
        "import shutil\n",
        "\n",
        "with gzip.open('dados-curso-completo.csv.tar.gz', 'rb') as entrada:\n",
        "    with open('dados-curso.csv', 'wb') as saida:\n",
        "        shutil.copyfileobj(entrada, saida)"
      ],
      "execution_count": null,
      "outputs": []
    },
    {
      "cell_type": "markdown",
      "metadata": {
        "id": "NxHZasQ6hXmE",
        "colab_type": "text"
      },
      "source": [
        "###adicionando os arquivos em um dataframe"
      ]
    },
    {
      "cell_type": "code",
      "metadata": {
        "id": "504qjpTvhhGL",
        "colab_type": "code",
        "colab": {}
      },
      "source": [
        "dados = pd.read_csv(\"/content/dados-curso.csv\")"
      ],
      "execution_count": null,
      "outputs": []
    },
    {
      "cell_type": "code",
      "metadata": {
        "id": "Sab7GZEutLWN",
        "colab_type": "code",
        "colab": {}
      },
      "source": [
        "dados = pd.DataFrame(dados)"
      ],
      "execution_count": null,
      "outputs": []
    },
    {
      "cell_type": "code",
      "metadata": {
        "id": "gKpKES7Tv4Xo",
        "colab_type": "code",
        "colab": {
          "base_uri": "https://localhost:8080/",
          "height": 34
        },
        "outputId": "fb5a5af2-b177-4322-a7a8-5a43f751d745"
      },
      "source": [
        "type(dados)"
      ],
      "execution_count": null,
      "outputs": [
        {
          "output_type": "execute_result",
          "data": {
            "text/plain": [
              "pandas.core.frame.DataFrame"
            ]
          },
          "metadata": {
            "tags": []
          },
          "execution_count": 33
        }
      ]
    },
    {
      "cell_type": "markdown",
      "metadata": {
        "id": "mj6MwgmmiCKL",
        "colab_type": "text"
      },
      "source": [
        "###verificando a quantidade de linhas x colunas do Dataset"
      ]
    },
    {
      "cell_type": "code",
      "metadata": {
        "id": "rFHuAlkWh6kj",
        "colab_type": "code",
        "colab": {
          "base_uri": "https://localhost:8080/",
          "height": 34
        },
        "outputId": "4a7df64e-d458-4213-f9ad-d7b30c6bfd76"
      },
      "source": [
        "dados.shape"
      ],
      "execution_count": null,
      "outputs": [
        {
          "output_type": "execute_result",
          "data": {
            "text/plain": [
              "(1658826, 13)"
            ]
          },
          "metadata": {
            "tags": []
          },
          "execution_count": 34
        }
      ]
    },
    {
      "cell_type": "code",
      "metadata": {
        "id": "VvnXhmqkC5Ch",
        "colab_type": "code",
        "colab": {
          "base_uri": "https://localhost:8080/",
          "height": 574
        },
        "outputId": "d3582b07-3e18-43e1-80d3-b4d13b078f64"
      },
      "source": [
        "\n",
        "dados.head()"
      ],
      "execution_count": null,
      "outputs": [
        {
          "output_type": "execute_result",
          "data": {
            "text/html": [
              "<div>\n",
              "<style scoped>\n",
              "    .dataframe tbody tr th:only-of-type {\n",
              "        vertical-align: middle;\n",
              "    }\n",
              "\n",
              "    .dataframe tbody tr th {\n",
              "        vertical-align: top;\n",
              "    }\n",
              "\n",
              "    .dataframe thead th {\n",
              "        text-align: right;\n",
              "    }\n",
              "</style>\n",
              "<table border=\"1\" class=\"dataframe\">\n",
              "  <thead>\n",
              "    <tr style=\"text-align: right;\">\n",
              "      <th></th>\n",
              "      <th>dados-curso-completo.csv</th>\n",
              "      <th>usuario</th>\n",
              "      <th>apelido</th>\n",
              "      <th>texto</th>\n",
              "      <th>retweet</th>\n",
              "      <th>seguidores</th>\n",
              "      <th>idioma</th>\n",
              "      <th>lugar</th>\n",
              "      <th>pais</th>\n",
              "      <th>sigla</th>\n",
              "      <th>latitude</th>\n",
              "      <th>longitude</th>\n",
              "      <th>hashtags</th>\n",
              "    </tr>\n",
              "  </thead>\n",
              "  <tbody>\n",
              "    <tr>\n",
              "      <th>0</th>\n",
              "      <td>2020-03-23 18:51:14</td>\n",
              "      <td>Gaboardi</td>\n",
              "      <td>fraslee</td>\n",
              "      <td>@BolsonaroSP Cade o fundão deputado??? Congres...</td>\n",
              "      <td>0.0</td>\n",
              "      <td>138.0</td>\n",
              "      <td>pt</td>\n",
              "      <td>NaN</td>\n",
              "      <td>NaN</td>\n",
              "      <td>NaN</td>\n",
              "      <td>NaN</td>\n",
              "      <td>NaN</td>\n",
              "      <td>[]</td>\n",
              "    </tr>\n",
              "    <tr>\n",
              "      <th>1</th>\n",
              "      <td>2020-03-18 03:18:14</td>\n",
              "      <td>Seu Zé da Farmácia</td>\n",
              "      <td>seuzedafarmacia</td>\n",
              "      <td>Em ação preventiva, o Governo do Estado suspen...</td>\n",
              "      <td>0.0</td>\n",
              "      <td>56.0</td>\n",
              "      <td>pt</td>\n",
              "      <td>NaN</td>\n",
              "      <td>NaN</td>\n",
              "      <td>NaN</td>\n",
              "      <td>NaN</td>\n",
              "      <td>NaN</td>\n",
              "      <td>[]</td>\n",
              "    </tr>\n",
              "    <tr>\n",
              "      <th>2</th>\n",
              "      <td>2020-03-29 12:09:27</td>\n",
              "      <td>Marília Oliveira 🇧🇷</td>\n",
              "      <td>Marioliveira_gb</td>\n",
              "      <td>Incrível como os defensores do fim do distanci...</td>\n",
              "      <td>0.0</td>\n",
              "      <td>5.0</td>\n",
              "      <td>pt</td>\n",
              "      <td>NaN</td>\n",
              "      <td>NaN</td>\n",
              "      <td>NaN</td>\n",
              "      <td>NaN</td>\n",
              "      <td>NaN</td>\n",
              "      <td>[]</td>\n",
              "    </tr>\n",
              "    <tr>\n",
              "      <th>3</th>\n",
              "      <td>2020-04-01 21:11:07</td>\n",
              "      <td>🚩</td>\n",
              "      <td>santosodeto</td>\n",
              "      <td>Fumaça de cigarro pode propagar coronavírus? h...</td>\n",
              "      <td>0.0</td>\n",
              "      <td>1885.0</td>\n",
              "      <td>pt</td>\n",
              "      <td>NaN</td>\n",
              "      <td>NaN</td>\n",
              "      <td>NaN</td>\n",
              "      <td>NaN</td>\n",
              "      <td>NaN</td>\n",
              "      <td>[]</td>\n",
              "    </tr>\n",
              "    <tr>\n",
              "      <th>4</th>\n",
              "      <td>2020-03-19 17:49:40</td>\n",
              "      <td>Nova Impressão</td>\n",
              "      <td>novaimpressao_</td>\n",
              "      <td>🚨Todos juntos contra COVID-19💪\\n\\nSolicite seu...</td>\n",
              "      <td>0.0</td>\n",
              "      <td>124.0</td>\n",
              "      <td>pt</td>\n",
              "      <td>Brasília</td>\n",
              "      <td>Brazil</td>\n",
              "      <td>BR</td>\n",
              "      <td>-47.8778</td>\n",
              "      <td>-15.77691</td>\n",
              "      <td>[]</td>\n",
              "    </tr>\n",
              "  </tbody>\n",
              "</table>\n",
              "</div>"
            ],
            "text/plain": [
              "  dados-curso-completo.csv              usuario  ... longitude hashtags\n",
              "0      2020-03-23 18:51:14             Gaboardi  ...       NaN       []\n",
              "1      2020-03-18 03:18:14   Seu Zé da Farmácia  ...       NaN       []\n",
              "2      2020-03-29 12:09:27  Marília Oliveira 🇧🇷  ...       NaN       []\n",
              "3      2020-04-01 21:11:07                    🚩  ...       NaN       []\n",
              "4      2020-03-19 17:49:40       Nova Impressão  ... -15.77691       []\n",
              "\n",
              "[5 rows x 13 columns]"
            ]
          },
          "metadata": {
            "tags": []
          },
          "execution_count": 35
        }
      ]
    },
    {
      "cell_type": "markdown",
      "metadata": {
        "id": "eiUba12BXvUf",
        "colab_type": "text"
      },
      "source": [
        "###Quais e quantos Paises existem no Dataset"
      ]
    },
    {
      "cell_type": "code",
      "metadata": {
        "id": "_Qqw94aqX1br",
        "colab_type": "code",
        "colab": {
          "base_uri": "https://localhost:8080/",
          "height": 451
        },
        "outputId": "9f5f268d-3a29-442d-cee8-d24391dde00e"
      },
      "source": [
        "paises = dados.pais.unique()\n",
        "print(paises)\n",
        "print(\"Existem Cerca de \",len(paises),\" paises\")"
      ],
      "execution_count": null,
      "outputs": [
        {
          "output_type": "stream",
          "text": [
            "[nan 'Brazil' 'Ireland' 'Portugal' 'Spain' 'Germany' 'Canada'\n",
            " 'United States' 'Angola' 'Uganda' 'The Netherlands' 'Japan'\n",
            " 'United Kingdom' 'Republic of Mozambique' 'Belgium'\n",
            " 'Kingdom of Saudi Arabia' 'Venezuela' 'Pakistan' 'Indonesia' 'Chile'\n",
            " 'Senegal' 'Argentina' 'Colombia' 'France' 'Turkey' 'Austria' 'Paraguay'\n",
            " 'Italy' 'New Zealand' 'Kenya' \"People's Republic of China\" 'Panama'\n",
            " 'Ghana' 'Ecuador' 'Haiti' 'Australia' 'Mexico'\n",
            " 'Republic of the Philippines' 'Republic of Croatia' 'South Africa'\n",
            " 'Denmark' 'India' 'Costa Rica' 'Nigeria' 'Malaysia' 'North Korea'\n",
            " 'Uruguay' 'Cyprus' 'Egypt' 'Dominican Republic' 'Vietnam' 'Bahrain'\n",
            " 'El Salvador' 'Switzerland' 'United Arab Emirates' 'Sri Lanka'\n",
            " 'Cape Verde' 'Slovak Republic' 'Sweden' 'Israel' 'Honduras' 'Montenegro'\n",
            " 'Thailand' 'Peru' 'Czech Republic' 'Luxembourg' 'Oman' 'Taiwan' 'Georgia'\n",
            " 'Islamic Republic of Iran' 'Ivory Coast' 'Botswana' 'Ukraine' 'Lebanon'\n",
            " 'Romania' 'Kazakhstan' 'East Timor' 'Bolivia' 'Macau' 'Norway' 'Cameroon'\n",
            " 'Singapore' 'Iraq' 'Qatar' 'Jamaica' 'Democratic Republic of Congo'\n",
            " 'Guatemala' 'Estonia' 'Curaçao' 'Russia' 'Bahamas' 'Republic of Korea'\n",
            " 'Namibia' 'Kosovo' 'Kuwait' 'Guinea Bissau' 'Cuba'\n",
            " 'Central African Republic' 'Tanzania' 'Poland' 'Vatican City'\n",
            " 'Trinidad and Tobago' 'Hellas' 'Guinea' 'Nicaragua' 'Suriname'\n",
            " 'Hashemite Kingdom of Jordan' 'Morocco' 'Zimbabwe' 'Finland'\n",
            " 'French Guiana' 'Armenia' 'Republic of Slovenia' 'Hungary' 'Guadeloupe'\n",
            " \"Lao People's Democratic Republic\" 'Madagascar' 'Andorra' 'Monaco'\n",
            " 'Malta' 'Chad' 'Lithuania']\n",
            "Existem Cerca de  122  paises\n"
          ],
          "name": "stdout"
        }
      ]
    },
    {
      "cell_type": "code",
      "metadata": {
        "id": "sv2_wjmLZwPK",
        "colab_type": "code",
        "colab": {
          "base_uri": "https://localhost:8080/",
          "height": 225
        },
        "outputId": "6e091507-8432-4c5b-a1f6-7eda84bb1e56"
      },
      "source": [
        "dados.pais.value_counts()"
      ],
      "execution_count": null,
      "outputs": [
        {
          "output_type": "execute_result",
          "data": {
            "text/plain": [
              "Brazil                  67247\n",
              "Portugal                 2675\n",
              "United States            1068\n",
              "Italy                     484\n",
              "Spain                     379\n",
              "                        ...  \n",
              "Iraq                        1\n",
              "Botswana                    1\n",
              "French Guiana               1\n",
              "Chad                        1\n",
              "Republic of Slovenia        1\n",
              "Name: pais, Length: 121, dtype: int64"
            ]
          },
          "metadata": {
            "tags": []
          },
          "execution_count": 37
        }
      ]
    },
    {
      "cell_type": "markdown",
      "metadata": {
        "id": "VRQS2bVBYUep",
        "colab_type": "text"
      },
      "source": [
        "###Quantos e quais idiomas existem no Dataset"
      ]
    },
    {
      "cell_type": "code",
      "metadata": {
        "id": "_LszaJYaYIts",
        "colab_type": "code",
        "colab": {
          "base_uri": "https://localhost:8080/",
          "height": 121
        },
        "outputId": "51e8b3d4-228f-4c7e-dd05-ab7a79fb156e"
      },
      "source": [
        "idiomas = dados.idioma.unique()\n",
        "print(idiomas)\n",
        "print(\"Existem \", len(idiomas), \"idiomas no DataSET\")"
      ],
      "execution_count": null,
      "outputs": [
        {
          "output_type": "stream",
          "text": [
            "['pt' 'en' 'es' 'ar' 'tl' 'fr' 'und' 'nl' 'ja' 'cy' 'th' 'fa' 'it' 'de'\n",
            " 'tr' 'eu' 'ca' 'ko' 'in' 'ht' 'lt' 'zh' 'hi' 'lv' 'sv' 'is' 'pl' 'ur'\n",
            " 'sd' 'vi' 'no' 'te' 'cs' 'ta' 'da' 'ru' 'hu' 'ro' 'et' 'uk' 'el' 'sr'\n",
            " 'fi' 'bn' 'iw' 'sl' 'bg' 'ne' 'am' 'ps' 'ml' 'gu' 'mr' 'or' 'ckb' 'si'\n",
            " 'dv' 'my' 'kn' nan]\n",
            "Existem  60 idiomas no DataSET\n"
          ],
          "name": "stdout"
        }
      ]
    },
    {
      "cell_type": "code",
      "metadata": {
        "id": "LKT3Q_IQZqE5",
        "colab_type": "code",
        "colab": {
          "base_uri": "https://localhost:8080/",
          "height": 1000
        },
        "outputId": "96602031-62b6-4eb3-9668-fb7b05a806e6"
      },
      "source": [
        "dados.idioma.value_counts()"
      ],
      "execution_count": null,
      "outputs": [
        {
          "output_type": "execute_result",
          "data": {
            "text/plain": [
              "pt     1586796\n",
              "en       23991\n",
              "es       14255\n",
              "it        6480\n",
              "und       5656\n",
              "ar        4579\n",
              "fr        3656\n",
              "ca        2600\n",
              "tr        2296\n",
              "ja        1955\n",
              "in         948\n",
              "th         890\n",
              "tl         604\n",
              "ko         544\n",
              "hi         485\n",
              "ru         417\n",
              "de         361\n",
              "pl         262\n",
              "fa         258\n",
              "nl         208\n",
              "ur         179\n",
              "ht         167\n",
              "et         162\n",
              "eu         116\n",
              "el          94\n",
              "lt          86\n",
              "sv          84\n",
              "cs          72\n",
              "no          56\n",
              "zh          51\n",
              "ro          45\n",
              "da          45\n",
              "fi          44\n",
              "cy          39\n",
              "uk          37\n",
              "lv          36\n",
              "iw          36\n",
              "ta          32\n",
              "hu          26\n",
              "vi          23\n",
              "is          21\n",
              "sr          20\n",
              "sl          18\n",
              "te          17\n",
              "sd          12\n",
              "ne          11\n",
              "mr          10\n",
              "bn          10\n",
              "gu           7\n",
              "ps           6\n",
              "ckb          5\n",
              "bg           4\n",
              "am           4\n",
              "or           2\n",
              "si           2\n",
              "ml           2\n",
              "dv           1\n",
              "my           1\n",
              "kn           1\n",
              "Name: idioma, dtype: int64"
            ]
          },
          "metadata": {
            "tags": []
          },
          "execution_count": 39
        }
      ]
    },
    {
      "cell_type": "markdown",
      "metadata": {
        "id": "jmZg_gXBY3ZB",
        "colab_type": "text"
      },
      "source": [
        "###Quais e quantas cidades existem no dataset"
      ]
    },
    {
      "cell_type": "code",
      "metadata": {
        "id": "PuaahFggY2mo",
        "colab_type": "code",
        "colab": {
          "base_uri": "https://localhost:8080/",
          "height": 69
        },
        "outputId": "edbd88da-839e-4be7-bea8-37329c829765"
      },
      "source": [
        "cidades = dados.lugar.unique()\n",
        "print(cidades)\n",
        "\n",
        "print(\"Existem \",len(cidades), \"no Dataset\")"
      ],
      "execution_count": null,
      "outputs": [
        {
          "output_type": "stream",
          "text": [
            "[nan 'Brasília' 'Macaé' ... 'Laranjeiras' 'BAIRRO DA CABANAGEM'\n",
            " 'São José do Piauí']\n",
            "Existem  4501 no Dataset\n"
          ],
          "name": "stdout"
        }
      ]
    },
    {
      "cell_type": "code",
      "metadata": {
        "id": "6_nsf-TNZixg",
        "colab_type": "code",
        "colab": {
          "base_uri": "https://localhost:8080/",
          "height": 225
        },
        "outputId": "3f79c498-e1ed-4415-ed59-2f8a47d3324e"
      },
      "source": [
        "dados.lugar.value_counts()\n"
      ],
      "execution_count": null,
      "outputs": [
        {
          "output_type": "execute_result",
          "data": {
            "text/plain": [
              "Rio de Janeiro          8443\n",
              "Sao Paulo               7469\n",
              "Brasília                2822\n",
              "Porto Alegre            1866\n",
              "Belo Horizonte          1764\n",
              "                        ... \n",
              "Santana dos Garrotes       1\n",
              "Amparo - Limeirânea        1\n",
              "Fenac Novo Hamburgo        1\n",
              "Mormaço                    1\n",
              "Halle (Saale)              1\n",
              "Name: lugar, Length: 4500, dtype: int64"
            ]
          },
          "metadata": {
            "tags": []
          },
          "execution_count": 41
        }
      ]
    },
    {
      "cell_type": "code",
      "metadata": {
        "id": "n4WOnE6Nfu0d",
        "colab_type": "code",
        "colab": {
          "base_uri": "https://localhost:8080/",
          "height": 132
        },
        "outputId": "d08fad03-bc27-41dd-e670-67dc62e7c0ed"
      },
      "source": [
        "len(dados.lugar.unique(dados.pais() = \"Brazil\"))"
      ],
      "execution_count": null,
      "outputs": [
        {
          "output_type": "error",
          "ename": "SyntaxError",
          "evalue": "ignored",
          "traceback": [
            "\u001b[0;36m  File \u001b[0;32m\"<ipython-input-42-973b80b25bab>\"\u001b[0;36m, line \u001b[0;32m1\u001b[0m\n\u001b[0;31m    len(dados.lugar.unique(dados.pais() = \"Brazil\"))\u001b[0m\n\u001b[0m                          ^\u001b[0m\n\u001b[0;31mSyntaxError\u001b[0m\u001b[0;31m:\u001b[0m keyword can't be an expression\n"
          ]
        }
      ]
    },
    {
      "cell_type": "code",
      "metadata": {
        "id": "Bi3cXwdYfkpW",
        "colab_type": "code",
        "colab": {}
      },
      "source": [
        "dados.lugar.describe()"
      ],
      "execution_count": null,
      "outputs": []
    },
    {
      "cell_type": "markdown",
      "metadata": {
        "id": "tRbSQtjFRuAj",
        "colab_type": "text"
      },
      "source": [
        "###plotar gráficos por\n",
        "####tw por pais, tw por lugar, tw por idioma ,tw por periodo\n",
        "\n"
      ]
    },
    {
      "cell_type": "markdown",
      "metadata": {
        "id": "ahJZOO-VfNC6",
        "colab_type": "text"
      },
      "source": [
        "####Tentando fazer um gráfico para ver os paises de um modo que pegue os habitantes que retwetaram"
      ]
    },
    {
      "cell_type": "code",
      "metadata": {
        "id": "u89cX9Tyc3JP",
        "colab_type": "code",
        "colab": {}
      },
      "source": [
        "paises = dados.pais.unique()\n",
        "df = dados.loc[dados['pais'] == 'Brazil']\n",
        "tweets_pais = dados.pais.value_counts()"
      ],
      "execution_count": null,
      "outputs": []
    },
    {
      "cell_type": "code",
      "metadata": {
        "id": "gIQlHz56GmtL",
        "colab_type": "code",
        "colab": {}
      },
      "source": [
        "tweets_pais = tweets_pais.dropna()"
      ],
      "execution_count": null,
      "outputs": []
    },
    {
      "cell_type": "code",
      "metadata": {
        "id": "W15CZBRfHArv",
        "colab_type": "code",
        "colab": {}
      },
      "source": [
        "tweets_dicts = tweets_pais.to_dict()"
      ],
      "execution_count": null,
      "outputs": []
    },
    {
      "cell_type": "code",
      "metadata": {
        "id": "Jae8YoQjQNAO",
        "colab_type": "code",
        "colab": {
          "base_uri": "https://localhost:8080/",
          "height": 54
        },
        "outputId": "b02750b7-1755-40bd-d5c5-ef186c865ac8"
      },
      "source": [
        "print(tweets_dicts)"
      ],
      "execution_count": 170,
      "outputs": [
        {
          "output_type": "stream",
          "text": [
            "{'Brazil': 67247, 'Portugal': 2675, 'United States': 1068, 'Italy': 484, 'Spain': 379, 'United Kingdom': 323, 'France': 218, 'Argentina': 193, 'Republic of Mozambique': 167, 'Canada': 152, 'Ireland': 150, 'Germany': 133, 'Japan': 91, 'Angola': 84, 'India': 79, 'Mexico': 76, 'Chile': 73, 'Paraguay': 55, 'Australia': 50, 'Colombia': 48, \"People's Republic of China\": 47, 'Belgium': 43, 'The Netherlands': 41, 'Turkey': 40, 'Switzerland': 37, 'South Africa': 36, 'Ecuador': 32, 'Uruguay': 31, 'Kingdom of Saudi Arabia': 31, 'Nigeria': 30, 'New Zealand': 28, 'Venezuela': 28, 'Austria': 27, 'Indonesia': 20, 'Slovak Republic': 20, 'Republic of the Philippines': 18, 'Peru': 18, 'Sweden': 16, 'Denmark': 13, 'Ghana': 12, 'Panama': 11, 'El Salvador': 11, 'Bolivia': 11, 'Pakistan': 11, 'United Arab Emirates': 11, 'Dominican Republic': 11, 'Egypt': 10, 'Cape Verde': 9, 'Malaysia': 9, 'Kenya': 8, 'Kuwait': 7, 'Czech Republic': 7, 'Uganda': 7, 'Israel': 6, 'Bahrain': 6, 'Thailand': 6, 'Poland': 5, 'Russia': 5, 'Qatar': 5, 'Romania': 5, 'Namibia': 5, 'Senegal': 5, 'Ukraine': 4, 'Luxembourg': 4, 'Jamaica': 4, 'Guinea Bissau': 4, 'Nicaragua': 4, 'Costa Rica': 4, 'Norway': 4, 'Kazakhstan': 3, 'Singapore': 3, 'Republic of Croatia': 3, 'Guatemala': 3, 'Cameroon': 3, 'Vatican City': 3, 'Kosovo': 3, 'Guinea': 3, 'Vietnam': 3, 'Lebanon': 3, 'Taiwan': 3, 'Oman': 2, 'Guadeloupe': 2, 'Ivory Coast': 2, 'Tanzania': 2, 'Trinidad and Tobago': 2, 'Hashemite Kingdom of Jordan': 2, 'Estonia': 2, 'Cuba': 2, 'Finland': 2, 'Sri Lanka': 2, 'Cyprus': 2, 'East Timor': 2, 'Hungary': 2, 'Democratic Republic of Congo': 2, 'Iraq': 1, 'French Guiana': 1, 'Botswana': 1, 'Bahamas': 1, 'Republic of Slovenia': 1, 'Armenia': 1, 'Madagascar': 1, 'Curaçao': 1, 'Macau': 1, 'Monaco': 1, 'North Korea': 1, 'Georgia': 1, 'Lithuania': 1, 'Islamic Republic of Iran': 1, 'Honduras': 1, 'Montenegro': 1, 'Hellas': 1, 'Chad': 1, 'Andorra': 1, 'Zimbabwe': 1, 'Republic of Korea': 1, 'Morocco': 1, 'Malta': 1, 'Central African Republic': 1, \"Lao People's Democratic Republic\": 1, 'Haiti': 1, 'Suriname': 1}\n"
          ],
          "name": "stdout"
        }
      ]
    },
    {
      "cell_type": "code",
      "metadata": {
        "id": "ZmjFnBiLQPKW",
        "colab_type": "code",
        "colab": {}
      },
      "source": [
        ""
      ],
      "execution_count": null,
      "outputs": []
    },
    {
      "cell_type": "code",
      "metadata": {
        "id": "wGtTbHl9HGNs",
        "colab_type": "code",
        "colab": {}
      },
      "source": [
        "names = list(tweets_dicts.keys())"
      ],
      "execution_count": null,
      "outputs": []
    },
    {
      "cell_type": "code",
      "metadata": {
        "id": "8Lmv4qWtHXPj",
        "colab_type": "code",
        "colab": {}
      },
      "source": [
        "\n",
        "values = list(tweets_dicts.values())"
      ],
      "execution_count": null,
      "outputs": []
    },
    {
      "cell_type": "code",
      "metadata": {
        "id": "KmF5MS5XOaM4",
        "colab_type": "code",
        "colab": {
          "base_uri": "https://localhost:8080/",
          "height": 34
        },
        "outputId": "9b3f4b70-b8bb-47f3-d521-8512835e1247"
      },
      "source": [
        "values_brasil = values[0]\n",
        "print(values_brasil)"
      ],
      "execution_count": 161,
      "outputs": [
        {
          "output_type": "stream",
          "text": [
            "67247\n"
          ],
          "name": "stdout"
        }
      ]
    },
    {
      "cell_type": "code",
      "metadata": {
        "id": "VGtsaoYiN5z_",
        "colab_type": "code",
        "colab": {
          "base_uri": "https://localhost:8080/",
          "height": 34
        },
        "outputId": "d0127836-ea1e-4346-88a3-80224ebdfa09"
      },
      "source": [
        "for i in range(len(values)):\n",
        "      values_outros = sum(values)\n",
        "values_outros = values_outros - values[0]\n",
        "print(values_outros)\n",
        "\n",
        "Grafico_pizza = {\"Brazil\" : values_brasil, \"Outros\":values_outros}\n",
        " "
      ],
      "execution_count": 181,
      "outputs": [
        {
          "output_type": "stream",
          "text": [
            "7353\n"
          ],
          "name": "stdout"
        }
      ]
    },
    {
      "cell_type": "code",
      "metadata": {
        "id": "gZomY8BXO3aB",
        "colab_type": "code",
        "colab": {
          "base_uri": "https://localhost:8080/",
          "height": 34
        },
        "outputId": "7c43a059-85fd-4af4-e0fe-5e8e29a5b662"
      },
      "source": [
        "print(Grafico_pizza)\n",
        "nomes_gp = list(Grafico_pizza.keys())\n",
        "valores_gp = list(Grafico_pizza.values())"
      ],
      "execution_count": 178,
      "outputs": [
        {
          "output_type": "stream",
          "text": [
            "{'Brazil': 67247, 'Outros': 7353}\n"
          ],
          "name": "stdout"
        }
      ]
    },
    {
      "cell_type": "code",
      "metadata": {
        "id": "NNh7NiL9Hozz",
        "colab_type": "code",
        "colab": {
          "base_uri": "https://localhost:8080/",
          "height": 207
        },
        "outputId": "c165c049-ef88-45eb-9f72-af96b91ce563"
      },
      "source": [
        "fig = plt.figure(figsize=(150,30))\n",
        "ax = fig.add_axes([0,0,1,1])\n",
        "ax.bar(names,values)\n",
        "plt.show()"
      ],
      "execution_count": 179,
      "outputs": [
        {
          "output_type": "display_data",
          "data": {
            "image/png": "[encoded data removed]",
            "text/plain": [
              "<Figure size 10800x2160 with 1 Axes>"
            ]
          },
          "metadata": {
            "tags": [],
            "needs_background": "light"
          }
        }
      ]
    },
    {
      "cell_type": "markdown",
      "metadata": {
        "id": "9A5qlAOLMbmG",
        "colab_type": "text"
      },
      "source": [
        "####Fazendo o gráfico em pizza"
      ]
    },
    {
      "cell_type": "code",
      "metadata": {
        "id": "1-cR2k08HdBU",
        "colab_type": "code",
        "colab": {
          "base_uri": "https://localhost:8080/",
          "height": 264
        },
        "outputId": "f32d4c7d-a847-4e1e-c24f-897da30d9eed"
      },
      "source": [
        "# Pie chart, where the slices will be ordered and plotted counter-clockwise:\n",
        "#labels = 'Frogs', 'Hogs', 'Dogs', 'Logs'\n",
        "#sizes = [15, 30, 45, 10]\n",
        "#explode = (0, 0.1, 0, 0)  # only \"explode\" the 2nd slice (i.e. 'Hogs')\n",
        "\n",
        "fig1, ax1 = plt.subplots()\n",
        "ax1.pie(valores_gp, labels=nomes_gp, autopct='%1.1f%%',\n",
        "        shadow=True, startangle=90)\n",
        "ax1.axis('equal')  # Equal aspect ratio ensures that pie is drawn as a circle.\n",
        "plt.title(\"Países\")\n",
        "plt.show()"
      ],
      "execution_count": 183,
      "outputs": [
        {
          "output_type": "display_data",
          "data": {
            "image/png": "[encoded data removed]",
            "text/plain": [
              "<Figure size 432x288 with 1 Axes>"
            ]
          },
          "metadata": {
            "tags": []
          }
        }
      ]
    },
    {
      "cell_type": "code",
      "metadata": {
        "id": "-E5pAFeutmRx",
        "colab_type": "code",
        "colab": {}
      },
      "source": [
        "\"\"\"\n",
        "\n",
        "teste.plot()\n",
        "plt.title('Graf teste') #adicionando o título\n",
        "plt.xlabel('funciona')\n",
        "plt.ylabel('sim')\n",
        "plt.show()\n",
        "\"\"\""
      ],
      "execution_count": null,
      "outputs": []
    },
    {
      "cell_type": "code",
      "metadata": {
        "id": "VgqJw-LasbBA",
        "colab_type": "code",
        "colab": {}
      },
      "source": [
        "cidadesUniq = dados.lugar.value_counts\n",
        "cidadesUniq = pd.DataFrame(cidadesUniq)"
      ],
      "execution_count": null,
      "outputs": []
    },
    {
      "cell_type": "code",
      "metadata": {
        "id": "HJpcV6U2y094",
        "colab_type": "code",
        "colab": {}
      },
      "source": [
        "type(cidadesUniq)"
      ],
      "execution_count": null,
      "outputs": []
    },
    {
      "cell_type": "markdown",
      "metadata": {
        "id": "llOz2Zd4b2dj",
        "colab_type": "text"
      },
      "source": [
        "### saber quantas vezes foi retweetado"
      ]
    },
    {
      "cell_type": "code",
      "metadata": {
        "id": "mt0tmeVtaDdl",
        "colab_type": "code",
        "colab": {}
      },
      "source": [
        "sum(dados.retweet.value_counts())\n",
        "\n"
      ],
      "execution_count": null,
      "outputs": []
    },
    {
      "cell_type": "code",
      "metadata": {
        "id": "SHbrPwQhcDr0",
        "colab_type": "code",
        "colab": {}
      },
      "source": [
        "dados.seguidores.values"
      ],
      "execution_count": null,
      "outputs": []
    },
    {
      "cell_type": "code",
      "metadata": {
        "id": "e9sQHplwavKH",
        "colab_type": "code",
        "colab": {}
      },
      "source": [
        "dados.seguidores.describe()"
      ],
      "execution_count": null,
      "outputs": []
    },
    {
      "cell_type": "code",
      "metadata": {
        "id": "BZ_Nwavma4zG",
        "colab_type": "code",
        "colab": {}
      },
      "source": [
        ""
      ],
      "execution_count": null,
      "outputs": []
    },
    {
      "cell_type": "code",
      "metadata": {
        "id": "YGDQRqZNaQo0",
        "colab_type": "code",
        "colab": {}
      },
      "source": [
        ""
      ],
      "execution_count": null,
      "outputs": []
    },
    {
      "cell_type": "markdown",
      "metadata": {
        "id": "3qVpFUphCyMH",
        "colab_type": "text"
      },
      "source": [
        "###Verificar quantos brasileiros tem \n"
      ]
    },
    {
      "cell_type": "code",
      "metadata": {
        "id": "cK8zQHsxCxik",
        "colab_type": "code",
        "colab": {}
      },
      "source": [
        "dados.loc[dados.idioma == 'pt']"
      ],
      "execution_count": null,
      "outputs": []
    },
    {
      "cell_type": "code",
      "metadata": {
        "id": "rVn0q7EXD0zX",
        "colab_type": "code",
        "colab": {}
      },
      "source": [
        "dados"
      ],
      "execution_count": null,
      "outputs": []
    },
    {
      "cell_type": "markdown",
      "metadata": {
        "id": "PrvsXyYg2AwI",
        "colab_type": "text"
      },
      "source": [
        "###Criando uma copia do dataframe \n"
      ]
    },
    {
      "cell_type": "code",
      "metadata": {
        "id": "o7upq2O1y2ee",
        "colab_type": "code",
        "colab": {}
      },
      "source": [
        "dados2 = dados.copy()"
      ],
      "execution_count": null,
      "outputs": []
    },
    {
      "cell_type": "markdown",
      "metadata": {
        "id": "rc-yIxzsf8j-",
        "colab_type": "text"
      },
      "source": [
        "###Verificando se tem dados duplicados e limpando os duplicados\n",
        "\n",
        "####Apenas de curiosidade"
      ]
    },
    {
      "cell_type": "code",
      "metadata": {
        "id": "l5Ha4Z2Qi3ix",
        "colab_type": "code",
        "colab": {}
      },
      "source": [
        "#verificando\n",
        "dados2.duplicated()"
      ],
      "execution_count": null,
      "outputs": []
    },
    {
      "cell_type": "code",
      "metadata": {
        "id": "wgAbQys8f8Fu",
        "colab_type": "code",
        "colab": {}
      },
      "source": [
        "#Limpando\n",
        "dados2 = dados2.drop_duplicates()"
      ],
      "execution_count": null,
      "outputs": []
    },
    {
      "cell_type": "code",
      "metadata": {
        "id": "CbDB-jaVitv3",
        "colab_type": "code",
        "colab": {}
      },
      "source": [
        "#pouca diferença entre linhas duplicadas\n",
        "dados2.shape"
      ],
      "execution_count": null,
      "outputs": []
    },
    {
      "cell_type": "markdown",
      "metadata": {
        "id": "IkLj1OY32fTI",
        "colab_type": "text"
      },
      "source": [
        "###limpando se tem dados em branco (NaN)"
      ]
    },
    {
      "cell_type": "code",
      "metadata": {
        "id": "sdBhzqbtiw3Z",
        "colab_type": "code",
        "colab": {}
      },
      "source": [
        "dados2.dropna()"
      ],
      "execution_count": null,
      "outputs": []
    },
    {
      "cell_type": "code",
      "metadata": {
        "id": "qQ381egokhZk",
        "colab_type": "code",
        "colab": {}
      },
      "source": [
        "dados2.shape"
      ],
      "execution_count": null,
      "outputs": []
    },
    {
      "cell_type": "markdown",
      "metadata": {
        "id": "rvNPYILLkkBa",
        "colab_type": "text"
      },
      "source": [
        "dados.texto.str.contains('?')"
      ]
    },
    {
      "cell_type": "code",
      "metadata": {
        "id": "CpDQwm0HknqH",
        "colab_type": "code",
        "colab": {}
      },
      "source": [
        "dados.head()"
      ],
      "execution_count": null,
      "outputs": []
    },
    {
      "cell_type": "code",
      "metadata": {
        "id": "4QfZI2m0kfDB",
        "colab_type": "code",
        "colab": {}
      },
      "source": [
        "dados['texto'][0]"
      ],
      "execution_count": null,
      "outputs": []
    },
    {
      "cell_type": "code",
      "metadata": {
        "id": "jWjCAVJTkaMZ",
        "colab_type": "code",
        "colab": {}
      },
      "source": [
        "dados.iloc[0]"
      ],
      "execution_count": null,
      "outputs": []
    },
    {
      "cell_type": "code",
      "metadata": {
        "id": "unNyZ2RWEEP3",
        "colab_type": "code",
        "colab": {}
      },
      "source": [
        " # Tentando extrair valores interrogativos\n",
        " from nltk import sent_tokenize\n",
        " import nltk\n",
        "nltk.download('punkt')\n",
        "\n",
        " df = dados.loc[dados['texto'].str.contains('?', regex=False) == True]\n",
        " df"
      ],
      "execution_count": null,
      "outputs": []
    },
    {
      "cell_type": "code",
      "metadata": {
        "id": "J4mDhLu8FpHf",
        "colab_type": "code",
        "colab": {}
      },
      "source": [
        "q=  sent_tokenize(df['texto'][0])\n",
        "q\n"
      ],
      "execution_count": null,
      "outputs": []
    }
  ]
}