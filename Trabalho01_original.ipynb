{
  "nbformat": 4,
  "nbformat_minor": 0,
  "metadata": {
    "colab": {
      "name": "Trabalho01 original.ipynb",
      "provenance": [],
      "collapsed_sections": [],
      "include_colab_link": true
    },
    "kernelspec": {
      "name": "python3",
      "display_name": "Python 3"
    }
  },
  "cells": [
    {
      "cell_type": "markdown",
      "metadata": {
        "id": "view-in-github",
        "colab_type": "text"
      },
      "source": [
        "<a href=\"https://colab.research.google.com/github/franklinperseuDS/trabalhomodulo02/blob/master/Trabalho01_original.ipynb\" target=\"_parent\"><img src=\"https://colab.research.google.com/assets/colab-badge.svg\" alt=\"Open In Colab\"/></a>"
      ]
    },
    {
      "cell_type": "markdown",
      "metadata": {
        "id": "2_XugzGn1gCO"
      },
      "source": [
        "# Devem apresentar um resumo (sumário) com as estat´ısticas dos dados originais, ou seja, sem qualquer pr´e-processamento. A apresentação deste tipo de informação é relevante para que outras pessoas possam ter uma visão geral dos dados. As estat´ısticas podem ser apresentadas atrav´es de tabelas e/ou gr´aficos. http://tiagodemelo.info/datasets/dados-curso-completo.csv.tar.gz"
      ]
    },
    {
      "cell_type": "markdown",
      "metadata": {
        "id": "zWjAWGp13E-z"
      },
      "source": [
        "##plotar gráficos por\n",
        "##tw por pais - ok\n",
        "##tw por lugar (escolhemos o Brasil) - ok\n",
        "##tw por idioma - ok\n",
        "##tw por periodo"
      ]
    },
    {
      "cell_type": "markdown",
      "metadata": {
        "id": "vCIpwM9EfnA0"
      },
      "source": [
        "##Coletando os dados para o trabalho"
      ]
    },
    {
      "cell_type": "markdown",
      "metadata": {
        "id": "axx1lvlKbCgV"
      },
      "source": [
        "###instalando pacotes"
      ]
    },
    {
      "cell_type": "code",
      "metadata": {
        "id": "Q0Hm5JwXbIot"
      },
      "source": [
        "!pip install mplleaflet"
      ],
      "execution_count": null,
      "outputs": []
    },
    {
      "cell_type": "code",
      "metadata": {
        "id": "tV7gMTC1hKN4"
      },
      "source": [
        "!apt-get install -q libgeos-3.5.0\n",
        "!apt-get install -q libgeos-dev\n",
        "!pip install -q https://github.com/matplotlib/basemap/archive/master.zip"
      ],
      "execution_count": null,
      "outputs": []
    },
    {
      "cell_type": "code",
      "metadata": {
        "id": "nF8qlNCXhRmB"
      },
      "source": [
        "!pip install -q pyproj==1.9.6"
      ],
      "execution_count": null,
      "outputs": []
    },
    {
      "cell_type": "markdown",
      "metadata": {
        "id": "TfEjkfH1ckU-"
      },
      "source": [
        "###fazendo os imports."
      ]
    },
    {
      "cell_type": "code",
      "metadata": {
        "id": "HZPi6yFxhsIe"
      },
      "source": [
        "import pandas as pd\n",
        "import numpy as np\n",
        "%matplotlib inline\n",
        "from mpl_toolkits.basemap import Basemap\n",
        "from matplotlib import pyplot as plt\n",
        "import nltk\n",
        "from nltk import sent_tokenize\n",
        "import mplleaflet\n",
        "import re\n",
        "\n",
        "\n"
      ],
      "execution_count": null,
      "outputs": []
    },
    {
      "cell_type": "markdown",
      "metadata": {
        "id": "awLS2J74KgpE"
      },
      "source": [
        "###Baixando os dados do site"
      ]
    },
    {
      "cell_type": "code",
      "metadata": {
        "id": "UJHxw1MkU4uS"
      },
      "source": [
        "!wget http://tiagodemelo.info/datasets/dados-curso-completo.csv.tar.gz"
      ],
      "execution_count": null,
      "outputs": []
    },
    {
      "cell_type": "markdown",
      "metadata": {
        "id": "iy4FbtDlgl2U"
      },
      "source": [
        "###Extraindo o arquivo gz\n",
        "  "
      ]
    },
    {
      "cell_type": "code",
      "metadata": {
        "id": "gksxr3H8gr6g"
      },
      "source": [
        "import gzip\n",
        "import shutil\n",
        "\n",
        "with gzip.open('dados-curso-completo.csv.tar.gz', 'rb') as entrada:\n",
        "    with open('dados-curso.csv', 'wb') as saida:\n",
        "        shutil.copyfileobj(entrada, saida)"
      ],
      "execution_count": null,
      "outputs": []
    },
    {
      "cell_type": "markdown",
      "metadata": {
        "id": "NxHZasQ6hXmE"
      },
      "source": [
        "###adicionando os arquivos em um dataframe"
      ]
    },
    {
      "cell_type": "code",
      "metadata": {
        "id": "504qjpTvhhGL"
      },
      "source": [
        "dados = pd.read_csv(\"/content/dados-curso.csv\")"
      ],
      "execution_count": null,
      "outputs": []
    },
    {
      "cell_type": "code",
      "metadata": {
        "id": "Sab7GZEutLWN"
      },
      "source": [
        "dados = pd.DataFrame(dados)"
      ],
      "execution_count": null,
      "outputs": []
    },
    {
      "cell_type": "code",
      "metadata": {
        "id": "gKpKES7Tv4Xo"
      },
      "source": [
        "type(dados)"
      ],
      "execution_count": null,
      "outputs": []
    },
    {
      "cell_type": "markdown",
      "metadata": {
        "id": "mj6MwgmmiCKL"
      },
      "source": [
        "###verificando a quantidade de linhas x colunas do Dataset"
      ]
    },
    {
      "cell_type": "code",
      "metadata": {
        "id": "rFHuAlkWh6kj"
      },
      "source": [
        "dados.shape"
      ],
      "execution_count": null,
      "outputs": []
    },
    {
      "cell_type": "markdown",
      "metadata": {
        "id": "4W_ocGLUOo6w"
      },
      "source": [
        "###Visualização dos Dados,os 5 primeiros  e os 5 últimos"
      ]
    },
    {
      "cell_type": "code",
      "metadata": {
        "id": "VvnXhmqkC5Ch"
      },
      "source": [
        "dados.head()"
      ],
      "execution_count": null,
      "outputs": []
    },
    {
      "cell_type": "markdown",
      "metadata": {
        "id": "eiUba12BXvUf"
      },
      "source": [
        "###Quais e quantos Paises existem no Dataset"
      ]
    },
    {
      "cell_type": "code",
      "metadata": {
        "id": "bYV3TaHQO3nT"
      },
      "source": [
        "dados.pais.describe()"
      ],
      "execution_count": null,
      "outputs": []
    },
    {
      "cell_type": "code",
      "metadata": {
        "id": "_Qqw94aqX1br"
      },
      "source": [
        "paises = dados.pais.unique()\n",
        "print(paises)\n",
        "print(\"Existem Cerca de \",len(paises),\" paises\")"
      ],
      "execution_count": null,
      "outputs": []
    },
    {
      "cell_type": "code",
      "metadata": {
        "id": "sv2_wjmLZwPK"
      },
      "source": [
        "dados.pais.value_counts()"
      ],
      "execution_count": null,
      "outputs": []
    },
    {
      "cell_type": "markdown",
      "metadata": {
        "id": "VRQS2bVBYUep"
      },
      "source": [
        "###Quantos e quais idiomas existem no Dataset"
      ]
    },
    {
      "cell_type": "code",
      "metadata": {
        "id": "B48xlvSIQQ2k"
      },
      "source": [
        "dados.idioma.describe()"
      ],
      "execution_count": null,
      "outputs": []
    },
    {
      "cell_type": "code",
      "metadata": {
        "id": "_LszaJYaYIts"
      },
      "source": [
        "idiomas = dados.idioma.unique()\n",
        "print(idiomas)\n",
        "print(\"Existem \", len(idiomas), \"idiomas no DataSET\")"
      ],
      "execution_count": null,
      "outputs": []
    },
    {
      "cell_type": "code",
      "metadata": {
        "id": "LKT3Q_IQZqE5"
      },
      "source": [
        "dados.idioma.value_counts()"
      ],
      "execution_count": null,
      "outputs": []
    },
    {
      "cell_type": "markdown",
      "metadata": {
        "id": "jmZg_gXBY3ZB"
      },
      "source": [
        "###Quais e quantas cidades existem no dataset"
      ]
    },
    {
      "cell_type": "code",
      "metadata": {
        "id": "PuaahFggY2mo"
      },
      "source": [
        "cidades = dados.lugar.unique()\n",
        "print(cidades)\n",
        "\n",
        "print(\"Existem \",len(cidades), \"no Dataset\")"
      ],
      "execution_count": null,
      "outputs": []
    },
    {
      "cell_type": "code",
      "metadata": {
        "id": "6_nsf-TNZixg"
      },
      "source": [
        "dados.lugar.value_counts()\n"
      ],
      "execution_count": null,
      "outputs": []
    },
    {
      "cell_type": "code",
      "metadata": {
        "id": "Bi3cXwdYfkpW"
      },
      "source": [
        "dados.lugar.describe()"
      ],
      "execution_count": null,
      "outputs": []
    },
    {
      "cell_type": "markdown",
      "metadata": {
        "id": "llOz2Zd4b2dj"
      },
      "source": [
        "### saber quantas vezes foi retweetado"
      ]
    },
    {
      "cell_type": "code",
      "metadata": {
        "id": "mt0tmeVtaDdl"
      },
      "source": [
        "sum(dados.retweet.value_counts())"
      ],
      "execution_count": null,
      "outputs": []
    },
    {
      "cell_type": "markdown",
      "metadata": {
        "id": "9nmlNEPcLDkd"
      },
      "source": [
        "##verificando a coluna seguidores"
      ]
    },
    {
      "cell_type": "code",
      "metadata": {
        "id": "SHbrPwQhcDr0"
      },
      "source": [
        "dados.seguidores.values"
      ],
      "execution_count": null,
      "outputs": []
    },
    {
      "cell_type": "code",
      "metadata": {
        "id": "e9sQHplwavKH"
      },
      "source": [
        "dados.seguidores.describe()"
      ],
      "execution_count": null,
      "outputs": []
    },
    {
      "cell_type": "markdown",
      "metadata": {
        "id": "3z3YQmMKrRz_"
      },
      "source": [
        "##Verificar engajamento Geral (via Retweets)"
      ]
    },
    {
      "cell_type": "code",
      "metadata": {
        "id": "FKukVDrArZYB"
      },
      "source": [
        "dados[dados['retweet']==dados['retweet'].max()]"
      ],
      "execution_count": null,
      "outputs": []
    },
    {
      "cell_type": "code",
      "metadata": {
        "id": "FPZjMfSarvp5"
      },
      "source": [
        "df = dados[dados['retweet']> dados['retweet'].mean()]"
      ],
      "execution_count": null,
      "outputs": []
    },
    {
      "cell_type": "code",
      "metadata": {
        "id": "60zMeo_Fr3_3"
      },
      "source": [
        "df['pais'].value_counts()"
      ],
      "execution_count": null,
      "outputs": []
    },
    {
      "cell_type": "code",
      "metadata": {
        "id": "hKq97-5tsFL_"
      },
      "source": [
        "tw_pais= df['pais'].value_counts().to_dict()\n",
        "\n",
        "name = list(tw_pais.keys())\n",
        "ky = list(tw_pais.keys())\n",
        "vl = list(tw_pais.values())\n",
        "v_bras = vl[0]\n",
        "v_outros = sum(vl) - vl[0]\n",
        "\n",
        "Grafico_pizza = {\"Brazil\" : v_bras, \"Outros\":v_outros}\n",
        "\n",
        "nomes_gp = list(Grafico_pizza.keys())\n",
        "valores_gp = list(Grafico_pizza.values())\n",
        "\n",
        "fig1, ax1 = plt.subplots()\n",
        "ax1.pie(valores_gp, labels=nomes_gp, autopct='%1.1f%%',\n",
        "        shadow=True, startangle=90)\n",
        "ax1.axis('equal')  # Equal aspect ratio ensures that pie is drawn as a circle.\n",
        "plt.title(\"Países\")\n",
        "plt.show()"
      ],
      "execution_count": null,
      "outputs": []
    },
    {
      "cell_type": "markdown",
      "metadata": {
        "id": "Cu6Fnb89tS8q"
      },
      "source": [
        "## Ver engajamento no Brasil"
      ]
    },
    {
      "cell_type": "code",
      "metadata": {
        "id": "gDXoT9ADtjoF"
      },
      "source": [
        "df = df[df['pais'] == 'Brazil']"
      ],
      "execution_count": null,
      "outputs": []
    },
    {
      "cell_type": "code",
      "metadata": {
        "id": "q_wQ18HztoKR"
      },
      "source": [
        "df['lugar'].value_counts()"
      ],
      "execution_count": null,
      "outputs": []
    },
    {
      "cell_type": "code",
      "metadata": {
        "id": "jYvtYDFStsm-"
      },
      "source": [
        "df['lugar'].value_counts().plot(kind='bar')\n",
        "plt.show()"
      ],
      "execution_count": null,
      "outputs": []
    },
    {
      "cell_type": "markdown",
      "metadata": {
        "id": "3qVpFUphCyMH"
      },
      "source": [
        "###Verificar quantas pessoas tweetaram em português"
      ]
    },
    {
      "cell_type": "code",
      "metadata": {
        "id": "cK8zQHsxCxik"
      },
      "source": [
        "dados.loc[dados.idioma == 'pt']"
      ],
      "execution_count": null,
      "outputs": []
    },
    {
      "cell_type": "code",
      "metadata": {
        "id": "rVn0q7EXD0zX"
      },
      "source": [
        "dados"
      ],
      "execution_count": null,
      "outputs": []
    },
    {
      "cell_type": "markdown",
      "metadata": {
        "id": "E6Ds4F0-VTgb"
      },
      "source": [
        "Verificar a localização utilizando as coordenadas de Latitude /  Longitude"
      ]
    },
    {
      "cell_type": "code",
      "metadata": {
        "id": "05SCrabNesW5"
      },
      "source": [
        "# esse ta rodando correto m = Basemap(projection= 'mill',llcrnrlat = -90, llcrnrlon = -180, urcrnrlat = 90, urcrnrlon= 180, resolution='h' )\n",
        "# esse não consegui fazer funcionarm = Basemap(width=12000000,height=9000000,projection='lcc',resolution=None,lat_0=0,lon_0=0)\n",
        "#projection = 'mill' originalmente\n",
        "#resolution = 'c','l','i','h' or 'f'\n",
        "m = Basemap()\n",
        "m.drawcoastlines()\n",
        "m.drawcountries()\n",
        "#m.drawstates() \n",
        "m.bluemarble() #adiciona os oceanos\n",
        "\n",
        "\n",
        "m.plot(dados['latitude'],dados['longitude'], 'mo')\n",
        "\n",
        "\n",
        "\n",
        "plt.title(\"Mapa Twts\")\n",
        "plt.show()\n"
      ],
      "execution_count": null,
      "outputs": []
    },
    {
      "cell_type": "code",
      "metadata": {
        "id": "gjuQgUkoVYeM"
      },
      "source": [
        "\"\"\"df = dados[(dados['latitude'].notnull()) & (dados['longitude'].notnull())]\n",
        "plt.scatter(df['longitude'],df['latitude'], marker='.')\n",
        "mplleaflet.display()\"\"\""
      ],
      "execution_count": null,
      "outputs": []
    },
    {
      "cell_type": "markdown",
      "metadata": {
        "id": "ahJZOO-VfNC6"
      },
      "source": [
        "####gráfico para ver os paises.\n"
      ]
    },
    {
      "cell_type": "code",
      "metadata": {
        "id": "u89cX9Tyc3JP"
      },
      "source": [
        "paises = dados.pais.unique()\n",
        "df = dados.loc[dados['pais'] == 'Brazil']\n",
        "tweets_pais = dados.pais.value_counts()"
      ],
      "execution_count": null,
      "outputs": []
    },
    {
      "cell_type": "code",
      "metadata": {
        "id": "gIQlHz56GmtL"
      },
      "source": [
        "tweets_pais = tweets_pais.dropna()"
      ],
      "execution_count": null,
      "outputs": []
    },
    {
      "cell_type": "code",
      "metadata": {
        "id": "W15CZBRfHArv"
      },
      "source": [
        "tweets_dicts = tweets_pais.to_dict()"
      ],
      "execution_count": null,
      "outputs": []
    },
    {
      "cell_type": "code",
      "metadata": {
        "id": "Jae8YoQjQNAO"
      },
      "source": [
        "print(tweets_dicts)"
      ],
      "execution_count": null,
      "outputs": []
    },
    {
      "cell_type": "code",
      "metadata": {
        "id": "wGtTbHl9HGNs"
      },
      "source": [
        "names = list(tweets_dicts.keys())"
      ],
      "execution_count": null,
      "outputs": []
    },
    {
      "cell_type": "code",
      "metadata": {
        "id": "8Lmv4qWtHXPj"
      },
      "source": [
        "values = list(tweets_dicts.values())"
      ],
      "execution_count": null,
      "outputs": []
    },
    {
      "cell_type": "code",
      "metadata": {
        "id": "KmF5MS5XOaM4"
      },
      "source": [
        "values_brasil = values[0]\n",
        "print(values_brasil)"
      ],
      "execution_count": null,
      "outputs": []
    },
    {
      "cell_type": "code",
      "metadata": {
        "id": "VGtsaoYiN5z_"
      },
      "source": [
        "for i in range(len(values)):\n",
        "      values_outros = sum(values)\n",
        "values_outros = values_outros - values[0]\n",
        "print(values_outros)\n",
        "\n",
        "Grafico_pizza = {\"Brazil\" : values_brasil, \"Outros\":values_outros}\n",
        " "
      ],
      "execution_count": null,
      "outputs": []
    },
    {
      "cell_type": "code",
      "metadata": {
        "id": "gZomY8BXO3aB"
      },
      "source": [
        "print(Grafico_pizza)\n",
        "nomes_gp = list(Grafico_pizza.keys())\n",
        "valores_gp = list(Grafico_pizza.values())"
      ],
      "execution_count": null,
      "outputs": []
    },
    {
      "cell_type": "code",
      "metadata": {
        "id": "NNh7NiL9Hozz"
      },
      "source": [
        "fig = plt.figure(figsize=(150,30))\n",
        "ax = fig.add_axes([0,0,1,1])\n",
        "ax.bar(names,values)\n",
        "plt.show()"
      ],
      "execution_count": null,
      "outputs": []
    },
    {
      "cell_type": "markdown",
      "metadata": {
        "id": "9A5qlAOLMbmG"
      },
      "source": [
        "####Fazendo o gráfico em pizza"
      ]
    },
    {
      "cell_type": "code",
      "metadata": {
        "id": "1-cR2k08HdBU"
      },
      "source": [
        "# Pie chart, where the slices will be ordered and plotted counter-clockwise:\n",
        "#labels = 'Frogs', 'Hogs', 'Dogs', 'Logs'\n",
        "#sizes = [15, 30, 45, 10]\n",
        "#explode = (0, 0.1, 0, 0)  # only \"explode\" the 2nd slice (i.e. 'Hogs')\n",
        "\n",
        "fig1, ax1 = plt.subplots()\n",
        "ax1.pie(valores_gp, labels=nomes_gp, autopct='%1.1f%%',\n",
        "        shadow=True, startangle=90)\n",
        "ax1.axis('equal')  # Equal aspect ratio ensures that pie is drawn as a circle.\n",
        "plt.title(\"Países\")\n",
        "plt.show()"
      ],
      "execution_count": null,
      "outputs": []
    },
    {
      "cell_type": "code",
      "metadata": {
        "id": "-E5pAFeutmRx"
      },
      "source": [
        "\"\"\"\n",
        "\n",
        "teste.plot()\n",
        "plt.title('Graf teste') #adicionando o título\n",
        "plt.xlabel('funciona')\n",
        "plt.ylabel('sim')\n",
        "plt.show()\n",
        "\"\"\""
      ],
      "execution_count": null,
      "outputs": []
    },
    {
      "cell_type": "code",
      "metadata": {
        "id": "VgqJw-LasbBA"
      },
      "source": [
        "\"\"\"cidadesUniq = dados.lugar.value_counts\n",
        "cidadesUniq = pd.DataFrame(cidadesUniq)\"\"\""
      ],
      "execution_count": null,
      "outputs": []
    },
    {
      "cell_type": "code",
      "metadata": {
        "id": "HJpcV6U2y094"
      },
      "source": [
        "\"\"\"type(cidadesUniq)\"\"\""
      ],
      "execution_count": null,
      "outputs": []
    },
    {
      "cell_type": "markdown",
      "metadata": {
        "id": "cjUON1l9R4iL"
      },
      "source": [
        "####Gráfico para ver as cidades do Brasil"
      ]
    },
    {
      "cell_type": "markdown",
      "metadata": {
        "id": "TULhAbKiSslx"
      },
      "source": [
        "####Gráfico para ver os idiomas\n"
      ]
    },
    {
      "cell_type": "code",
      "metadata": {
        "id": "5xd4-aQ_licr"
      },
      "source": [
        "idioma = dados.idioma.value_counts()"
      ],
      "execution_count": null,
      "outputs": []
    },
    {
      "cell_type": "code",
      "metadata": {
        "id": "T6ai_c5nln64"
      },
      "source": [
        "idioma = idioma.to_dict()"
      ],
      "execution_count": null,
      "outputs": []
    },
    {
      "cell_type": "code",
      "metadata": {
        "id": "nvpwozmfl8Dd"
      },
      "source": [
        "idioma"
      ],
      "execution_count": null,
      "outputs": []
    },
    {
      "cell_type": "code",
      "metadata": {
        "id": "nW4GbXMKlqZW"
      },
      "source": [
        "idiomaChave = idioma.keys()\n",
        "idiomaValues = idioma.values()"
      ],
      "execution_count": null,
      "outputs": []
    },
    {
      "cell_type": "code",
      "metadata": {
        "id": "HazsA4LPndy9"
      },
      "source": [
        "#Gráfico em Barras para os idiomas\n",
        "fig = plt.figure(figsize=(150,150))\n",
        "ax = fig.add_axes([0,0,1,1])\n",
        "ax.bar(idiomaChave,idiomaValues)\n",
        "plt.show()"
      ],
      "execution_count": null,
      "outputs": []
    },
    {
      "cell_type": "code",
      "metadata": {
        "id": "as5q_W8FlxOA"
      },
      "source": [
        "#Gráfico em Pizza para os idiomas\n",
        "fig1, ax1 = plt.subplots()\n",
        "ax1.pie(idiomaValues, labels=idiomaChave, autopct='%1.1f%%',\n",
        "        shadow=True, startangle=90)\n",
        "ax1.axis('equal')  # Equal aspect ratio ensures that pie is drawn as a circle.\n",
        "plt.title(\"IDIOMA\")\n",
        "plt.show()"
      ],
      "execution_count": null,
      "outputs": []
    },
    {
      "cell_type": "code",
      "metadata": {
        "id": "b2um-363SJ0o"
      },
      "source": [
        ""
      ],
      "execution_count": null,
      "outputs": []
    },
    {
      "cell_type": "markdown",
      "metadata": {
        "id": "hNwnGC__4A1j"
      },
      "source": [
        "###Coisas Extas"
      ]
    },
    {
      "cell_type": "markdown",
      "metadata": {
        "id": "PrvsXyYg2AwI"
      },
      "source": [
        "####Criando uma copia do dataframe \n"
      ]
    },
    {
      "cell_type": "code",
      "metadata": {
        "id": "o7upq2O1y2ee"
      },
      "source": [
        "dados2 = dados.copy()"
      ],
      "execution_count": null,
      "outputs": []
    },
    {
      "cell_type": "markdown",
      "metadata": {
        "id": "rc-yIxzsf8j-"
      },
      "source": [
        "####Verificando se tem dados duplicados e limpando os duplicados\n",
        "\n"
      ]
    },
    {
      "cell_type": "code",
      "metadata": {
        "id": "l5Ha4Z2Qi3ix"
      },
      "source": [
        "#verificando\n",
        "dados2.duplicated()"
      ],
      "execution_count": null,
      "outputs": []
    },
    {
      "cell_type": "code",
      "metadata": {
        "id": "wgAbQys8f8Fu"
      },
      "source": [
        "#Limpando\n",
        "dados2 = dados2.drop_duplicates()"
      ],
      "execution_count": null,
      "outputs": []
    },
    {
      "cell_type": "code",
      "metadata": {
        "id": "CbDB-jaVitv3"
      },
      "source": [
        "#pouca diferença entre linhas duplicadas\n",
        "dados2.shape"
      ],
      "execution_count": null,
      "outputs": []
    },
    {
      "cell_type": "markdown",
      "metadata": {
        "id": "IkLj1OY32fTI"
      },
      "source": [
        "####limpando se tem dados em branco (NaN)"
      ]
    },
    {
      "cell_type": "code",
      "metadata": {
        "id": "sdBhzqbtiw3Z"
      },
      "source": [
        "dados2.dropna()"
      ],
      "execution_count": null,
      "outputs": []
    },
    {
      "cell_type": "code",
      "metadata": {
        "id": "qQ381egokhZk"
      },
      "source": [
        "dados2.shape"
      ],
      "execution_count": null,
      "outputs": []
    },
    {
      "cell_type": "markdown",
      "metadata": {
        "id": "-yeHDfwj4T9m"
      },
      "source": [
        "##2. As mensagens foram pré-processadas para que as perguntas (questões) fossem identificadas.Essa coleção de perguntas corresponde ao dataset \"DuvidasDB\". A seguir, a equipe deve apresentar as estat´ısticas sobre esses dados."
      ]
    },
    {
      "cell_type": "markdown",
      "metadata": {
        "id": "rvNPYILLkkBa"
      },
      "source": [
        "dados.texto.str.contains('?')"
      ]
    },
    {
      "cell_type": "code",
      "metadata": {
        "id": "CpDQwm0HknqH"
      },
      "source": [
        "dados.head()"
      ],
      "execution_count": null,
      "outputs": []
    },
    {
      "cell_type": "code",
      "metadata": {
        "id": "4QfZI2m0kfDB"
      },
      "source": [
        "dados['texto'][0]"
      ],
      "execution_count": null,
      "outputs": []
    },
    {
      "cell_type": "code",
      "metadata": {
        "id": "jWjCAVJTkaMZ"
      },
      "source": [
        "dados.iloc[0]"
      ],
      "execution_count": null,
      "outputs": []
    },
    {
      "cell_type": "markdown",
      "metadata": {
        "id": "l0NSP0Vz6XEx"
      },
      "source": [
        "#### Criando o DuvidasDB .\n"
      ]
    },
    {
      "cell_type": "code",
      "metadata": {
        "id": "unNyZ2RWEEP3"
      },
      "source": [
        "\n",
        "nltk.download('punkt')\n",
        "\n",
        "df = dados.loc[dados['texto'].str.contains('?', regex=False) == True]\n",
        "df"
      ],
      "execution_count": null,
      "outputs": []
    },
    {
      "cell_type": "code",
      "metadata": {
        "id": "J4mDhLu8FpHf"
      },
      "source": [
        "q=  sent_tokenize(df['texto'][0])\n",
        "q\n"
      ],
      "execution_count": null,
      "outputs": []
    },
    {
      "cell_type": "code",
      "metadata": {
        "id": "9IPBf7LyZUBk"
      },
      "source": [
        "\"\"\"for i in range(len(df)):\n",
        "  if i < 10:\n",
        "    print(i)\n",
        "\"\"\"\n",
        "list(df)"
      ],
      "execution_count": null,
      "outputs": []
    },
    {
      "cell_type": "code",
      "metadata": {
        "id": "i0faA8l44i5V"
      },
      "source": [
        "#dadosDB = sent_tokenize(dados.texto('?'))"
      ],
      "execution_count": null,
      "outputs": []
    },
    {
      "cell_type": "code",
      "metadata": {
        "id": "zPCNewMiEE0o"
      },
      "source": [
        "#Tentando splitar o texto \n",
        "\"\"\"dadosDB = pd.DataFrame(columns=['usuario', 'texto'])\n",
        "\n",
        "for idx, usuario, texto in df.itertuples():\n",
        "    texto_perguntas = (i.lower() for i in texto.split('?'))\n",
        "\n",
        "    dadosDB = dadosDB.append(\n",
        "        [{'usuario': usuario, 'texto': texto} for nw in texto_perguntas],\n",
        "        ignore_index=True\n",
        "    )\"\"\""
      ],
      "execution_count": null,
      "outputs": []
    },
    {
      "cell_type": "code",
      "metadata": {
        "id": "18dhzSWZ_4tz"
      },
      "source": [
        "texto = df.texto"
      ],
      "execution_count": null,
      "outputs": []
    },
    {
      "cell_type": "code",
      "metadata": {
        "id": "4L1DDZ3wA8U0"
      },
      "source": [
        "texto = texto.dropna()"
      ],
      "execution_count": null,
      "outputs": []
    },
    {
      "cell_type": "code",
      "metadata": {
        "id": "R3vXTYz_C0XM"
      },
      "source": [
        "texto = list(texto)"
      ],
      "execution_count": null,
      "outputs": []
    },
    {
      "cell_type": "code",
      "metadata": {
        "id": "in3IHQ9bG1TP"
      },
      "source": [
        "texto = tuple(texto)"
      ],
      "execution_count": null,
      "outputs": []
    },
    {
      "cell_type": "code",
      "metadata": {
        "id": "ip6njkTdHvCX"
      },
      "source": [
        "setencatpl = ()"
      ],
      "execution_count": null,
      "outputs": []
    },
    {
      "cell_type": "code",
      "metadata": {
        "id": "kXtEKS4O-fyE"
      },
      "source": [
        "\"\"\"for i in range(len(texto)):\n",
        "  perg = sent_tokenize(texto[i])\n",
        "  sentenca.append(perg) \n",
        "#re.compile('[.!?]')\"\"\""
      ],
      "execution_count": null,
      "outputs": []
    },
    {
      "cell_type": "code",
      "metadata": {
        "id": "GG9x1wtQBmvH"
      },
      "source": [
        "tuple(sentenca)"
      ],
      "execution_count": null,
      "outputs": []
    },
    {
      "cell_type": "markdown",
      "metadata": {
        "id": "XpHhGRV2Qoow"
      },
      "source": [
        "####duvidasDB"
      ]
    },
    {
      "cell_type": "code",
      "metadata": {
        "id": "S3ZPTP7KQtpZ"
      },
      "source": [
        "df = dados.loc[dados['texto'].str.contains('?', regex=False) == True]\n",
        "df.head()"
      ],
      "execution_count": null,
      "outputs": []
    },
    {
      "cell_type": "markdown",
      "metadata": {
        "id": "gP9DVPieSaad"
      },
      "source": [
        "limpando nan"
      ]
    },
    {
      "cell_type": "code",
      "metadata": {
        "id": "U1nqn8i2Scy7"
      },
      "source": [
        "df.dropna()"
      ],
      "execution_count": null,
      "outputs": []
    },
    {
      "cell_type": "markdown",
      "metadata": {
        "id": "YTG8gxfRSr8S"
      },
      "source": [
        "Organizar Index"
      ]
    },
    {
      "cell_type": "code",
      "metadata": {
        "id": "86ldIK-BSvH2"
      },
      "source": [
        "x = []\n",
        "for i in range(len(df)):\n",
        "  x.append(i)"
      ],
      "execution_count": null,
      "outputs": []
    },
    {
      "cell_type": "code",
      "metadata": {
        "id": "k_U6QaiNS0TN"
      },
      "source": [
        "df.index = pd.Index(x)\n",
        "df.head(10)"
      ],
      "execution_count": null,
      "outputs": []
    },
    {
      "cell_type": "markdown",
      "metadata": {
        "id": "1GspCJaDTCVe"
      },
      "source": [
        "Criar o duvidasDB a partir do df"
      ]
    },
    {
      "cell_type": "code",
      "metadata": {
        "id": "qQNJVL03TDVD"
      },
      "source": [
        "duvidasDB = pd.DataFrame(columns=['duvida','id_df','doença','medicamento','organizacao','pessoa','outro'])"
      ],
      "execution_count": null,
      "outputs": []
    },
    {
      "cell_type": "markdown",
      "metadata": {
        "id": "0l2euwcITXQ2"
      },
      "source": [
        "funçao de inserir uma linha no novo dataframe (link: https://pt.stackoverflow.com/questions/319032/como-inserir-uma-linha-em-um-dataframe-pandas-no-meio-de-outras-linhas)"
      ]
    },
    {
      "cell_type": "code",
      "metadata": {
        "id": "6mumAfJiTWkh"
      },
      "source": [
        "def inserir_linha(idx, dfx, df_inserir):\n",
        "    dfA = dfx.iloc[:idx, ]\n",
        "    dfB = dfx.iloc[idx:, ]\n",
        "\n",
        "    dfx = dfA.append(df_inserir).append(dfB).reset_index(drop = True)\n",
        "\n",
        "    return dfx"
      ],
      "execution_count": null,
      "outputs": []
    },
    {
      "cell_type": "markdown",
      "metadata": {
        "id": "eOXTRGd1Tknc"
      },
      "source": [
        "Inserir no duvidasDB"
      ]
    },
    {
      "cell_type": "code",
      "metadata": {
        "id": "DyehL0Qs52o1"
      },
      "source": [
        "dictDoenca = {1:['covid','coronavirus','covid19','covid-19','covid 19','coronavírus'],2:'Dengue',3:'problemas respiratorios',4:'virus chines'}"
      ],
      "execution_count": null,
      "outputs": []
    },
    {
      "cell_type": "code",
      "metadata": {
        "id": "63NdaLFH55rZ"
      },
      "source": [
        "dictMedicamento = {1:'chá',2:'anita',3:'dorflex',4:['cloroquina','hidroxocloroquina'],5:'vacina',6:'azitromicina',}"
      ],
      "execution_count": null,
      "outputs": []
    },
    {
      "cell_type": "code",
      "metadata": {
        "id": "LezpE9ln58Xu"
      },
      "source": [
        "dictOrganizacao = {1:\"governo chinês\",2:\"china\",3:\"comunismo\",4:'brasil',5:\"brazil\",6:'europa',7:\"estados unidos\",8:\"eua\",9:\"onu\",10:\"oms\",11:[\"mídia\",'midia'],12:'congresso'}"
      ],
      "execution_count": null,
      "outputs": []
    },
    {
      "cell_type": "code",
      "metadata": {
        "id": "UZl62OE_5-Y8"
      },
      "source": [
        "dictPessoa = {1:['bozo','bolsonaro','boso','bilorilo','bonoro','presidente do brasil','@jairbolsonaro'],2:['@donaldtrump','donald','trump','presidente americano'],3:'Tedros ',4:['ministro da saude','ministro da saúde','teich','nelson','@lhmandetta','@teichnelson'],5:'infectologista',6:['felipe neto','@felipeneto']}"
      ],
      "execution_count": null,
      "outputs": []
    },
    {
      "cell_type": "code",
      "metadata": {
        "id": "5cSR87f96Aqj"
      },
      "source": [
        "dictOutros = {1:'prioridades',2:'terror',3:'cura',4:'morte',5:'genocida',6:'transmissão',7:'grupo de risco',8:'distanciamento',9:'teste rapido',10:'isolamento',11:'lockdown',12:'quarentena',13:'aglomeração',14:'abertura',15:'economia',16:'fome',17:['auxilio','coronavoucher','600 reais']}"
      ],
      "execution_count": null,
      "outputs": []
    },
    {
      "cell_type": "code",
      "metadata": {
        "id": "wf8xtoFuTqW3"
      },
      "source": [
        "cont = 0\n"
      ],
      "execution_count": null,
      "outputs": []
    },
    {
      "cell_type": "code",
      "metadata": {
        "id": "0ZZYQMV5Ts35"
      },
      "source": [
        "#Código para Gerar o Duvidas DB - com esse código geramos o dado persistido\n",
        "\"\"\"for i in range(len(df[\"texto\"])):\n",
        "  aux = []\n",
        "  vet=[]\n",
        "  t = df['texto'][i]\n",
        "  x=re.split(r'[#.\\n]\\s*', t)\n",
        "  for j in range(len(x)):\n",
        "    cop = x[j]\n",
        "    y= cop.find(\"?\")\n",
        "    if(y != -1):\n",
        "      cop = cop[0:y+1]\n",
        "      aux.append(cop)\n",
        "       \n",
        "  for w in range(len(aux)): \n",
        "    d_iserido = d = {'duvida': [aux[w]], 'id_df': [i]}\n",
        "    df_iserido = pd.DataFrame(data = d_iserido)\n",
        "    duvidasDB = inserir_linha(cont, duvidasDB, df_iserido) \n",
        "    cont+=1 \"\"\""
      ],
      "execution_count": null,
      "outputs": []
    },
    {
      "cell_type": "markdown",
      "metadata": {
        "id": "VrfRyX1MId0c"
      },
      "source": [
        "####Transformando o duvidasDB em um csv para enviar para o google Drive"
      ]
    },
    {
      "cell_type": "code",
      "metadata": {
        "id": "yAUnY8n9LM2F"
      },
      "source": [
        "#Transformar o duvidasDB em um arquivo de CSV\n",
        "#duvidasDB.to_csv('dvds.csv')"
      ],
      "execution_count": null,
      "outputs": []
    },
    {
      "cell_type": "markdown",
      "metadata": {
        "id": "RImlDDTiIkVk"
      },
      "source": [
        "####Enviando o arquivo para o google drive"
      ]
    },
    {
      "cell_type": "code",
      "metadata": {
        "id": "y_mtzqu_LXmr"
      },
      "source": [
        "#Copiar o arquivo CSV para o google Drive\n",
        "#!cp dvds.csv \"/content/drive/Shared drives/trabalhomodulo2/\""
      ],
      "execution_count": null,
      "outputs": []
    },
    {
      "cell_type": "markdown",
      "metadata": {
        "id": "Ljf32mdMOvTN"
      },
      "source": [
        "link para usar o arquivo duvidasDB(dvds.csv) \n",
        "https://drive.google.com/file/d/1-2zjExHLOhDa26ZsVRwtOZKFPX1Isu_c/view?usp=sharing"
      ]
    },
    {
      "cell_type": "markdown",
      "metadata": {
        "id": "h_tcdvItG8C8"
      },
      "source": [
        "#Ler .csv"
      ]
    },
    {
      "cell_type": "markdown",
      "metadata": {
        "id": "zhJNP-54Itsm"
      },
      "source": [
        "##Acessando o drive"
      ]
    },
    {
      "cell_type": "code",
      "metadata": {
        "id": "kOzvbJVXG_At"
      },
      "source": [
        "from google.colab import drive\n",
        "drive.mount('/content/drive')"
      ],
      "execution_count": null,
      "outputs": []
    },
    {
      "cell_type": "markdown",
      "metadata": {
        "id": "XY9NBMMtI10i"
      },
      "source": [
        "##lendo o csv usando o pandas duvidasDB"
      ]
    },
    {
      "cell_type": "code",
      "metadata": {
        "id": "w642kfdtHDFO"
      },
      "source": [
        "duvidasDB = pd.read_csv('/content/drive/Shared drives/trabalhomodulo2/dvds.csv')"
      ],
      "execution_count": null,
      "outputs": []
    },
    {
      "cell_type": "markdown",
      "metadata": {
        "id": "ZOopwfa7JA-a"
      },
      "source": [
        "##Criando o Dataframe DuvidasDB com os dados persistidos\n"
      ]
    },
    {
      "cell_type": "code",
      "metadata": {
        "id": "p7kTjXFRHFmd"
      },
      "source": [
        "duvidasDB = pd.DataFrame(duvidasDB)\n"
      ],
      "execution_count": null,
      "outputs": []
    },
    {
      "cell_type": "code",
      "metadata": {
        "id": "Pf-FkDPXZGFP"
      },
      "source": [
        "duvidasDB.head()"
      ],
      "execution_count": null,
      "outputs": []
    },
    {
      "cell_type": "markdown",
      "metadata": {
        "id": "8yfKm5zXHvZx"
      },
      "source": [
        "#Preencher DuvidasDB"
      ]
    },
    {
      "cell_type": "markdown",
      "metadata": {
        "id": "ScrzgLl0H9Dn"
      },
      "source": [
        "Doença"
      ]
    },
    {
      "cell_type": "code",
      "metadata": {
        "id": "zuRsKD8aH3W1"
      },
      "source": [
        "for i in range(len(duvidasDB)): \n",
        "  verificador = False \n",
        "  aux = []\n",
        "  vet=[]\n",
        "  t = duvidasDB['duvida'][i]\n",
        "  t =  t.lower()\n",
        "  x = re.split(r'[#. \\n?]\\s*',t)\n",
        "  for j in range(len(x)):\n",
        "    cop = x[j]\n",
        "    #y= cop.find(\"?\")\n",
        "    for w in range(len(dictDoenca)):\n",
        "      w=w+1      \n",
        "      if type(dictDoenca[w]) == str:\n",
        "        if cop == dictDoenca[w]:\n",
        "          vericicador = True\n",
        "          chave = w#valor da chave\n",
        "      elif type(dictDoenca[w]) == list : #verifica se eh uma lista\n",
        "        if cop in dictDoenca[w]:# verifica esta dentro da lista [covid, c19]\n",
        "          verificador = True\n",
        "          chave = w\n",
        "  if verificador:    \n",
        "    duvidasDB['doença'][i] = chave"
      ],
      "execution_count": null,
      "outputs": []
    },
    {
      "cell_type": "markdown",
      "metadata": {
        "id": "AhjQUUYyIDC5"
      },
      "source": [
        "Medicamento"
      ]
    },
    {
      "cell_type": "code",
      "metadata": {
        "id": "Y2eIcbINIGEQ"
      },
      "source": [
        "for i in range(len(duvidasDB)):\n",
        "  verificador = False \n",
        "  aux = []\n",
        "  vet=[]\n",
        "  t = duvidasDB['duvida'][i]\n",
        "  t =  t.lower()\n",
        "  x = re.split(r'[#. \\n?]\\s*',t)\n",
        "  for j in range(len(x)):\n",
        "    cop = x[j]\n",
        "    #y= cop.find(\"?\")\n",
        "    for w in range(len(dictMedicamento)):\n",
        "      w=w+1      \n",
        "      if type(dictMedicamento[w]) == str:\n",
        "        if cop == dictMedicamento[w]:\n",
        "          vericicador = True\n",
        "          chave = w#valor da chave\n",
        "      elif type(dictMedicamento[w]) == list : #verifica se eh uma lista\n",
        "        if cop in dictMedicamento[w]:# verifica esta dentro da lista [covid, c19]\n",
        "          verificador = True\n",
        "          chave = w\n",
        "  if verificador:  \n",
        "    print(i)  \n",
        "    duvidasDB['medicamento'][i] = chave"
      ],
      "execution_count": null,
      "outputs": []
    },
    {
      "cell_type": "markdown",
      "metadata": {
        "id": "cGQxOY2aIJpB"
      },
      "source": [
        "organizaçao"
      ]
    },
    {
      "cell_type": "code",
      "metadata": {
        "id": "LW9nFiH3ILRQ"
      },
      "source": [
        "for i in range(len(duvidasDB)):\n",
        "  verificador = False \n",
        "  aux = []\n",
        "  vet=[]\n",
        "  t = duvidasDB['duvida'][i]\n",
        "  t =  t.lower()\n",
        "  x = re.split(r'[#. \\n?]\\s*',t)\n",
        "  for j in range(len(x)):\n",
        "    cop = x[j]\n",
        "    #y= cop.find(\"?\")\n",
        "    for w in range(len(dictOrganizacao)):\n",
        "      w=w+1      \n",
        "      if type(dictOrganizacao[w]) == str:\n",
        "        if cop == dictOrganizacao[w]:\n",
        "          vericicador = True\n",
        "          chave = w#valor da chave\n",
        "      elif type(dictOrganizacao[w]) == list : #verifica se eh uma lista\n",
        "        if cop in dictOrganizacao[w]:# verifica esta dentro da lista [covid, c19]\n",
        "          verificador = True\n",
        "          chave = w\n",
        "  if verificador:  \n",
        "      \n",
        "    duvidasDB['organizacao'][i] = chave"
      ],
      "execution_count": null,
      "outputs": []
    },
    {
      "cell_type": "markdown",
      "metadata": {
        "id": "QGcWwRK2IQlm"
      },
      "source": [
        "Pessoa"
      ]
    },
    {
      "cell_type": "code",
      "metadata": {
        "id": "NrSW1jyGIUZK"
      },
      "source": [
        "for i in range(len(duvidasDB)):\n",
        "  verificador = False \n",
        "  aux = []\n",
        "  vet=[]\n",
        "  t = duvidasDB['duvida'][i]\n",
        "  t =  t.lower()\n",
        "  x = re.split(r'[#. \\n?]\\s*',t)\n",
        "  for j in range(len(x)):\n",
        "    cop = x[j]\n",
        "    #y= cop.find(\"?\")\n",
        "    for w in range(len(dictPessoa)):\n",
        "      w=w+1      \n",
        "      if type(dictPessoa[w]) == str:\n",
        "        if cop == dictPessoa[w]:\n",
        "          vericicador = True\n",
        "          chave = w#valor da chave\n",
        "      elif type(dictPessoa[w]) == list : #verifica se eh uma lista\n",
        "        if cop in dictPessoa[w]:# verifica esta dentro da lista [covid, c19]\n",
        "          verificador = True\n",
        "          chave = w\n",
        "  if verificador:  \n",
        "      \n",
        "    duvidasDB['pessoa'][i] = chave"
      ],
      "execution_count": null,
      "outputs": []
    },
    {
      "cell_type": "markdown",
      "metadata": {
        "id": "9Y1THNQTIX_x"
      },
      "source": [
        "Outro"
      ]
    },
    {
      "cell_type": "code",
      "metadata": {
        "id": "4W0mH7LkIabp"
      },
      "source": [
        "for i in range(len(duvidasDB)):\n",
        "  verificador = False \n",
        "  aux = []\n",
        "  vet=[]\n",
        "  t = duvidasDB['duvida'][i]\n",
        "  t =  t.lower()\n",
        "  x = re.split(r'[#. \\n?]\\s*',t)\n",
        "  for j in range(len(x)):\n",
        "    cop = x[j]\n",
        "    #y= cop.find(\"?\")\n",
        "    for w in range(len(dictOutros)):\n",
        "      w=w+1      \n",
        "      if type(dictOutros[w]) == str:\n",
        "        if cop == dictOutros[w]:\n",
        "          vericicador = True\n",
        "          chave = w#valor da chave\n",
        "      elif type(dictOutros[w]) == list : #verifica se eh uma lista\n",
        "        if cop in dictOutros[w]:# verifica esta dentro da lista [covid, c19]\n",
        "          verificador = True\n",
        "          chave = w\n",
        "  if verificador:  \n",
        "    \n",
        "    duvidasDB['outro'][i] = chave"
      ],
      "execution_count": null,
      "outputs": []
    },
    {
      "cell_type": "code",
      "metadata": {
        "id": "9G4bK5krYEwK"
      },
      "source": [
        "#Renomear a coluna data para o nome data\n",
        "df.rename(columns={'dados-curso-completo.csv':'datas'}, inplace=True)"
      ],
      "execution_count": null,
      "outputs": []
    },
    {
      "cell_type": "code",
      "metadata": {
        "id": "cxh3U-dIZssq"
      },
      "source": [
        "duvidasDB.head(20)"
      ],
      "execution_count": null,
      "outputs": []
    },
    {
      "cell_type": "code",
      "metadata": {
        "id": "qh_y3iaIZuaR"
      },
      "source": [
        "\"\"\"y = df[0:2]\n",
        "y['datas'] = pd.to_datetime(y['datas'], format='%Y-%m-%d %H:%M:%S.%f')\"\"\""
      ],
      "execution_count": null,
      "outputs": []
    },
    {
      "cell_type": "markdown",
      "metadata": {
        "id": "VqzQwknvecp9"
      },
      "source": [
        "\n",
        "\n",
        "Felipe Brasil Guimaraes20:04\n",
        "qual tema mais debatido mes a mes?\n",
        "quem foi o mais citado mes a mes?"
      ]
    },
    {
      "cell_type": "code",
      "metadata": {
        "id": "AE4saLYhemAK"
      },
      "source": [
        "df.columns"
      ],
      "execution_count": null,
      "outputs": []
    },
    {
      "cell_type": "code",
      "metadata": {
        "id": "uK9wflhLg-DP"
      },
      "source": [
        "duvidasDB.columns"
      ],
      "execution_count": null,
      "outputs": []
    },
    {
      "cell_type": "code",
      "metadata": {
        "id": "ToHP2c5JhAOh"
      },
      "source": [
        "x = []\n",
        "for i in range(len(df)):\n",
        "  x.append(i)\n"
      ],
      "execution_count": null,
      "outputs": []
    },
    {
      "cell_type": "code",
      "metadata": {
        "id": "u1T_yXsxie1S"
      },
      "source": [
        "df['IDdf'] = x\n"
      ],
      "execution_count": null,
      "outputs": []
    },
    {
      "cell_type": "code",
      "metadata": {
        "id": "H9Jy3YeIik4f"
      },
      "source": [
        "duvidasDB.rename(columns={'id_df': 'IDdf'}, inplace=True)"
      ],
      "execution_count": null,
      "outputs": []
    },
    {
      "cell_type": "code",
      "metadata": {
        "id": "Jx1p10WIebcP"
      },
      "source": [
        "tab = pd.merge(df, duvidasDB, on='IDdf')"
      ],
      "execution_count": null,
      "outputs": []
    },
    {
      "cell_type": "code",
      "metadata": {
        "id": "WE0sOciZmcLT"
      },
      "source": [
        "tab['medicamento'].value_counts()"
      ],
      "execution_count": null,
      "outputs": []
    },
    {
      "cell_type": "code",
      "metadata": {
        "id": "_gcT294anx08"
      },
      "source": [
        "tab.groupby(['pais'])"
      ],
      "execution_count": null,
      "outputs": []
    },
    {
      "cell_type": "code",
      "metadata": {
        "id": "sqIDJ5cRk-K0"
      },
      "source": [
        "tab['pais'].value_counts()"
      ],
      "execution_count": null,
      "outputs": []
    },
    {
      "cell_type": "code",
      "metadata": {
        "id": "zK2ShgXUi9lm"
      },
      "source": [
        "tab[tab['duvida'].notnull()]"
      ],
      "execution_count": null,
      "outputs": []
    },
    {
      "cell_type": "markdown",
      "metadata": {
        "id": "kdzgJSoaqZKG"
      },
      "source": [
        "## 1- qual pais mais gerou duvidas?"
      ]
    },
    {
      "cell_type": "code",
      "metadata": {
        "id": "JMFkV1KoptCI"
      },
      "source": [
        "p = tab['pais'].value_counts()\n",
        "kp = p.keys()\n",
        "vp = p.values"
      ],
      "execution_count": null,
      "outputs": []
    },
    {
      "cell_type": "code",
      "metadata": {
        "id": "VMMf_vBLpxC0"
      },
      "source": [
        "v_bras = vp[0]\n",
        "v_outros = sum(vp) - vp[0]\n",
        "\n",
        "Grafico_pizza = {\"Brazil\" : v_bras, \"Outros\":v_outros}\n",
        "\n",
        "nomes_gp = list(Grafico_pizza.keys())\n",
        "valores_gp = list(Grafico_pizza.values())\n",
        "\n",
        "fig1, ax1 = plt.subplots()\n",
        "ax1.pie(valores_gp, labels=nomes_gp, autopct='%1.1f%%',\n",
        "        shadow=True, startangle=90)\n",
        "ax1.axis('equal')  # Equal aspect ratio ensures that pie is drawn as a circle.\n",
        "plt.title(\"Países que Perguntaram\")\n",
        "plt.show()"
      ],
      "execution_count": null,
      "outputs": []
    },
    {
      "cell_type": "markdown",
      "metadata": {
        "id": "j93budEMqvhJ"
      },
      "source": [
        "## 2 - qual foi tema mais debatido no mundo e do brasil?"
      ]
    },
    {
      "cell_type": "code",
      "metadata": {
        "id": "DWxZUwmvqVzD"
      },
      "source": [
        ""
      ],
      "execution_count": null,
      "outputs": []
    },
    {
      "cell_type": "markdown",
      "metadata": {
        "id": "IAbi8d4htWhi"
      },
      "source": [
        "**doença**', '**medicamento**', 'organizacao',\n",
        "       '**pessoa**', 'outro'],"
      ]
    },
    {
      "cell_type": "code",
      "metadata": {
        "id": "teRFmefUmRci"
      },
      "source": [
        "tabpessoas = sum(tab['pessoa'].value_counts())"
      ],
      "execution_count": null,
      "outputs": []
    },
    {
      "cell_type": "code",
      "metadata": {
        "id": "SaxExPmzq4HK"
      },
      "source": [
        "tabdoencas = sum(tab['doença'].value_counts())"
      ],
      "execution_count": null,
      "outputs": []
    },
    {
      "cell_type": "code",
      "metadata": {
        "id": "7UEnfHP7v-Nm"
      },
      "source": [
        "tabmedicamento = sum(tab['medicamento'].value_counts())"
      ],
      "execution_count": null,
      "outputs": []
    },
    {
      "cell_type": "code",
      "metadata": {
        "id": "4tLJxUgMsBnN"
      },
      "source": [
        "taborganizacao = sum(tab['organizacao'].value_counts())"
      ],
      "execution_count": null,
      "outputs": []
    },
    {
      "cell_type": "code",
      "metadata": {
        "id": "HmXyxG-wtcpW"
      },
      "source": [
        "taboutro = sum(tab['outro'].value_counts())\n",
        "taboutro"
      ],
      "execution_count": null,
      "outputs": []
    },
    {
      "cell_type": "code",
      "metadata": {
        "id": "UU3vsoTptvVS"
      },
      "source": [
        "\n",
        "plt.bar([1],[tabpessoas], label=\"Pessoas\", color='r')\n",
        "\n",
        "plt.bar([2],[tabdoencas], label=\"Doenças\", color='b')\n",
        "\n",
        "plt.bar([3],[tabmedicamento], label=\"Medicamentos\", color='y')\n",
        "\n",
        "plt.bar([4],[taborganizacao], label=\"Origanizações\", color='m')\n",
        "\n",
        "plt.bar([5],[taboutro], label=\"Outros\", color='k')\n",
        "\n",
        "plt.legend()\n",
        "\n",
        "plt.xlabel('')\n",
        "plt.ylabel('Número de perguntas')\n",
        "\n",
        "plt.title('Título do Gráfico')\n",
        "\n",
        "plt.show()"
      ],
      "execution_count": null,
      "outputs": []
    },
    {
      "cell_type": "code",
      "metadata": {
        "id": "P7cxgg611DbB"
      },
      "source": [
        "import datetime"
      ],
      "execution_count": null,
      "outputs": []
    },
    {
      "cell_type": "code",
      "metadata": {
        "id": "4Sels_080_0b"
      },
      "source": [
        "tab['datas'] = pd.to_datetime(tab['datas'], format='%Y-%m-%d %H:%M:%S.%f')"
      ],
      "execution_count": null,
      "outputs": []
    },
    {
      "cell_type": "code",
      "metadata": {
        "id": "aVwnyjuwcFIZ"
      },
      "source": [
        "aux = tab['datas'][0].datetime.minute"
      ],
      "execution_count": null,
      "outputs": []
    },
    {
      "cell_type": "code",
      "metadata": {
        "id": "nq6nmPfkfSNa"
      },
      "source": [
        "ax = tab['datas'][1].month\n",
        "ax"
      ],
      "execution_count": null,
      "outputs": []
    },
    {
      "cell_type": "code",
      "metadata": {
        "id": "snoSVFJielgY"
      },
      "source": [
        "meses = []"
      ],
      "execution_count": null,
      "outputs": []
    },
    {
      "cell_type": "code",
      "metadata": {
        "id": "f5j2tTYKdAWR"
      },
      "source": [
        "for i in range(len(tab)):\n",
        "  meses.append(tab['datas'][i].month)"
      ],
      "execution_count": null,
      "outputs": []
    },
    {
      "cell_type": "code",
      "metadata": {
        "id": "civg2UjsedCi"
      },
      "source": [
        "tab['mes'] = meses"
      ],
      "execution_count": null,
      "outputs": []
    },
    {
      "cell_type": "code",
      "metadata": {
        "id": "MUBQ74o1klPA"
      },
      "source": [
        "tab.rename(columns={'meses': 'mes'}, inplace=True)"
      ],
      "execution_count": null,
      "outputs": []
    },
    {
      "cell_type": "code",
      "metadata": {
        "id": "_yYqSGENg6D9"
      },
      "source": [
        "tab.head()"
      ],
      "execution_count": null,
      "outputs": []
    },
    {
      "cell_type": "code",
      "metadata": {
        "id": "LenfSqhZkNyq"
      },
      "source": [
        "med = tab.groupby(['mes'])['medicamento'].value_counts()"
      ],
      "execution_count": null,
      "outputs": []
    },
    {
      "cell_type": "code",
      "metadata": {
        "id": "SvDXjEvNlUU9"
      },
      "source": [
        "medchave = med.keys()"
      ],
      "execution_count": null,
      "outputs": []
    },
    {
      "cell_type": "code",
      "metadata": {
        "id": "HgpmArZZl_PQ"
      },
      "source": [
        "medchave[(0,1)]"
      ],
      "execution_count": null,
      "outputs": []
    },
    {
      "cell_type": "code",
      "metadata": {
        "id": "6MbNo9cRnoTq"
      },
      "source": [
        ""
      ],
      "execution_count": null,
      "outputs": []
    },
    {
      "cell_type": "code",
      "metadata": {
        "id": "hIgSxZxJlpS2"
      },
      "source": [
        "medValor = med.values"
      ],
      "execution_count": null,
      "outputs": []
    },
    {
      "cell_type": "code",
      "metadata": {
        "id": "7x9E9gPpsfd9"
      },
      "source": [
        "medcteste"
      ],
      "execution_count": null,
      "outputs": []
    },
    {
      "cell_type": "code",
      "metadata": {
        "id": "GuqENMcGh66j"
      },
      "source": [
        "tab['medicamento'].value_counts()"
      ],
      "execution_count": null,
      "outputs": []
    },
    {
      "cell_type": "code",
      "metadata": {
        "id": "6XGmtxUisHH_"
      },
      "source": [
        "med = tab.groupby(['mes'])['medicamento'].value_counts()\n",
        "x = med.keys()\n",
        "x = x.get_level_values(0)\n",
        "y = med.values"
      ],
      "execution_count": null,
      "outputs": []
    },
    {
      "cell_type": "code",
      "metadata": {
        "id": "Li_mVo__uQPK"
      },
      "source": [
        "tab.groupby(['mes'])['medicamento'].value_counts()"
      ],
      "execution_count": null,
      "outputs": []
    },
    {
      "cell_type": "code",
      "metadata": {
        "id": "UoIKVlzlcYRg"
      },
      "source": [
        "med.keys\n",
        "#{1:'chá',2:'anita',3:'dorflex',4:['cloroquina','hidroxocloroquina'],5:'vacina',6:'azitromicina',}"
      ],
      "execution_count": null,
      "outputs": []
    },
    {
      "cell_type": "code",
      "metadata": {
        "id": "FiSGiHd3t2_Z"
      },
      "source": [
        "quatro = \"Cloroquina :\",y[1]"
      ],
      "execution_count": null,
      "outputs": []
    },
    {
      "cell_type": "code",
      "metadata": {
        "id": "rhYySZ7ctoyV"
      },
      "source": [
        "\"\"\"fig, ax = plt.subplots(2, 3)\n",
        "\n",
        "ax[0, 0].plt.bar(x[0],y[0],width=0.1, label=\"Cloroquina\", color='r')\n",
        "ax[1, 0].plot(range(10), 'b') #row=1, col=0\n",
        "ax[1, 0].plot(range(10), 'b') #row=1, col=0\n",
        "\n",
        "ax[0, 1].plot(range(10), 'g') #row=0, col=1\n",
        "ax[1, 1].plot(range(10), 'k') #row=1, col=1\n",
        "\n",
        "plt.show()\"\"\"\n",
        "plt.bar(1,y[1], label=quatro ,width= 0.4, color='r')\n",
        "plt.bar(2,y[2], label = \"azitromicina\",width= 0.4, color='b')\n",
        "plt.bar(3,y[3], label = 'vacina' ,width= 0.4, color = 'g')\n",
        "plt.bar(4,y[4], label = 'chá',width= 0.4, color = 'y')\n",
        "\n",
        "plt.legend()\n",
        "\n",
        "plt.xlabel('')\n",
        "plt.ylabel('Número de perguntas')\n",
        "\n",
        "plt.title('Título do Gráfico')\n",
        "\n",
        "plt.show()"
      ],
      "execution_count": null,
      "outputs": []
    },
    {
      "cell_type": "code",
      "metadata": {
        "id": "q3whEXW9083r"
      },
      "source": [
        ""
      ],
      "execution_count": null,
      "outputs": []
    }
  ]
}